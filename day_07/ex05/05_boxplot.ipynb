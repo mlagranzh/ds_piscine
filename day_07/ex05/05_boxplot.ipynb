{
 "cells": [
  {
   "cell_type": "code",
   "execution_count": 1,
   "metadata": {},
   "outputs": [
    {
     "name": "stdout",
     "output_type": "stream",
     "text": [
      "УСПЕШНО\n"
     ]
    }
   ],
   "source": [
    "import sqlite3\n",
    "import pandas as pd\n",
    "import matplotlib.pyplot as plt\n",
    "try:\n",
    "    sqlite_connection = sqlite3.connect('data/checking-logs.sqlite.sqlite')\n",
    "except sqlite3.Error as error:\n",
    "    print(\"Ошибка при подключении к sqlite\", error)\n",
    "print('УСПЕШНО')"
   ]
  },
  {
   "cell_type": "code",
   "execution_count": 4,
   "metadata": {},
   "outputs": [],
   "source": [
    "df = pd.read_csv('data/ab-test.csv')"
   ]
  },
  {
   "cell_type": "code",
   "execution_count": 5,
   "metadata": {},
   "outputs": [
    {
     "data": {
      "image/png": "[encoded data removed]",
      "text/plain": [
       "<Figure size 1080x576 with 2 Axes>"
      ]
     },
     "metadata": {
      "needs_background": "light"
     },
     "output_type": "display_data"
    }
   ],
   "source": [
    "fig, ax = plt.subplots(1, 2,\n",
    "                       sharey=True,\n",
    "                       figsize=(15, 8))\n",
    "df[df['time'] == 'after'].boxplot(column='diff',\n",
    "                                  by='group',\n",
    "                                  ax=ax[0],\n",
    "                                  color=dict(boxes='green', whiskers='red',\n",
    "                                             medians='red', caps='red'),\n",
    "                                  boxprops=dict(linewidth=3),\n",
    "                                  medianprops=dict(linewidth=2))\n",
    "df[df['time'] == 'before'].boxplot(column='diff',\n",
    "                                   by='group',\n",
    "                                   ax=ax[1],\n",
    "                                   color=dict(boxes='green', whiskers='red',\n",
    "                                              medians='red', caps='red'),\n",
    "                                   boxprops=dict(linewidth=3),\n",
    "                                   medianprops=dict(linewidth=2))\n",
    "ax[0].set_title('after')\n",
    "ax[1].set_title('before')\n",
    "ax[0].set_facecolor('#F5F5F5')\n",
    "ax[1].set_facecolor('#F5F5F5')\n",
    "fig.suptitle(\n",
    "    'Lag before labs deadlines. After and before the Newsfeed', fontsize=15)\n",
    "plt.show()\n"
   ]
  },
  {
   "cell_type": "markdown",
   "metadata": {},
   "source": [
    "What was the IQR of the control group before the newsfeed?\n"
   ]
  },
  {
   "cell_type": "code",
   "execution_count": 6,
   "metadata": {},
   "outputs": [
    {
     "data": {
      "text/plain": [
       "60"
      ]
     },
     "execution_count": 6,
     "metadata": {},
     "output_type": "execute_result"
    }
   ],
   "source": [
    "iqr = df[(df['time'] == 'before') & (df['group'] == 'test')].describe().loc['75%'].values[0] - \\\n",
    "    df[(df['time'] == 'before') & (df['group'] == 'test')\n",
    "       ].describe().loc['25%'].values[0]\n",
    "round(iqr / 10) * 10"
   ]
  },
  {
   "cell_type": "code",
   "execution_count": null,
   "metadata": {},
   "outputs": [],
   "source": [
    "sqlite_connection.close()"
   ]
  }
 ],
 "metadata": {
  "interpreter": {
   "hash": "aee8b7b246df8f9039afb4144a1f6fd8d2ca17a180786b69acc140d282b71a49"
  },
  "kernelspec": {
   "display_name": "Python 3.10.0 64-bit",
   "language": "python",
   "name": "python3"
  },
  "language_info": {
   "codemirror_mode": {
    "name": "ipython",
    "version": 3
   },
   "file_extension": ".py",
   "mimetype": "text/x-python",
   "name": "python",
   "nbconvert_exporter": "python",
   "pygments_lexer": "ipython3",
   "version": "3.10.0"
  },
  "orig_nbformat": 4
 },
 "nbformat": 4,
 "nbformat_minor": 2
}
