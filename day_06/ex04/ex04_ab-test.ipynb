{
 "cells": [
  {
   "cell_type": "markdown",
   "metadata": {},
   "source": [
    "## EX04"
   ]
  },
  {
   "cell_type": "code",
   "execution_count": 4,
   "metadata": {},
   "outputs": [
    {
     "name": "stdout",
     "output_type": "stream",
     "text": [
      "УСПЕШНО\n"
     ]
    }
   ],
   "source": [
    "import sqlite3\n",
    "import pandas as pd\n",
    "\n",
    "try:\n",
    "    sqlite_connection = sqlite3.connect('../ex02/data/checking-logs.sqlite.sqlite')\n",
    "except sqlite3.Error as error:\n",
    "    print(\"Ошибка при подключении к sqlite\", error)\n",
    "print('УСПЕШНО')"
   ]
  },
  {
   "cell_type": "code",
   "execution_count": 14,
   "metadata": {},
   "outputs": [
    {
     "data": {
      "text/html": [
       "<div>\n",
       "<style scoped>\n",
       "    .dataframe tbody tr th:only-of-type {\n",
       "        vertical-align: middle;\n",
       "    }\n",
       "\n",
       "    .dataframe tbody tr th {\n",
       "        vertical-align: top;\n",
       "    }\n",
       "\n",
       "    .dataframe thead th {\n",
       "        text-align: right;\n",
       "    }\n",
       "</style>\n",
       "<table border=\"1\" class=\"dataframe\">\n",
       "  <thead>\n",
       "    <tr style=\"text-align: right;\">\n",
       "      <th></th>\n",
       "      <th>time</th>\n",
       "      <th>avg(diff)</th>\n",
       "    </tr>\n",
       "  </thead>\n",
       "  <tbody>\n",
       "    <tr>\n",
       "      <th>0</th>\n",
       "      <td>after</td>\n",
       "      <td>-104.6000</td>\n",
       "    </tr>\n",
       "    <tr>\n",
       "      <th>1</th>\n",
       "      <td>before</td>\n",
       "      <td>-60.5625</td>\n",
       "    </tr>\n",
       "  </tbody>\n",
       "</table>\n",
       "</div>"
      ],
      "text/plain": [
       "     time  avg(diff)\n",
       "0   after  -104.6000\n",
       "1  before   -60.5625"
      ]
     },
     "execution_count": 14,
     "metadata": {},
     "output_type": "execute_result"
    }
   ],
   "source": [
    "request =  \\\n",
    "'''\n",
    "SELECT time, avg(diff)\n",
    "FROM (SELECT uid,\n",
    "             CAST( (JulianDay(test.first_commit_ts) - \n",
    "                    JulianDay(datetime(deadlines.deadlines, 'unixepoch'))\n",
    "                    ) * 24 as Integer\n",
    "                  ) as diff,\n",
    "             CASE\n",
    "                  WHEN\n",
    "                        test.first_commit_ts < test.first_view_ts THEN 'before'\n",
    "                  ELSE\n",
    "                        'after' END\n",
    "            AS time\n",
    "\n",
    "       FROM test left join deadlines on test.labname = deadlines.labs\n",
    "       WHERE labname != 'project1'\n",
    "      )\n",
    "\n",
    "WHERE uid in (SELECT uid\n",
    "              FROM (SELECT uid,\n",
    "                  CASE\n",
    "                        WHEN\n",
    "                              test.first_commit_ts < test.first_view_ts THEN 'before'\n",
    "                        ELSE \n",
    "                              'after' END \n",
    "                        AS time\n",
    "                    FROM test\n",
    "                    LEFT JOIN deadlines ON test.labname=deadlines.labs\n",
    "                    WHERE labname != 'project1'\n",
    "                    )\n",
    "               GROUP BY uid\n",
    "               HAVING COUNT(DISTINCT time)=2\n",
    "               )\n",
    "GROUP BY time\n",
    "'''\n",
    "test_results = pd.io.sql.read_sql(request, sqlite_connection)\n",
    "test_results"
   ]
  },
  {
   "cell_type": "code",
   "execution_count": 18,
   "metadata": {},
   "outputs": [
    {
     "data": {
      "text/html": [
       "<div>\n",
       "<style scoped>\n",
       "    .dataframe tbody tr th:only-of-type {\n",
       "        vertical-align: middle;\n",
       "    }\n",
       "\n",
       "    .dataframe tbody tr th {\n",
       "        vertical-align: top;\n",
       "    }\n",
       "\n",
       "    .dataframe thead th {\n",
       "        text-align: right;\n",
       "    }\n",
       "</style>\n",
       "<table border=\"1\" class=\"dataframe\">\n",
       "  <thead>\n",
       "    <tr style=\"text-align: right;\">\n",
       "      <th></th>\n",
       "      <th>time</th>\n",
       "      <th>avg(diff)</th>\n",
       "    </tr>\n",
       "  </thead>\n",
       "  <tbody>\n",
       "    <tr>\n",
       "      <th>0</th>\n",
       "      <td>after</td>\n",
       "      <td>-117.636364</td>\n",
       "    </tr>\n",
       "    <tr>\n",
       "      <th>1</th>\n",
       "      <td>before</td>\n",
       "      <td>-99.464286</td>\n",
       "    </tr>\n",
       "  </tbody>\n",
       "</table>\n",
       "</div>"
      ],
      "text/plain": [
       "     time   avg(diff)\n",
       "0   after -117.636364\n",
       "1  before  -99.464286"
      ]
     },
     "execution_count": 18,
     "metadata": {},
     "output_type": "execute_result"
    }
   ],
   "source": [
    "request = \\\n",
    "'''\n",
    "SELECT time, avg(diff)\n",
    "FROM (SELECT uid,\n",
    "             CAST( (JulianDay(control.first_commit_ts) -\n",
    "                    JulianDay(datetime(deadlines.deadlines, 'unixepoch'))\n",
    "                    ) * 24 as Integer\n",
    "                  ) as diff,\n",
    "             CASE \n",
    "             WHEN control.first_commit_ts < control.first_view_ts \n",
    "                  THEN 'before'\n",
    "             ELSE \n",
    "                  'after' END \n",
    "            AS time\n",
    "            FROM control\n",
    "            LEFT JOIN deadlines ON control.labname=deadlines.labs\n",
    "            WHERE labname != 'project1'\n",
    "      )\n",
    "WHERE uid IN (SELECT uid\n",
    "              FROM (SELECT uid,\n",
    "                           CASE\n",
    "                              WHEN control.first_commit_ts < control.first_view_ts\n",
    "                                     THEN 'before'\n",
    "                              ELSE \n",
    "                                    'after' END \n",
    "                              AS time\n",
    "                    FROM control\n",
    "                    LEFT JOIN deadlines ON control.labname=deadlines.labs\n",
    "                    WHERE labname != 'project1'\n",
    "                    )\n",
    "              GROUP BY uid\n",
    "              HAVING COUNT(distinct time)=2\n",
    "              )\n",
    "GROUP BY time\n",
    "'''\n",
    "control_results = pd.io.sql.read_sql(request, sqlite_connection)\n",
    "control_results"
   ]
  },
  {
   "cell_type": "code",
   "execution_count": null,
   "metadata": {},
   "outputs": [],
   "source": [
    "sqlite_connection.close()"
   ]
  },
  {
   "cell_type": "markdown",
   "metadata": {},
   "source": [
    "## have the answer: did the hypothesis turn out to be true and the page does affect the students’ behavior?\n",
    "YES"
   ]
  }
 ],
 "metadata": {
  "interpreter": {
   "hash": "aee8b7b246df8f9039afb4144a1f6fd8d2ca17a180786b69acc140d282b71a49"
  },
  "kernelspec": {
   "display_name": "Python 3.10.0 64-bit",
   "language": "python",
   "name": "python3"
  },
  "language_info": {
   "codemirror_mode": {
    "name": "ipython",
    "version": 3
   },
   "file_extension": ".py",
   "mimetype": "text/x-python",
   "name": "python",
   "nbconvert_exporter": "python",
   "pygments_lexer": "ipython3",
   "version": "3.7.8"
  },
  "orig_nbformat": 4
 },
 "nbformat": 4,
 "nbformat_minor": 2
}
