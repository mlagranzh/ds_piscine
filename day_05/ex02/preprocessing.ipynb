{
 "cells": [
  {
   "cell_type": "code",
   "execution_count": 103,
   "metadata": {},
   "outputs": [],
   "source": [
    "import pandas as pd"
   ]
  },
  {
   "cell_type": "code",
   "execution_count": 126,
   "metadata": {},
   "outputs": [],
   "source": [
    "df = pd.read_csv('data/auto.csv', sep=',', engine='python', names=('ID','CarNumber','Make_n_model','Refund','Fines','History'),  )"
   ]
  },
  {
   "cell_type": "code",
   "execution_count": 127,
   "metadata": {},
   "outputs": [],
   "source": [
    "df = df.iloc[1:]\n"
   ]
  },
  {
   "cell_type": "code",
   "execution_count": 128,
   "metadata": {},
   "outputs": [
    {
     "data": {
      "text/html": [
       "<div>\n",
       "<style scoped>\n",
       "    .dataframe tbody tr th:only-of-type {\n",
       "        vertical-align: middle;\n",
       "    }\n",
       "\n",
       "    .dataframe tbody tr th {\n",
       "        vertical-align: top;\n",
       "    }\n",
       "\n",
       "    .dataframe thead th {\n",
       "        text-align: right;\n",
       "    }\n",
       "</style>\n",
       "<table border=\"1\" class=\"dataframe\">\n",
       "  <thead>\n",
       "    <tr style=\"text-align: right;\">\n",
       "      <th></th>\n",
       "      <th>CarNumber</th>\n",
       "      <th>Make_n_model</th>\n",
       "      <th>Refund</th>\n",
       "      <th>Fines</th>\n",
       "      <th>History</th>\n",
       "    </tr>\n",
       "    <tr>\n",
       "      <th>ID</th>\n",
       "      <th></th>\n",
       "      <th></th>\n",
       "      <th></th>\n",
       "      <th></th>\n",
       "      <th></th>\n",
       "    </tr>\n",
       "  </thead>\n",
       "  <tbody>\n",
       "    <tr>\n",
       "      <th>0</th>\n",
       "      <td>Y163O8161RUS</td>\n",
       "      <td>Ford Focus</td>\n",
       "      <td>2.0</td>\n",
       "      <td>3200</td>\n",
       "      <td>NaN</td>\n",
       "    </tr>\n",
       "    <tr>\n",
       "      <th>1</th>\n",
       "      <td>E432XX77RUS</td>\n",
       "      <td>Toyota Camry</td>\n",
       "      <td>1.0</td>\n",
       "      <td>6500</td>\n",
       "      <td>NaN</td>\n",
       "    </tr>\n",
       "    <tr>\n",
       "      <th>2</th>\n",
       "      <td>7184TT36RUS</td>\n",
       "      <td>Ford Focus</td>\n",
       "      <td>1.0</td>\n",
       "      <td>2100</td>\n",
       "      <td>NaN</td>\n",
       "    </tr>\n",
       "    <tr>\n",
       "      <th>3</th>\n",
       "      <td>X582HE161RUS</td>\n",
       "      <td>Ford Focus</td>\n",
       "      <td>2.0</td>\n",
       "      <td>2000</td>\n",
       "      <td>NaN</td>\n",
       "    </tr>\n",
       "    <tr>\n",
       "      <th>4</th>\n",
       "      <td>E34877152RUS</td>\n",
       "      <td>Ford Focus</td>\n",
       "      <td>2.0</td>\n",
       "      <td>6100</td>\n",
       "      <td>NaN</td>\n",
       "    </tr>\n",
       "    <tr>\n",
       "      <th>...</th>\n",
       "      <td>...</td>\n",
       "      <td>...</td>\n",
       "      <td>...</td>\n",
       "      <td>...</td>\n",
       "      <td>...</td>\n",
       "    </tr>\n",
       "    <tr>\n",
       "      <th>926</th>\n",
       "      <td>Y163O8161RUS</td>\n",
       "      <td>Ford Focus</td>\n",
       "      <td>2.0</td>\n",
       "      <td>1600</td>\n",
       "      <td>NaN</td>\n",
       "    </tr>\n",
       "    <tr>\n",
       "      <th>927</th>\n",
       "      <td>M0309X197RUS</td>\n",
       "      <td>Ford Focus</td>\n",
       "      <td>1.0</td>\n",
       "      <td>22300</td>\n",
       "      <td>NaN</td>\n",
       "    </tr>\n",
       "    <tr>\n",
       "      <th>928</th>\n",
       "      <td>O673E8197RUS</td>\n",
       "      <td>Ford Focus</td>\n",
       "      <td>2.0</td>\n",
       "      <td>600</td>\n",
       "      <td>NaN</td>\n",
       "    </tr>\n",
       "    <tr>\n",
       "      <th>929</th>\n",
       "      <td>8610T8154RUS</td>\n",
       "      <td>Ford Focus</td>\n",
       "      <td>1.0</td>\n",
       "      <td>2000</td>\n",
       "      <td>NaN</td>\n",
       "    </tr>\n",
       "    <tr>\n",
       "      <th>930</th>\n",
       "      <td>H419XE197RUS</td>\n",
       "      <td>Toyota Corolla</td>\n",
       "      <td>2.0</td>\n",
       "      <td>NaN</td>\n",
       "      <td>2</td>\n",
       "    </tr>\n",
       "  </tbody>\n",
       "</table>\n",
       "<p>931 rows × 5 columns</p>\n",
       "</div>"
      ],
      "text/plain": [
       "        CarNumber    Make_n_model Refund  Fines History\n",
       "ID                                                     \n",
       "0    Y163O8161RUS      Ford Focus    2.0   3200     NaN\n",
       "1     E432XX77RUS    Toyota Camry    1.0   6500     NaN\n",
       "2     7184TT36RUS      Ford Focus    1.0   2100     NaN\n",
       "3    X582HE161RUS      Ford Focus    2.0   2000     NaN\n",
       "4    E34877152RUS      Ford Focus    2.0   6100     NaN\n",
       "..            ...             ...    ...    ...     ...\n",
       "926  Y163O8161RUS      Ford Focus    2.0   1600     NaN\n",
       "927  M0309X197RUS      Ford Focus    1.0  22300     NaN\n",
       "928  O673E8197RUS      Ford Focus    2.0    600     NaN\n",
       "929  8610T8154RUS      Ford Focus    1.0   2000     NaN\n",
       "930  H419XE197RUS  Toyota Corolla    2.0    NaN       2\n",
       "\n",
       "[931 rows x 5 columns]"
      ]
     },
     "execution_count": 128,
     "metadata": {},
     "output_type": "execute_result"
    }
   ],
   "source": [
    "df.set_index('ID')"
   ]
  },
  {
   "cell_type": "code",
   "execution_count": 129,
   "metadata": {},
   "outputs": [
    {
     "data": {
      "text/plain": [
       "ID              931\n",
       "CarNumber       931\n",
       "Make_n_model    931\n",
       "Refund          914\n",
       "Fines           869\n",
       "History          82\n",
       "dtype: int64"
      ]
     },
     "execution_count": 129,
     "metadata": {},
     "output_type": "execute_result"
    }
   ],
   "source": [
    "df.count()"
   ]
  },
  {
   "cell_type": "code",
   "execution_count": 130,
   "metadata": {},
   "outputs": [],
   "source": [
    "df.drop_duplicates(subset=['CarNumber', 'Make_n_model', 'Fines'],keep='last', inplace=True)"
   ]
  },
  {
   "cell_type": "code",
   "execution_count": 131,
   "metadata": {},
   "outputs": [
    {
     "data": {
      "text/plain": [
       "ID              725\n",
       "CarNumber       725\n",
       "Make_n_model    725\n",
       "Refund          713\n",
       "Fines           665\n",
       "History          65\n",
       "dtype: int64"
      ]
     },
     "execution_count": 131,
     "metadata": {},
     "output_type": "execute_result"
    }
   ],
   "source": [
    "df.count()"
   ]
  },
  {
   "cell_type": "code",
   "execution_count": 132,
   "metadata": {},
   "outputs": [
    {
     "data": {
      "text/plain": [
       "ID                0\n",
       "CarNumber         0\n",
       "Make_n_model      0\n",
       "Refund           12\n",
       "Fines            60\n",
       "History         660\n",
       "dtype: int64"
      ]
     },
     "execution_count": 132,
     "metadata": {},
     "output_type": "execute_result"
    }
   ],
   "source": [
    "df.isna().sum()"
   ]
  },
  {
   "cell_type": "code",
   "execution_count": 133,
   "metadata": {},
   "outputs": [],
   "source": [
    "df.dropna(axis=1, inplace=True, thresh=500)"
   ]
  },
  {
   "cell_type": "code",
   "execution_count": 134,
   "metadata": {},
   "outputs": [
    {
     "data": {
      "text/plain": [
       "ID               0\n",
       "CarNumber        0\n",
       "Make_n_model     0\n",
       "Refund          12\n",
       "Fines           60\n",
       "dtype: int64"
      ]
     },
     "execution_count": 134,
     "metadata": {},
     "output_type": "execute_result"
    }
   ],
   "source": [
    "df.isna().sum()"
   ]
  },
  {
   "cell_type": "code",
   "execution_count": 135,
   "metadata": {},
   "outputs": [
    {
     "data": {
      "text/plain": [
       "ID               0\n",
       "CarNumber        0\n",
       "Make_n_model     0\n",
       "Refund           0\n",
       "Fines           60\n",
       "dtype: int64"
      ]
     },
     "execution_count": 135,
     "metadata": {},
     "output_type": "execute_result"
    }
   ],
   "source": [
    "df['Refund'] = df['Refund'].fillna(method = 'ffill')\n",
    "df.isnull().sum()"
   ]
  },
  {
   "cell_type": "code",
   "execution_count": 136,
   "metadata": {},
   "outputs": [],
   "source": [
    "mean = df['Fines'].dropna().mean()\n",
    "df['Fines'].fillna(mean, inplace = True)"
   ]
  },
  {
   "cell_type": "code",
   "execution_count": 137,
   "metadata": {},
   "outputs": [
    {
     "data": {
      "text/plain": [
       "ID              0\n",
       "CarNumber       0\n",
       "Make_n_model    0\n",
       "Refund          0\n",
       "Fines           0\n",
       "dtype: int64"
      ]
     },
     "execution_count": 137,
     "metadata": {},
     "output_type": "execute_result"
    }
   ],
   "source": [
    "df.isnull().sum()"
   ]
  },
  {
   "cell_type": "code",
   "execution_count": 138,
   "metadata": {},
   "outputs": [
    {
     "data": {
      "text/html": [
       "<div>\n",
       "<style scoped>\n",
       "    .dataframe tbody tr th:only-of-type {\n",
       "        vertical-align: middle;\n",
       "    }\n",
       "\n",
       "    .dataframe tbody tr th {\n",
       "        vertical-align: top;\n",
       "    }\n",
       "\n",
       "    .dataframe thead th {\n",
       "        text-align: right;\n",
       "    }\n",
       "</style>\n",
       "<table border=\"1\" class=\"dataframe\">\n",
       "  <thead>\n",
       "    <tr style=\"text-align: right;\">\n",
       "      <th></th>\n",
       "      <th>ID</th>\n",
       "      <th>CarNumber</th>\n",
       "      <th>Make_n_model</th>\n",
       "      <th>Refund</th>\n",
       "      <th>Fines</th>\n",
       "      <th>make</th>\n",
       "      <th>model</th>\n",
       "    </tr>\n",
       "  </thead>\n",
       "  <tbody>\n",
       "    <tr>\n",
       "      <th>1</th>\n",
       "      <td>0</td>\n",
       "      <td>Y163O8161RUS</td>\n",
       "      <td>Ford Focus</td>\n",
       "      <td>2.0</td>\n",
       "      <td>3200</td>\n",
       "      <td>Ford</td>\n",
       "      <td>Focus</td>\n",
       "    </tr>\n",
       "    <tr>\n",
       "      <th>2</th>\n",
       "      <td>1</td>\n",
       "      <td>E432XX77RUS</td>\n",
       "      <td>Toyota Camry</td>\n",
       "      <td>1.0</td>\n",
       "      <td>6500</td>\n",
       "      <td>Toyota</td>\n",
       "      <td>Camry</td>\n",
       "    </tr>\n",
       "    <tr>\n",
       "      <th>3</th>\n",
       "      <td>2</td>\n",
       "      <td>7184TT36RUS</td>\n",
       "      <td>Ford Focus</td>\n",
       "      <td>1.0</td>\n",
       "      <td>2100</td>\n",
       "      <td>Ford</td>\n",
       "      <td>Focus</td>\n",
       "    </tr>\n",
       "    <tr>\n",
       "      <th>4</th>\n",
       "      <td>3</td>\n",
       "      <td>X582HE161RUS</td>\n",
       "      <td>Ford Focus</td>\n",
       "      <td>2.0</td>\n",
       "      <td>2000</td>\n",
       "      <td>Ford</td>\n",
       "      <td>Focus</td>\n",
       "    </tr>\n",
       "    <tr>\n",
       "      <th>6</th>\n",
       "      <td>5</td>\n",
       "      <td>92918M178RUS</td>\n",
       "      <td>Ford Focus</td>\n",
       "      <td>1.0</td>\n",
       "      <td>5700</td>\n",
       "      <td>Ford</td>\n",
       "      <td>Focus</td>\n",
       "    </tr>\n",
       "    <tr>\n",
       "      <th>...</th>\n",
       "      <td>...</td>\n",
       "      <td>...</td>\n",
       "      <td>...</td>\n",
       "      <td>...</td>\n",
       "      <td>...</td>\n",
       "      <td>...</td>\n",
       "      <td>...</td>\n",
       "    </tr>\n",
       "    <tr>\n",
       "      <th>927</th>\n",
       "      <td>926</td>\n",
       "      <td>Y163O8161RUS</td>\n",
       "      <td>Ford Focus</td>\n",
       "      <td>2.0</td>\n",
       "      <td>1600</td>\n",
       "      <td>Ford</td>\n",
       "      <td>Focus</td>\n",
       "    </tr>\n",
       "    <tr>\n",
       "      <th>928</th>\n",
       "      <td>927</td>\n",
       "      <td>M0309X197RUS</td>\n",
       "      <td>Ford Focus</td>\n",
       "      <td>1.0</td>\n",
       "      <td>22300</td>\n",
       "      <td>Ford</td>\n",
       "      <td>Focus</td>\n",
       "    </tr>\n",
       "    <tr>\n",
       "      <th>929</th>\n",
       "      <td>928</td>\n",
       "      <td>O673E8197RUS</td>\n",
       "      <td>Ford Focus</td>\n",
       "      <td>2.0</td>\n",
       "      <td>600</td>\n",
       "      <td>Ford</td>\n",
       "      <td>Focus</td>\n",
       "    </tr>\n",
       "    <tr>\n",
       "      <th>930</th>\n",
       "      <td>929</td>\n",
       "      <td>8610T8154RUS</td>\n",
       "      <td>Ford Focus</td>\n",
       "      <td>1.0</td>\n",
       "      <td>2000</td>\n",
       "      <td>Ford</td>\n",
       "      <td>Focus</td>\n",
       "    </tr>\n",
       "    <tr>\n",
       "      <th>931</th>\n",
       "      <td>930</td>\n",
       "      <td>H419XE197RUS</td>\n",
       "      <td>Toyota Corolla</td>\n",
       "      <td>2.0</td>\n",
       "      <td>inf</td>\n",
       "      <td>Toyota</td>\n",
       "      <td>Corolla</td>\n",
       "    </tr>\n",
       "  </tbody>\n",
       "</table>\n",
       "<p>725 rows × 7 columns</p>\n",
       "</div>"
      ],
      "text/plain": [
       "      ID     CarNumber    Make_n_model Refund  Fines    make    model\n",
       "1      0  Y163O8161RUS      Ford Focus    2.0   3200    Ford    Focus\n",
       "2      1   E432XX77RUS    Toyota Camry    1.0   6500  Toyota    Camry\n",
       "3      2   7184TT36RUS      Ford Focus    1.0   2100    Ford    Focus\n",
       "4      3  X582HE161RUS      Ford Focus    2.0   2000    Ford    Focus\n",
       "6      5  92918M178RUS      Ford Focus    1.0   5700    Ford    Focus\n",
       "..   ...           ...             ...    ...    ...     ...      ...\n",
       "927  926  Y163O8161RUS      Ford Focus    2.0   1600    Ford    Focus\n",
       "928  927  M0309X197RUS      Ford Focus    1.0  22300    Ford    Focus\n",
       "929  928  O673E8197RUS      Ford Focus    2.0    600    Ford    Focus\n",
       "930  929  8610T8154RUS      Ford Focus    1.0   2000    Ford    Focus\n",
       "931  930  H419XE197RUS  Toyota Corolla    2.0    inf  Toyota  Corolla\n",
       "\n",
       "[725 rows x 7 columns]"
      ]
     },
     "execution_count": 138,
     "metadata": {},
     "output_type": "execute_result"
    }
   ],
   "source": [
    "df['make'] = df['Make_n_model'].apply(lambda x: x.split(' ')[0])\n",
    "df['model'] = df['Make_n_model'].apply(lambda x: x.split(' ')[-1])\n",
    "df"
   ]
  },
  {
   "cell_type": "code",
   "execution_count": 139,
   "metadata": {},
   "outputs": [],
   "source": [
    "df.drop('Make_n_model', axis=1, inplace=True)"
   ]
  },
  {
   "cell_type": "code",
   "execution_count": 140,
   "metadata": {},
   "outputs": [
    {
     "data": {
      "text/html": [
       "<div>\n",
       "<style scoped>\n",
       "    .dataframe tbody tr th:only-of-type {\n",
       "        vertical-align: middle;\n",
       "    }\n",
       "\n",
       "    .dataframe tbody tr th {\n",
       "        vertical-align: top;\n",
       "    }\n",
       "\n",
       "    .dataframe thead th {\n",
       "        text-align: right;\n",
       "    }\n",
       "</style>\n",
       "<table border=\"1\" class=\"dataframe\">\n",
       "  <thead>\n",
       "    <tr style=\"text-align: right;\">\n",
       "      <th></th>\n",
       "      <th>ID</th>\n",
       "      <th>CarNumber</th>\n",
       "      <th>Refund</th>\n",
       "      <th>Fines</th>\n",
       "      <th>make</th>\n",
       "      <th>model</th>\n",
       "    </tr>\n",
       "  </thead>\n",
       "  <tbody>\n",
       "    <tr>\n",
       "      <th>1</th>\n",
       "      <td>0</td>\n",
       "      <td>Y163O8161RUS</td>\n",
       "      <td>2.0</td>\n",
       "      <td>3200</td>\n",
       "      <td>Ford</td>\n",
       "      <td>Focus</td>\n",
       "    </tr>\n",
       "    <tr>\n",
       "      <th>2</th>\n",
       "      <td>1</td>\n",
       "      <td>E432XX77RUS</td>\n",
       "      <td>1.0</td>\n",
       "      <td>6500</td>\n",
       "      <td>Toyota</td>\n",
       "      <td>Camry</td>\n",
       "    </tr>\n",
       "    <tr>\n",
       "      <th>3</th>\n",
       "      <td>2</td>\n",
       "      <td>7184TT36RUS</td>\n",
       "      <td>1.0</td>\n",
       "      <td>2100</td>\n",
       "      <td>Ford</td>\n",
       "      <td>Focus</td>\n",
       "    </tr>\n",
       "    <tr>\n",
       "      <th>4</th>\n",
       "      <td>3</td>\n",
       "      <td>X582HE161RUS</td>\n",
       "      <td>2.0</td>\n",
       "      <td>2000</td>\n",
       "      <td>Ford</td>\n",
       "      <td>Focus</td>\n",
       "    </tr>\n",
       "    <tr>\n",
       "      <th>6</th>\n",
       "      <td>5</td>\n",
       "      <td>92918M178RUS</td>\n",
       "      <td>1.0</td>\n",
       "      <td>5700</td>\n",
       "      <td>Ford</td>\n",
       "      <td>Focus</td>\n",
       "    </tr>\n",
       "    <tr>\n",
       "      <th>...</th>\n",
       "      <td>...</td>\n",
       "      <td>...</td>\n",
       "      <td>...</td>\n",
       "      <td>...</td>\n",
       "      <td>...</td>\n",
       "      <td>...</td>\n",
       "    </tr>\n",
       "    <tr>\n",
       "      <th>927</th>\n",
       "      <td>926</td>\n",
       "      <td>Y163O8161RUS</td>\n",
       "      <td>2.0</td>\n",
       "      <td>1600</td>\n",
       "      <td>Ford</td>\n",
       "      <td>Focus</td>\n",
       "    </tr>\n",
       "    <tr>\n",
       "      <th>928</th>\n",
       "      <td>927</td>\n",
       "      <td>M0309X197RUS</td>\n",
       "      <td>1.0</td>\n",
       "      <td>22300</td>\n",
       "      <td>Ford</td>\n",
       "      <td>Focus</td>\n",
       "    </tr>\n",
       "    <tr>\n",
       "      <th>929</th>\n",
       "      <td>928</td>\n",
       "      <td>O673E8197RUS</td>\n",
       "      <td>2.0</td>\n",
       "      <td>600</td>\n",
       "      <td>Ford</td>\n",
       "      <td>Focus</td>\n",
       "    </tr>\n",
       "    <tr>\n",
       "      <th>930</th>\n",
       "      <td>929</td>\n",
       "      <td>8610T8154RUS</td>\n",
       "      <td>1.0</td>\n",
       "      <td>2000</td>\n",
       "      <td>Ford</td>\n",
       "      <td>Focus</td>\n",
       "    </tr>\n",
       "    <tr>\n",
       "      <th>931</th>\n",
       "      <td>930</td>\n",
       "      <td>H419XE197RUS</td>\n",
       "      <td>2.0</td>\n",
       "      <td>inf</td>\n",
       "      <td>Toyota</td>\n",
       "      <td>Corolla</td>\n",
       "    </tr>\n",
       "  </tbody>\n",
       "</table>\n",
       "<p>725 rows × 6 columns</p>\n",
       "</div>"
      ],
      "text/plain": [
       "      ID     CarNumber Refund  Fines    make    model\n",
       "1      0  Y163O8161RUS    2.0   3200    Ford    Focus\n",
       "2      1   E432XX77RUS    1.0   6500  Toyota    Camry\n",
       "3      2   7184TT36RUS    1.0   2100    Ford    Focus\n",
       "4      3  X582HE161RUS    2.0   2000    Ford    Focus\n",
       "6      5  92918M178RUS    1.0   5700    Ford    Focus\n",
       "..   ...           ...    ...    ...     ...      ...\n",
       "927  926  Y163O8161RUS    2.0   1600    Ford    Focus\n",
       "928  927  M0309X197RUS    1.0  22300    Ford    Focus\n",
       "929  928  O673E8197RUS    2.0    600    Ford    Focus\n",
       "930  929  8610T8154RUS    1.0   2000    Ford    Focus\n",
       "931  930  H419XE197RUS    2.0    inf  Toyota  Corolla\n",
       "\n",
       "[725 rows x 6 columns]"
      ]
     },
     "execution_count": 140,
     "metadata": {},
     "output_type": "execute_result"
    }
   ],
   "source": [
    "df"
   ]
  },
  {
   "cell_type": "code",
   "execution_count": 149,
   "metadata": {},
   "outputs": [],
   "source": [
    "df.to_json('data/auto.json', orient=\"records\")"
   ]
  },
  {
   "cell_type": "code",
   "execution_count": null,
   "metadata": {},
   "outputs": [],
   "source": []
  }
 ],
 "metadata": {
  "interpreter": {
   "hash": "aee8b7b246df8f9039afb4144a1f6fd8d2ca17a180786b69acc140d282b71a49"
  },
  "kernelspec": {
   "display_name": "Python 3.10.0 64-bit",
   "language": "python",
   "name": "python3"
  },
  "language_info": {
   "codemirror_mode": {
    "name": "ipython",
    "version": 3
   },
   "file_extension": ".py",
   "mimetype": "text/x-python",
   "name": "python",
   "nbconvert_exporter": "python",
   "pygments_lexer": "ipython3",
   "version": "3.7.8"
  },
  "orig_nbformat": 4
 },
 "nbformat": 4,
 "nbformat_minor": 2
}
