{
 "cells": [
  {
   "cell_type": "markdown",
   "metadata": {},
   "source": [
    "## EX05"
   ]
  },
  {
   "cell_type": "code",
   "execution_count": 94,
   "metadata": {},
   "outputs": [],
   "source": [
    "import pandas as pd\n",
    "import gc"
   ]
  },
  {
   "cell_type": "code",
   "execution_count": 95,
   "metadata": {},
   "outputs": [],
   "source": [
    "fines = pd.read_csv('data/fines.csv')"
   ]
  },
  {
   "cell_type": "code",
   "execution_count": 96,
   "metadata": {},
   "outputs": [
    {
     "name": "stdout",
     "output_type": "stream",
     "text": [
      "347 ms ± 50.7 ms per loop (mean ± std. dev. of 7 runs, 1 loop each)\n"
     ]
    }
   ],
   "source": [
    "%%timeit\n",
    "new_col = []\n",
    "for i in range(len(fines)):\n",
    "    new_col.append(fines.iloc[i]['Fines'] / (fines.iloc[i]['Refund'] * fines.iloc[i]['Year']))\n",
    "fines['calculate_column'] = new_col\n"
   ]
  },
  {
   "cell_type": "code",
   "execution_count": 97,
   "metadata": {},
   "outputs": [
    {
     "data": {
      "text/plain": [
       "0       0.804424\n",
       "1       3.258145\n",
       "2       1.058468\n",
       "3       0.496278\n",
       "4       2.830189\n",
       "         ...    \n",
       "865    13.300083\n",
       "866    13.300083\n",
       "867    13.300083\n",
       "868    13.300083\n",
       "869    13.300083\n",
       "Name: calculate_column, Length: 870, dtype: float64"
      ]
     },
     "execution_count": 97,
     "metadata": {},
     "output_type": "execute_result"
    }
   ],
   "source": [
    "fines['calculate_column']"
   ]
  },
  {
   "cell_type": "code",
   "execution_count": 98,
   "metadata": {},
   "outputs": [
    {
     "name": "stdout",
     "output_type": "stream",
     "text": [
      "CPU times: user 54 ms, sys: 1.38 ms, total: 55.4 ms\n",
      "Wall time: 54.9 ms\n"
     ]
    }
   ],
   "source": [
    "%%time\n",
    "new_col = []\n",
    "for i, row in fines.iterrows():\n",
    "    new_col.append(row['Fines'] / (row['Refund'] * row['Year']))\n",
    "fines['calculate_column'] = new_col\n"
   ]
  },
  {
   "cell_type": "code",
   "execution_count": 99,
   "metadata": {},
   "outputs": [
    {
     "data": {
      "text/plain": [
       "0       0.804424\n",
       "1       3.258145\n",
       "2       1.058468\n",
       "3       0.496278\n",
       "4       2.830189\n",
       "         ...    \n",
       "865    13.300083\n",
       "866    13.300083\n",
       "867    13.300083\n",
       "868    13.300083\n",
       "869    13.300083\n",
       "Name: calculate_column, Length: 870, dtype: float64"
      ]
     },
     "execution_count": 99,
     "metadata": {},
     "output_type": "execute_result"
    }
   ],
   "source": [
    "fines['calculate_column']"
   ]
  },
  {
   "cell_type": "code",
   "execution_count": 100,
   "metadata": {},
   "outputs": [
    {
     "name": "stdout",
     "output_type": "stream",
     "text": [
      "CPU times: user 16.8 ms, sys: 1.17 ms, total: 18 ms\n",
      "Wall time: 17.6 ms\n"
     ]
    }
   ],
   "source": [
    "%%time\n",
    "fines['calculate_column'] = fines.apply(lambda row: row['Fines'] / (row['Refund'] * row['Year']), axis=1)\n"
   ]
  },
  {
   "cell_type": "code",
   "execution_count": 101,
   "metadata": {},
   "outputs": [
    {
     "data": {
      "text/plain": [
       "0       0.804424\n",
       "1       3.258145\n",
       "2       1.058468\n",
       "3       0.496278\n",
       "4       2.830189\n",
       "         ...    \n",
       "865    13.300083\n",
       "866    13.300083\n",
       "867    13.300083\n",
       "868    13.300083\n",
       "869    13.300083\n",
       "Name: calculate_column, Length: 870, dtype: float64"
      ]
     },
     "execution_count": 101,
     "metadata": {},
     "output_type": "execute_result"
    }
   ],
   "source": [
    "fines['calculate_column']"
   ]
  },
  {
   "cell_type": "code",
   "execution_count": 102,
   "metadata": {},
   "outputs": [
    {
     "name": "stdout",
     "output_type": "stream",
     "text": [
      "CPU times: user 1.04 ms, sys: 335 µs, total: 1.37 ms\n",
      "Wall time: 1.31 ms\n"
     ]
    }
   ],
   "source": [
    "%%time\n",
    "fines['calculate_column'] = fines['Fines'] / (fines['Refund'] * fines['Year'])\n"
   ]
  },
  {
   "cell_type": "code",
   "execution_count": 103,
   "metadata": {},
   "outputs": [
    {
     "data": {
      "text/plain": [
       "0       0.804424\n",
       "1       3.258145\n",
       "2       1.058468\n",
       "3       0.496278\n",
       "4       2.830189\n",
       "         ...    \n",
       "865    13.300083\n",
       "866    13.300083\n",
       "867    13.300083\n",
       "868    13.300083\n",
       "869    13.300083\n",
       "Name: calculate_column, Length: 870, dtype: float64"
      ]
     },
     "execution_count": 103,
     "metadata": {},
     "output_type": "execute_result"
    }
   ],
   "source": [
    "fines['calculate_column']"
   ]
  },
  {
   "cell_type": "code",
   "execution_count": 104,
   "metadata": {},
   "outputs": [
    {
     "name": "stdout",
     "output_type": "stream",
     "text": [
      "CPU times: user 1.35 ms, sys: 572 µs, total: 1.92 ms\n",
      "Wall time: 1.34 ms\n"
     ]
    }
   ],
   "source": [
    "%%time\n",
    "fines['calculate_column'] = fines['Fines'].values / (fines['Refund'].values * fines['Year'].values)\n"
   ]
  },
  {
   "cell_type": "code",
   "execution_count": 105,
   "metadata": {},
   "outputs": [
    {
     "data": {
      "text/plain": [
       "0       0.804424\n",
       "1       3.258145\n",
       "2       1.058468\n",
       "3       0.496278\n",
       "4       2.830189\n",
       "         ...    \n",
       "865    13.300083\n",
       "866    13.300083\n",
       "867    13.300083\n",
       "868    13.300083\n",
       "869    13.300083\n",
       "Name: calculate_column, Length: 870, dtype: float64"
      ]
     },
     "execution_count": 105,
     "metadata": {},
     "output_type": "execute_result"
    }
   ],
   "source": [
    "fines['calculate_column']"
   ]
  },
  {
   "cell_type": "markdown",
   "metadata": {},
   "source": [
    "## indexing: measure the time using the magic command %%timeit in the cell"
   ]
  },
  {
   "cell_type": "code",
   "execution_count": 106,
   "metadata": {},
   "outputs": [
    {
     "name": "stdout",
     "output_type": "stream",
     "text": [
      "CPU times: user 904 µs, sys: 198 µs, total: 1.1 ms\n",
      "Wall time: 1.07 ms\n"
     ]
    },
    {
     "data": {
      "text/html": [
       "<div>\n",
       "<style scoped>\n",
       "    .dataframe tbody tr th:only-of-type {\n",
       "        vertical-align: middle;\n",
       "    }\n",
       "\n",
       "    .dataframe tbody tr th {\n",
       "        vertical-align: top;\n",
       "    }\n",
       "\n",
       "    .dataframe thead th {\n",
       "        text-align: right;\n",
       "    }\n",
       "</style>\n",
       "<table border=\"1\" class=\"dataframe\">\n",
       "  <thead>\n",
       "    <tr style=\"text-align: right;\">\n",
       "      <th></th>\n",
       "      <th>CarNumber</th>\n",
       "      <th>Refund</th>\n",
       "      <th>Fines</th>\n",
       "      <th>make</th>\n",
       "      <th>model</th>\n",
       "      <th>Year</th>\n",
       "      <th>calculate_column</th>\n",
       "    </tr>\n",
       "  </thead>\n",
       "  <tbody>\n",
       "    <tr>\n",
       "      <th>657</th>\n",
       "      <td>O136HO197RUS</td>\n",
       "      <td>2</td>\n",
       "      <td>7800.0</td>\n",
       "      <td>Toyota</td>\n",
       "      <td>Corolla</td>\n",
       "      <td>2003</td>\n",
       "      <td>1.947079</td>\n",
       "    </tr>\n",
       "  </tbody>\n",
       "</table>\n",
       "</div>"
      ],
      "text/plain": [
       "        CarNumber  Refund   Fines    make    model  Year  calculate_column\n",
       "657  O136HO197RUS       2  7800.0  Toyota  Corolla  2003          1.947079"
      ]
     },
     "execution_count": 106,
     "metadata": {},
     "output_type": "execute_result"
    }
   ],
   "source": [
    "%%time\n",
    "fines.loc[fines['CarNumber'] == 'O136HO197RUS']\n"
   ]
  },
  {
   "cell_type": "code",
   "execution_count": 107,
   "metadata": {},
   "outputs": [
    {
     "name": "stdout",
     "output_type": "stream",
     "text": [
      "CPU times: user 665 µs, sys: 69 µs, total: 734 µs\n",
      "Wall time: 745 µs\n"
     ]
    }
   ],
   "source": [
    "%%time\n",
    "fines = fines.set_index('CarNumber')"
   ]
  },
  {
   "cell_type": "code",
   "execution_count": 108,
   "metadata": {},
   "outputs": [
    {
     "name": "stdout",
     "output_type": "stream",
     "text": [
      "CPU times: user 1.52 ms, sys: 598 µs, total: 2.11 ms\n",
      "Wall time: 1.63 ms\n"
     ]
    },
    {
     "data": {
      "text/plain": [
       "Refund                     2\n",
       "Fines                 7800.0\n",
       "make                  Toyota\n",
       "model                Corolla\n",
       "Year                    2003\n",
       "calculate_column    1.947079\n",
       "Name: O136HO197RUS, dtype: object"
      ]
     },
     "execution_count": 108,
     "metadata": {},
     "output_type": "execute_result"
    }
   ],
   "source": [
    "%%time\n",
    "fines.loc['O136HO197RUS']\n"
   ]
  },
  {
   "cell_type": "markdown",
   "metadata": {},
   "source": [
    "## downcasting"
   ]
  },
  {
   "cell_type": "code",
   "execution_count": 109,
   "metadata": {},
   "outputs": [
    {
     "name": "stdout",
     "output_type": "stream",
     "text": [
      "<class 'pandas.core.frame.DataFrame'>\n",
      "Index: 870 entries, Y163O8161RUS to sdjsdf82384\n",
      "Data columns (total 6 columns):\n",
      " #   Column            Non-Null Count  Dtype  \n",
      "---  ------            --------------  -----  \n",
      " 0   Refund            870 non-null    int64  \n",
      " 1   Fines             870 non-null    float64\n",
      " 2   make              870 non-null    object \n",
      " 3   model             870 non-null    object \n",
      " 4   Year              870 non-null    int64  \n",
      " 5   calculate_column  870 non-null    float64\n",
      "dtypes: float64(2), int64(2), object(2)\n",
      "memory usage: 223.2 KB\n",
      "CPU times: user 6.36 ms, sys: 2.09 ms, total: 8.45 ms\n",
      "Wall time: 8.06 ms\n"
     ]
    }
   ],
   "source": [
    "%%time\n",
    "fines.info(memory_usage='deep')\n"
   ]
  },
  {
   "cell_type": "code",
   "execution_count": 117,
   "metadata": {},
   "outputs": [],
   "source": [
    "fines_copy = fines.copy()"
   ]
  },
  {
   "cell_type": "code",
   "execution_count": 118,
   "metadata": {},
   "outputs": [
    {
     "data": {
      "text/html": [
       "<div>\n",
       "<style scoped>\n",
       "    .dataframe tbody tr th:only-of-type {\n",
       "        vertical-align: middle;\n",
       "    }\n",
       "\n",
       "    .dataframe tbody tr th {\n",
       "        vertical-align: top;\n",
       "    }\n",
       "\n",
       "    .dataframe thead th {\n",
       "        text-align: right;\n",
       "    }\n",
       "</style>\n",
       "<table border=\"1\" class=\"dataframe\">\n",
       "  <thead>\n",
       "    <tr style=\"text-align: right;\">\n",
       "      <th></th>\n",
       "      <th>Refund</th>\n",
       "      <th>Fines</th>\n",
       "      <th>make</th>\n",
       "      <th>model</th>\n",
       "      <th>Year</th>\n",
       "      <th>calculate_column</th>\n",
       "    </tr>\n",
       "    <tr>\n",
       "      <th>CarNumber</th>\n",
       "      <th></th>\n",
       "      <th></th>\n",
       "      <th></th>\n",
       "      <th></th>\n",
       "      <th></th>\n",
       "      <th></th>\n",
       "    </tr>\n",
       "  </thead>\n",
       "  <tbody>\n",
       "    <tr>\n",
       "      <th>Y163O8161RUS</th>\n",
       "      <td>2</td>\n",
       "      <td>3200.0</td>\n",
       "      <td>Ford</td>\n",
       "      <td>Focus</td>\n",
       "      <td>1989</td>\n",
       "      <td>0.804424</td>\n",
       "    </tr>\n",
       "    <tr>\n",
       "      <th>E432XX77RUS</th>\n",
       "      <td>1</td>\n",
       "      <td>6500.0</td>\n",
       "      <td>Toyota</td>\n",
       "      <td>Camry</td>\n",
       "      <td>1995</td>\n",
       "      <td>3.258145</td>\n",
       "    </tr>\n",
       "    <tr>\n",
       "      <th>7184TT36RUS</th>\n",
       "      <td>1</td>\n",
       "      <td>2100.0</td>\n",
       "      <td>Ford</td>\n",
       "      <td>Focus</td>\n",
       "      <td>1984</td>\n",
       "      <td>1.058468</td>\n",
       "    </tr>\n",
       "    <tr>\n",
       "      <th>X582HE161RUS</th>\n",
       "      <td>2</td>\n",
       "      <td>2000.0</td>\n",
       "      <td>Ford</td>\n",
       "      <td>Focus</td>\n",
       "      <td>2015</td>\n",
       "      <td>0.496278</td>\n",
       "    </tr>\n",
       "    <tr>\n",
       "      <th>92918M178RUS</th>\n",
       "      <td>1</td>\n",
       "      <td>5700.0</td>\n",
       "      <td>Ford</td>\n",
       "      <td>Focus</td>\n",
       "      <td>2014</td>\n",
       "      <td>2.830189</td>\n",
       "    </tr>\n",
       "    <tr>\n",
       "      <th>...</th>\n",
       "      <td>...</td>\n",
       "      <td>...</td>\n",
       "      <td>...</td>\n",
       "      <td>...</td>\n",
       "      <td>...</td>\n",
       "      <td>...</td>\n",
       "    </tr>\n",
       "    <tr>\n",
       "      <th>sdjsdf82384</th>\n",
       "      <td>12</td>\n",
       "      <td>320000.0</td>\n",
       "      <td>Ford</td>\n",
       "      <td>Focus</td>\n",
       "      <td>2005</td>\n",
       "      <td>13.300083</td>\n",
       "    </tr>\n",
       "    <tr>\n",
       "      <th>sdjsdf82384</th>\n",
       "      <td>12</td>\n",
       "      <td>320000.0</td>\n",
       "      <td>Ford</td>\n",
       "      <td>Focus</td>\n",
       "      <td>2005</td>\n",
       "      <td>13.300083</td>\n",
       "    </tr>\n",
       "    <tr>\n",
       "      <th>sdjsdf82384</th>\n",
       "      <td>12</td>\n",
       "      <td>320000.0</td>\n",
       "      <td>Ford</td>\n",
       "      <td>Focus</td>\n",
       "      <td>2005</td>\n",
       "      <td>13.300083</td>\n",
       "    </tr>\n",
       "    <tr>\n",
       "      <th>sdjsdf82384</th>\n",
       "      <td>12</td>\n",
       "      <td>320000.0</td>\n",
       "      <td>Ford</td>\n",
       "      <td>Focus</td>\n",
       "      <td>2005</td>\n",
       "      <td>13.300083</td>\n",
       "    </tr>\n",
       "    <tr>\n",
       "      <th>sdjsdf82384</th>\n",
       "      <td>12</td>\n",
       "      <td>320000.0</td>\n",
       "      <td>Ford</td>\n",
       "      <td>Focus</td>\n",
       "      <td>2005</td>\n",
       "      <td>13.300083</td>\n",
       "    </tr>\n",
       "  </tbody>\n",
       "</table>\n",
       "<p>870 rows × 6 columns</p>\n",
       "</div>"
      ],
      "text/plain": [
       "              Refund     Fines    make  model  Year  calculate_column\n",
       "CarNumber                                                            \n",
       "Y163O8161RUS       2    3200.0    Ford  Focus  1989          0.804424\n",
       "E432XX77RUS        1    6500.0  Toyota  Camry  1995          3.258145\n",
       "7184TT36RUS        1    2100.0    Ford  Focus  1984          1.058468\n",
       "X582HE161RUS       2    2000.0    Ford  Focus  2015          0.496278\n",
       "92918M178RUS       1    5700.0    Ford  Focus  2014          2.830189\n",
       "...              ...       ...     ...    ...   ...               ...\n",
       "sdjsdf82384       12  320000.0    Ford  Focus  2005         13.300083\n",
       "sdjsdf82384       12  320000.0    Ford  Focus  2005         13.300083\n",
       "sdjsdf82384       12  320000.0    Ford  Focus  2005         13.300083\n",
       "sdjsdf82384       12  320000.0    Ford  Focus  2005         13.300083\n",
       "sdjsdf82384       12  320000.0    Ford  Focus  2005         13.300083\n",
       "\n",
       "[870 rows x 6 columns]"
      ]
     },
     "execution_count": 118,
     "metadata": {},
     "output_type": "execute_result"
    }
   ],
   "source": [
    "fines_copy"
   ]
  },
  {
   "cell_type": "code",
   "execution_count": 119,
   "metadata": {},
   "outputs": [],
   "source": [
    "fines_copy['Fines'] = pd.to_numeric(fines_copy['Fines'], downcast='float')\n",
    "fines_copy['Refund'] = pd.to_numeric(fines_copy['Refund'], downcast='integer')\n",
    "fines_copy['Year'] = pd.to_numeric(fines_copy['Year'], downcast='integer')"
   ]
  },
  {
   "cell_type": "code",
   "execution_count": 120,
   "metadata": {},
   "outputs": [
    {
     "name": "stdout",
     "output_type": "stream",
     "text": [
      "<class 'pandas.core.frame.DataFrame'>\n",
      "Index: 870 entries, Y163O8161RUS to sdjsdf82384\n",
      "Data columns (total 6 columns):\n",
      " #   Column            Non-Null Count  Dtype  \n",
      "---  ------            --------------  -----  \n",
      " 0   Refund            870 non-null    int8   \n",
      " 1   Fines             870 non-null    float32\n",
      " 2   make              870 non-null    object \n",
      " 3   model             870 non-null    object \n",
      " 4   Year              870 non-null    int16  \n",
      " 5   calculate_column  870 non-null    float64\n",
      "dtypes: float32(1), float64(1), int16(1), int8(1), object(2)\n",
      "memory usage: 208.8 KB\n"
     ]
    }
   ],
   "source": [
    "fines_copy.info(memory_usage='deep')\n"
   ]
  },
  {
   "cell_type": "markdown",
   "metadata": {},
   "source": [
    "## categories"
   ]
  },
  {
   "cell_type": "code",
   "execution_count": 129,
   "metadata": {},
   "outputs": [],
   "source": [
    "fines_copy.reset_index(inplace=True)"
   ]
  },
  {
   "cell_type": "code",
   "execution_count": 127,
   "metadata": {},
   "outputs": [],
   "source": [
    "fines_copy.reset_index()\n",
    "fines_copy['CarNumber'] = fines_copy['CarNumber'].astype('category')\n",
    "fines_copy['Make'] = fines_copy['make'].astype('category')\n",
    "fines_copy['Model'] = fines_copy['model'].astype('category')"
   ]
  },
  {
   "cell_type": "code",
   "execution_count": 128,
   "metadata": {},
   "outputs": [
    {
     "name": "stdout",
     "output_type": "stream",
     "text": [
      "<class 'pandas.core.frame.DataFrame'>\n",
      "RangeIndex: 870 entries, 0 to 869\n",
      "Data columns (total 9 columns):\n",
      " #   Column            Non-Null Count  Dtype   \n",
      "---  ------            --------------  -----   \n",
      " 0   CarNumber         870 non-null    category\n",
      " 1   Refund            870 non-null    int8    \n",
      " 2   Fines             870 non-null    float32 \n",
      " 3   make              870 non-null    object  \n",
      " 4   model             870 non-null    object  \n",
      " 5   Year              870 non-null    int16   \n",
      " 6   calculate_column  870 non-null    float64 \n",
      " 7   Make              870 non-null    category\n",
      " 8   Model             870 non-null    category\n",
      "dtypes: category(3), float32(1), float64(1), int16(1), int8(1), object(2)\n",
      "memory usage: 173.9 KB\n"
     ]
    }
   ],
   "source": [
    "fines_copy.info(memory_usage='deep')\n"
   ]
  },
  {
   "cell_type": "markdown",
   "metadata": {},
   "source": [
    "## memory clean"
   ]
  },
  {
   "cell_type": "code",
   "execution_count": 51,
   "metadata": {},
   "outputs": [
    {
     "data": {
      "text/html": [
       "<div>\n",
       "<style scoped>\n",
       "    .dataframe tbody tr th:only-of-type {\n",
       "        vertical-align: middle;\n",
       "    }\n",
       "\n",
       "    .dataframe tbody tr th {\n",
       "        vertical-align: top;\n",
       "    }\n",
       "\n",
       "    .dataframe thead th {\n",
       "        text-align: right;\n",
       "    }\n",
       "</style>\n",
       "<table border=\"1\" class=\"dataframe\">\n",
       "  <thead>\n",
       "    <tr style=\"text-align: right;\">\n",
       "      <th></th>\n",
       "      <th>Refund</th>\n",
       "      <th>Fines</th>\n",
       "      <th>make</th>\n",
       "      <th>model</th>\n",
       "      <th>Year</th>\n",
       "      <th>calculate_column</th>\n",
       "    </tr>\n",
       "    <tr>\n",
       "      <th>CarNumber</th>\n",
       "      <th></th>\n",
       "      <th></th>\n",
       "      <th></th>\n",
       "      <th></th>\n",
       "      <th></th>\n",
       "      <th></th>\n",
       "    </tr>\n",
       "  </thead>\n",
       "  <tbody>\n",
       "    <tr>\n",
       "      <th>Y163O8161RUS</th>\n",
       "      <td>2</td>\n",
       "      <td>3200.0</td>\n",
       "      <td>Ford</td>\n",
       "      <td>Focus</td>\n",
       "      <td>1989</td>\n",
       "      <td>0.804424</td>\n",
       "    </tr>\n",
       "    <tr>\n",
       "      <th>E432XX77RUS</th>\n",
       "      <td>1</td>\n",
       "      <td>6500.0</td>\n",
       "      <td>Toyota</td>\n",
       "      <td>Camry</td>\n",
       "      <td>1995</td>\n",
       "      <td>3.258145</td>\n",
       "    </tr>\n",
       "    <tr>\n",
       "      <th>7184TT36RUS</th>\n",
       "      <td>1</td>\n",
       "      <td>2100.0</td>\n",
       "      <td>Ford</td>\n",
       "      <td>Focus</td>\n",
       "      <td>1984</td>\n",
       "      <td>1.058468</td>\n",
       "    </tr>\n",
       "    <tr>\n",
       "      <th>X582HE161RUS</th>\n",
       "      <td>2</td>\n",
       "      <td>2000.0</td>\n",
       "      <td>Ford</td>\n",
       "      <td>Focus</td>\n",
       "      <td>2015</td>\n",
       "      <td>0.496278</td>\n",
       "    </tr>\n",
       "    <tr>\n",
       "      <th>92918M178RUS</th>\n",
       "      <td>1</td>\n",
       "      <td>5700.0</td>\n",
       "      <td>Ford</td>\n",
       "      <td>Focus</td>\n",
       "      <td>2014</td>\n",
       "      <td>2.830189</td>\n",
       "    </tr>\n",
       "    <tr>\n",
       "      <th>...</th>\n",
       "      <td>...</td>\n",
       "      <td>...</td>\n",
       "      <td>...</td>\n",
       "      <td>...</td>\n",
       "      <td>...</td>\n",
       "      <td>...</td>\n",
       "    </tr>\n",
       "    <tr>\n",
       "      <th>sdjsdf82384</th>\n",
       "      <td>12</td>\n",
       "      <td>320000.0</td>\n",
       "      <td>Ford</td>\n",
       "      <td>Focus</td>\n",
       "      <td>2005</td>\n",
       "      <td>13.300083</td>\n",
       "    </tr>\n",
       "    <tr>\n",
       "      <th>sdjsdf82384</th>\n",
       "      <td>12</td>\n",
       "      <td>320000.0</td>\n",
       "      <td>Ford</td>\n",
       "      <td>Focus</td>\n",
       "      <td>2005</td>\n",
       "      <td>13.300083</td>\n",
       "    </tr>\n",
       "    <tr>\n",
       "      <th>sdjsdf82384</th>\n",
       "      <td>12</td>\n",
       "      <td>320000.0</td>\n",
       "      <td>Ford</td>\n",
       "      <td>Focus</td>\n",
       "      <td>2005</td>\n",
       "      <td>13.300083</td>\n",
       "    </tr>\n",
       "    <tr>\n",
       "      <th>sdjsdf82384</th>\n",
       "      <td>12</td>\n",
       "      <td>320000.0</td>\n",
       "      <td>Ford</td>\n",
       "      <td>Focus</td>\n",
       "      <td>2005</td>\n",
       "      <td>13.300083</td>\n",
       "    </tr>\n",
       "    <tr>\n",
       "      <th>sdjsdf82384</th>\n",
       "      <td>12</td>\n",
       "      <td>320000.0</td>\n",
       "      <td>Ford</td>\n",
       "      <td>Focus</td>\n",
       "      <td>2005</td>\n",
       "      <td>13.300083</td>\n",
       "    </tr>\n",
       "  </tbody>\n",
       "</table>\n",
       "<p>870 rows × 6 columns</p>\n",
       "</div>"
      ],
      "text/plain": [
       "              Refund     Fines    make  model  Year  calculate_column\n",
       "CarNumber                                                            \n",
       "Y163O8161RUS       2    3200.0    Ford  Focus  1989          0.804424\n",
       "E432XX77RUS        1    6500.0  Toyota  Camry  1995          3.258145\n",
       "7184TT36RUS        1    2100.0    Ford  Focus  1984          1.058468\n",
       "X582HE161RUS       2    2000.0    Ford  Focus  2015          0.496278\n",
       "92918M178RUS       1    5700.0    Ford  Focus  2014          2.830189\n",
       "...              ...       ...     ...    ...   ...               ...\n",
       "sdjsdf82384       12  320000.0    Ford  Focus  2005         13.300083\n",
       "sdjsdf82384       12  320000.0    Ford  Focus  2005         13.300083\n",
       "sdjsdf82384       12  320000.0    Ford  Focus  2005         13.300083\n",
       "sdjsdf82384       12  320000.0    Ford  Focus  2005         13.300083\n",
       "sdjsdf82384       12  320000.0    Ford  Focus  2005         13.300083\n",
       "\n",
       "[870 rows x 6 columns]"
      ]
     },
     "execution_count": 51,
     "metadata": {},
     "output_type": "execute_result"
    }
   ],
   "source": [
    "fines"
   ]
  },
  {
   "cell_type": "code",
   "execution_count": 59,
   "metadata": {},
   "outputs": [],
   "source": [
    "%reset_selective -f fines"
   ]
  },
  {
   "cell_type": "code",
   "execution_count": 60,
   "metadata": {},
   "outputs": [
    {
     "ename": "NameError",
     "evalue": "name 'fines' is not defined",
     "output_type": "error",
     "traceback": [
      "\u001b[0;31m---------------------------------------------------------------------------\u001b[0m",
      "\u001b[0;31mNameError\u001b[0m                                 Traceback (most recent call last)",
      "\u001b[0;32m/var/folders/zz/zyxvpxvq6csfxvn_n0001wlw000g4z/T/ipykernel_68688/2665832641.py\u001b[0m in \u001b[0;36m<module>\u001b[0;34m\u001b[0m\n\u001b[0;32m----> 1\u001b[0;31m \u001b[0mfines\u001b[0m\u001b[0;34m\u001b[0m\u001b[0;34m\u001b[0m\u001b[0m\n\u001b[0m",
      "\u001b[0;31mNameError\u001b[0m: name 'fines' is not defined"
     ]
    }
   ],
   "source": [
    "fines"
   ]
  }
 ],
 "metadata": {
  "interpreter": {
   "hash": "aee8b7b246df8f9039afb4144a1f6fd8d2ca17a180786b69acc140d282b71a49"
  },
  "kernelspec": {
   "display_name": "Python 3.7.8 64-bit",
   "language": "python",
   "name": "python3"
  },
  "language_info": {
   "codemirror_mode": {
    "name": "ipython",
    "version": 3
   },
   "file_extension": ".py",
   "mimetype": "text/x-python",
   "name": "python",
   "nbconvert_exporter": "python",
   "pygments_lexer": "ipython3",
   "version": "3.7.8"
  },
  "orig_nbformat": 4
 },
 "nbformat": 4,
 "nbformat_minor": 2
}
