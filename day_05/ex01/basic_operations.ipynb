{
 "cells": [
  {
   "cell_type": "markdown",
   "metadata": {},
   "source": [
    "## EX01"
   ]
  },
  {
   "cell_type": "code",
   "execution_count": 26,
   "metadata": {},
   "outputs": [],
   "source": [
    "import pandas as pd"
   ]
  },
  {
   "cell_type": "code",
   "execution_count": 30,
   "metadata": {},
   "outputs": [],
   "source": [
    "df = pd.read_csv('data/feed-views.log', sep=r'\\t', engine='python', names=('datetime', 'user'))"
   ]
  },
  {
   "cell_type": "code",
   "execution_count": 31,
   "metadata": {},
   "outputs": [
    {
     "data": {
      "text/plain": [
       "'object'"
      ]
     },
     "execution_count": 31,
     "metadata": {},
     "output_type": "execute_result"
    }
   ],
   "source": [
    "df.datetime.dtype.name"
   ]
  },
  {
   "cell_type": "code",
   "execution_count": 32,
   "metadata": {},
   "outputs": [],
   "source": [
    "df['datetime'] = pd.to_datetime(df.datetime)"
   ]
  },
  {
   "cell_type": "code",
   "execution_count": 33,
   "metadata": {},
   "outputs": [
    {
     "data": {
      "text/plain": [
       "'datetime64[ns]'"
      ]
     },
     "execution_count": 33,
     "metadata": {},
     "output_type": "execute_result"
    }
   ],
   "source": [
    "df.datetime.dtype.name"
   ]
  },
  {
   "cell_type": "code",
   "execution_count": 36,
   "metadata": {},
   "outputs": [],
   "source": [
    "df['year'] = pd.DatetimeIndex(df['datetime']).year\n",
    "df['month'] = pd.DatetimeIndex(df['datetime']).month\n",
    "df['day'] = pd.DatetimeIndex(df['datetime']).day\n",
    "df['hour'] = pd.DatetimeIndex(df['datetime']).hour\n",
    "df['minute'] = pd.DatetimeIndex(df['datetime']).minute\n",
    "df['second'] = pd.DatetimeIndex(df['datetime']).second\n"
   ]
  },
  {
   "cell_type": "code",
   "execution_count": 38,
   "metadata": {},
   "outputs": [
    {
     "data": {
      "text/html": [
       "<div>\n",
       "<style scoped>\n",
       "    .dataframe tbody tr th:only-of-type {\n",
       "        vertical-align: middle;\n",
       "    }\n",
       "\n",
       "    .dataframe tbody tr th {\n",
       "        vertical-align: top;\n",
       "    }\n",
       "\n",
       "    .dataframe thead th {\n",
       "        text-align: right;\n",
       "    }\n",
       "</style>\n",
       "<table border=\"1\" class=\"dataframe\">\n",
       "  <thead>\n",
       "    <tr style=\"text-align: right;\">\n",
       "      <th></th>\n",
       "      <th>datetime</th>\n",
       "      <th>user</th>\n",
       "      <th>year</th>\n",
       "      <th>month</th>\n",
       "      <th>day</th>\n",
       "      <th>hour</th>\n",
       "      <th>minute</th>\n",
       "      <th>second</th>\n",
       "    </tr>\n",
       "  </thead>\n",
       "  <tbody>\n",
       "    <tr>\n",
       "      <th>0</th>\n",
       "      <td>2020-04-17 12:01:08.463179</td>\n",
       "      <td>artem</td>\n",
       "      <td>2020</td>\n",
       "      <td>4</td>\n",
       "      <td>17</td>\n",
       "      <td>12</td>\n",
       "      <td>1</td>\n",
       "      <td>8</td>\n",
       "    </tr>\n",
       "    <tr>\n",
       "      <th>1</th>\n",
       "      <td>2020-04-17 12:01:23.743946</td>\n",
       "      <td>artem</td>\n",
       "      <td>2020</td>\n",
       "      <td>4</td>\n",
       "      <td>17</td>\n",
       "      <td>12</td>\n",
       "      <td>1</td>\n",
       "      <td>23</td>\n",
       "    </tr>\n",
       "    <tr>\n",
       "      <th>2</th>\n",
       "      <td>2020-04-17 12:27:30.646665</td>\n",
       "      <td>artem</td>\n",
       "      <td>2020</td>\n",
       "      <td>4</td>\n",
       "      <td>17</td>\n",
       "      <td>12</td>\n",
       "      <td>27</td>\n",
       "      <td>30</td>\n",
       "    </tr>\n",
       "    <tr>\n",
       "      <th>3</th>\n",
       "      <td>2020-04-17 12:35:44.884757</td>\n",
       "      <td>artem</td>\n",
       "      <td>2020</td>\n",
       "      <td>4</td>\n",
       "      <td>17</td>\n",
       "      <td>12</td>\n",
       "      <td>35</td>\n",
       "      <td>44</td>\n",
       "    </tr>\n",
       "    <tr>\n",
       "      <th>4</th>\n",
       "      <td>2020-04-17 12:35:52.735016</td>\n",
       "      <td>artem</td>\n",
       "      <td>2020</td>\n",
       "      <td>4</td>\n",
       "      <td>17</td>\n",
       "      <td>12</td>\n",
       "      <td>35</td>\n",
       "      <td>52</td>\n",
       "    </tr>\n",
       "  </tbody>\n",
       "</table>\n",
       "</div>"
      ],
      "text/plain": [
       "                    datetime   user  year  month  day  hour  minute  second\n",
       "0 2020-04-17 12:01:08.463179  artem  2020      4   17    12       1       8\n",
       "1 2020-04-17 12:01:23.743946  artem  2020      4   17    12       1      23\n",
       "2 2020-04-17 12:27:30.646665  artem  2020      4   17    12      27      30\n",
       "3 2020-04-17 12:35:44.884757  artem  2020      4   17    12      35      44\n",
       "4 2020-04-17 12:35:52.735016  artem  2020      4   17    12      35      52"
      ]
     },
     "execution_count": 38,
     "metadata": {},
     "output_type": "execute_result"
    }
   ],
   "source": [
    "df.head()"
   ]
  },
  {
   "cell_type": "code",
   "execution_count": 106,
   "metadata": {},
   "outputs": [],
   "source": [
    "cut_labels = [\"night\", 'early morning', 'morning', 'afternoon', 'early evening', 'evening']\n",
    "df['daytime'] = pd.cut(df.hour, bins = [-1, 4, 7, 11, 17, 20, 23] , labels = cut_labels)"
   ]
  },
  {
   "cell_type": "code",
   "execution_count": 107,
   "metadata": {},
   "outputs": [
    {
     "data": {
      "text/plain": [
       "0           afternoon\n",
       "1           afternoon\n",
       "2           afternoon\n",
       "3           afternoon\n",
       "4           afternoon\n",
       "            ...      \n",
       "1071    early evening\n",
       "1072          evening\n",
       "1073          evening\n",
       "1074          evening\n",
       "1075          morning\n",
       "Name: daytime, Length: 1076, dtype: category\n",
       "Categories (6, object): ['night' < 'early morning' < 'morning' < 'afternoon' < 'early evening' < 'evening']"
      ]
     },
     "execution_count": 107,
     "metadata": {},
     "output_type": "execute_result"
    }
   ],
   "source": [
    "df['daytime'] "
   ]
  },
  {
   "cell_type": "code",
   "execution_count": 108,
   "metadata": {},
   "outputs": [
    {
     "data": {
      "text/html": [
       "<div>\n",
       "<style scoped>\n",
       "    .dataframe tbody tr th:only-of-type {\n",
       "        vertical-align: middle;\n",
       "    }\n",
       "\n",
       "    .dataframe tbody tr th {\n",
       "        vertical-align: top;\n",
       "    }\n",
       "\n",
       "    .dataframe thead th {\n",
       "        text-align: right;\n",
       "    }\n",
       "</style>\n",
       "<table border=\"1\" class=\"dataframe\">\n",
       "  <thead>\n",
       "    <tr style=\"text-align: right;\">\n",
       "      <th></th>\n",
       "      <th>datetime</th>\n",
       "      <th>year</th>\n",
       "      <th>month</th>\n",
       "      <th>day</th>\n",
       "      <th>hour</th>\n",
       "      <th>minute</th>\n",
       "      <th>second</th>\n",
       "      <th>daytime</th>\n",
       "    </tr>\n",
       "    <tr>\n",
       "      <th>user</th>\n",
       "      <th></th>\n",
       "      <th></th>\n",
       "      <th></th>\n",
       "      <th></th>\n",
       "      <th></th>\n",
       "      <th></th>\n",
       "      <th></th>\n",
       "      <th></th>\n",
       "    </tr>\n",
       "  </thead>\n",
       "  <tbody>\n",
       "    <tr>\n",
       "      <th>artem</th>\n",
       "      <td>2020-04-17 12:01:08.463179</td>\n",
       "      <td>2020</td>\n",
       "      <td>4</td>\n",
       "      <td>17</td>\n",
       "      <td>12</td>\n",
       "      <td>1</td>\n",
       "      <td>8</td>\n",
       "      <td>afternoon</td>\n",
       "    </tr>\n",
       "    <tr>\n",
       "      <th>artem</th>\n",
       "      <td>2020-04-17 12:01:23.743946</td>\n",
       "      <td>2020</td>\n",
       "      <td>4</td>\n",
       "      <td>17</td>\n",
       "      <td>12</td>\n",
       "      <td>1</td>\n",
       "      <td>23</td>\n",
       "      <td>afternoon</td>\n",
       "    </tr>\n",
       "    <tr>\n",
       "      <th>artem</th>\n",
       "      <td>2020-04-17 12:27:30.646665</td>\n",
       "      <td>2020</td>\n",
       "      <td>4</td>\n",
       "      <td>17</td>\n",
       "      <td>12</td>\n",
       "      <td>27</td>\n",
       "      <td>30</td>\n",
       "      <td>afternoon</td>\n",
       "    </tr>\n",
       "    <tr>\n",
       "      <th>artem</th>\n",
       "      <td>2020-04-17 12:35:44.884757</td>\n",
       "      <td>2020</td>\n",
       "      <td>4</td>\n",
       "      <td>17</td>\n",
       "      <td>12</td>\n",
       "      <td>35</td>\n",
       "      <td>44</td>\n",
       "      <td>afternoon</td>\n",
       "    </tr>\n",
       "    <tr>\n",
       "      <th>artem</th>\n",
       "      <td>2020-04-17 12:35:52.735016</td>\n",
       "      <td>2020</td>\n",
       "      <td>4</td>\n",
       "      <td>17</td>\n",
       "      <td>12</td>\n",
       "      <td>35</td>\n",
       "      <td>52</td>\n",
       "      <td>afternoon</td>\n",
       "    </tr>\n",
       "    <tr>\n",
       "      <th>...</th>\n",
       "      <td>...</td>\n",
       "      <td>...</td>\n",
       "      <td>...</td>\n",
       "      <td>...</td>\n",
       "      <td>...</td>\n",
       "      <td>...</td>\n",
       "      <td>...</td>\n",
       "      <td>...</td>\n",
       "    </tr>\n",
       "    <tr>\n",
       "      <th>valentina</th>\n",
       "      <td>2020-05-21 18:45:20.441142</td>\n",
       "      <td>2020</td>\n",
       "      <td>5</td>\n",
       "      <td>21</td>\n",
       "      <td>18</td>\n",
       "      <td>45</td>\n",
       "      <td>20</td>\n",
       "      <td>early evening</td>\n",
       "    </tr>\n",
       "    <tr>\n",
       "      <th>maxim</th>\n",
       "      <td>2020-05-21 23:03:06.457819</td>\n",
       "      <td>2020</td>\n",
       "      <td>5</td>\n",
       "      <td>21</td>\n",
       "      <td>23</td>\n",
       "      <td>3</td>\n",
       "      <td>6</td>\n",
       "      <td>evening</td>\n",
       "    </tr>\n",
       "    <tr>\n",
       "      <th>pavel</th>\n",
       "      <td>2020-05-21 23:23:49.995349</td>\n",
       "      <td>2020</td>\n",
       "      <td>5</td>\n",
       "      <td>21</td>\n",
       "      <td>23</td>\n",
       "      <td>23</td>\n",
       "      <td>49</td>\n",
       "      <td>evening</td>\n",
       "    </tr>\n",
       "    <tr>\n",
       "      <th>artem</th>\n",
       "      <td>2020-05-21 23:49:22.386789</td>\n",
       "      <td>2020</td>\n",
       "      <td>5</td>\n",
       "      <td>21</td>\n",
       "      <td>23</td>\n",
       "      <td>49</td>\n",
       "      <td>22</td>\n",
       "      <td>evening</td>\n",
       "    </tr>\n",
       "    <tr>\n",
       "      <th>artem</th>\n",
       "      <td>2020-05-22 10:36:14.662600</td>\n",
       "      <td>2020</td>\n",
       "      <td>5</td>\n",
       "      <td>22</td>\n",
       "      <td>10</td>\n",
       "      <td>36</td>\n",
       "      <td>14</td>\n",
       "      <td>morning</td>\n",
       "    </tr>\n",
       "  </tbody>\n",
       "</table>\n",
       "<p>1076 rows × 8 columns</p>\n",
       "</div>"
      ],
      "text/plain": [
       "                            datetime  year  month  day  hour  minute  second  \\\n",
       "user                                                                           \n",
       "artem     2020-04-17 12:01:08.463179  2020      4   17    12       1       8   \n",
       "artem     2020-04-17 12:01:23.743946  2020      4   17    12       1      23   \n",
       "artem     2020-04-17 12:27:30.646665  2020      4   17    12      27      30   \n",
       "artem     2020-04-17 12:35:44.884757  2020      4   17    12      35      44   \n",
       "artem     2020-04-17 12:35:52.735016  2020      4   17    12      35      52   \n",
       "...                              ...   ...    ...  ...   ...     ...     ...   \n",
       "valentina 2020-05-21 18:45:20.441142  2020      5   21    18      45      20   \n",
       "maxim     2020-05-21 23:03:06.457819  2020      5   21    23       3       6   \n",
       "pavel     2020-05-21 23:23:49.995349  2020      5   21    23      23      49   \n",
       "artem     2020-05-21 23:49:22.386789  2020      5   21    23      49      22   \n",
       "artem     2020-05-22 10:36:14.662600  2020      5   22    10      36      14   \n",
       "\n",
       "                 daytime  \n",
       "user                      \n",
       "artem          afternoon  \n",
       "artem          afternoon  \n",
       "artem          afternoon  \n",
       "artem          afternoon  \n",
       "artem          afternoon  \n",
       "...                  ...  \n",
       "valentina  early evening  \n",
       "maxim            evening  \n",
       "pavel            evening  \n",
       "artem            evening  \n",
       "artem            morning  \n",
       "\n",
       "[1076 rows x 8 columns]"
      ]
     },
     "execution_count": 108,
     "metadata": {},
     "output_type": "execute_result"
    }
   ],
   "source": [
    "df.set_index('user')"
   ]
  },
  {
   "cell_type": "code",
   "execution_count": 109,
   "metadata": {},
   "outputs": [
    {
     "data": {
      "text/plain": [
       "datetime    1076\n",
       "user        1076\n",
       "year        1076\n",
       "month       1076\n",
       "day         1076\n",
       "hour        1076\n",
       "minute      1076\n",
       "second      1076\n",
       "daytime     1076\n",
       "dtype: int64"
      ]
     },
     "execution_count": 109,
     "metadata": {},
     "output_type": "execute_result"
    }
   ],
   "source": [
    "df.count()"
   ]
  },
  {
   "cell_type": "code",
   "execution_count": 112,
   "metadata": {},
   "outputs": [
    {
     "data": {
      "text/plain": [
       "evening          445\n",
       "afternoon        279\n",
       "early evening    144\n",
       "night            134\n",
       "morning           74\n",
       "early morning      0\n",
       "Name: daytime, dtype: int64"
      ]
     },
     "execution_count": 112,
     "metadata": {},
     "output_type": "execute_result"
    }
   ],
   "source": [
    "df['daytime'].value_counts()"
   ]
  },
  {
   "cell_type": "code",
   "execution_count": 120,
   "metadata": {},
   "outputs": [],
   "source": [
    "df.sort_values(ascending = True, axis=0, by =['hour', \"minute\",\"second\"], inplace=True)"
   ]
  },
  {
   "cell_type": "code",
   "execution_count": 121,
   "metadata": {},
   "outputs": [
    {
     "data": {
      "text/html": [
       "<div>\n",
       "<style scoped>\n",
       "    .dataframe tbody tr th:only-of-type {\n",
       "        vertical-align: middle;\n",
       "    }\n",
       "\n",
       "    .dataframe tbody tr th {\n",
       "        vertical-align: top;\n",
       "    }\n",
       "\n",
       "    .dataframe thead th {\n",
       "        text-align: right;\n",
       "    }\n",
       "</style>\n",
       "<table border=\"1\" class=\"dataframe\">\n",
       "  <thead>\n",
       "    <tr style=\"text-align: right;\">\n",
       "      <th></th>\n",
       "      <th>datetime</th>\n",
       "      <th>user</th>\n",
       "      <th>year</th>\n",
       "      <th>month</th>\n",
       "      <th>day</th>\n",
       "      <th>hour</th>\n",
       "      <th>minute</th>\n",
       "      <th>second</th>\n",
       "      <th>daytime</th>\n",
       "    </tr>\n",
       "  </thead>\n",
       "  <tbody>\n",
       "    <tr>\n",
       "      <th>944</th>\n",
       "      <td>2020-05-15 00:00:13.222265</td>\n",
       "      <td>valentina</td>\n",
       "      <td>2020</td>\n",
       "      <td>5</td>\n",
       "      <td>15</td>\n",
       "      <td>0</td>\n",
       "      <td>0</td>\n",
       "      <td>13</td>\n",
       "      <td>night</td>\n",
       "    </tr>\n",
       "    <tr>\n",
       "      <th>945</th>\n",
       "      <td>2020-05-15 00:01:05.153738</td>\n",
       "      <td>valentina</td>\n",
       "      <td>2020</td>\n",
       "      <td>5</td>\n",
       "      <td>15</td>\n",
       "      <td>0</td>\n",
       "      <td>1</td>\n",
       "      <td>5</td>\n",
       "      <td>night</td>\n",
       "    </tr>\n",
       "    <tr>\n",
       "      <th>563</th>\n",
       "      <td>2020-05-12 00:01:27.764025</td>\n",
       "      <td>pavel</td>\n",
       "      <td>2020</td>\n",
       "      <td>5</td>\n",
       "      <td>12</td>\n",
       "      <td>0</td>\n",
       "      <td>1</td>\n",
       "      <td>27</td>\n",
       "      <td>night</td>\n",
       "    </tr>\n",
       "    <tr>\n",
       "      <th>564</th>\n",
       "      <td>2020-05-12 00:01:38.444917</td>\n",
       "      <td>pavel</td>\n",
       "      <td>2020</td>\n",
       "      <td>5</td>\n",
       "      <td>12</td>\n",
       "      <td>0</td>\n",
       "      <td>1</td>\n",
       "      <td>38</td>\n",
       "      <td>night</td>\n",
       "    </tr>\n",
       "    <tr>\n",
       "      <th>565</th>\n",
       "      <td>2020-05-12 00:01:55.395042</td>\n",
       "      <td>pavel</td>\n",
       "      <td>2020</td>\n",
       "      <td>5</td>\n",
       "      <td>12</td>\n",
       "      <td>0</td>\n",
       "      <td>1</td>\n",
       "      <td>55</td>\n",
       "      <td>night</td>\n",
       "    </tr>\n",
       "    <tr>\n",
       "      <th>...</th>\n",
       "      <td>...</td>\n",
       "      <td>...</td>\n",
       "      <td>...</td>\n",
       "      <td>...</td>\n",
       "      <td>...</td>\n",
       "      <td>...</td>\n",
       "      <td>...</td>\n",
       "      <td>...</td>\n",
       "      <td>...</td>\n",
       "    </tr>\n",
       "    <tr>\n",
       "      <th>1074</th>\n",
       "      <td>2020-05-21 23:49:22.386789</td>\n",
       "      <td>artem</td>\n",
       "      <td>2020</td>\n",
       "      <td>5</td>\n",
       "      <td>21</td>\n",
       "      <td>23</td>\n",
       "      <td>49</td>\n",
       "      <td>22</td>\n",
       "      <td>evening</td>\n",
       "    </tr>\n",
       "    <tr>\n",
       "      <th>246</th>\n",
       "      <td>2020-05-09 23:53:55.599821</td>\n",
       "      <td>anatoliy</td>\n",
       "      <td>2020</td>\n",
       "      <td>5</td>\n",
       "      <td>9</td>\n",
       "      <td>23</td>\n",
       "      <td>53</td>\n",
       "      <td>55</td>\n",
       "      <td>evening</td>\n",
       "    </tr>\n",
       "    <tr>\n",
       "      <th>247</th>\n",
       "      <td>2020-05-09 23:54:54.260791</td>\n",
       "      <td>pavel</td>\n",
       "      <td>2020</td>\n",
       "      <td>5</td>\n",
       "      <td>9</td>\n",
       "      <td>23</td>\n",
       "      <td>54</td>\n",
       "      <td>54</td>\n",
       "      <td>evening</td>\n",
       "    </tr>\n",
       "    <tr>\n",
       "      <th>942</th>\n",
       "      <td>2020-05-14 23:58:56.754866</td>\n",
       "      <td>valentina</td>\n",
       "      <td>2020</td>\n",
       "      <td>5</td>\n",
       "      <td>14</td>\n",
       "      <td>23</td>\n",
       "      <td>58</td>\n",
       "      <td>56</td>\n",
       "      <td>evening</td>\n",
       "    </tr>\n",
       "    <tr>\n",
       "      <th>943</th>\n",
       "      <td>2020-05-14 23:59:38.758438</td>\n",
       "      <td>alexander</td>\n",
       "      <td>2020</td>\n",
       "      <td>5</td>\n",
       "      <td>14</td>\n",
       "      <td>23</td>\n",
       "      <td>59</td>\n",
       "      <td>38</td>\n",
       "      <td>evening</td>\n",
       "    </tr>\n",
       "  </tbody>\n",
       "</table>\n",
       "<p>1076 rows × 9 columns</p>\n",
       "</div>"
      ],
      "text/plain": [
       "                       datetime       user  year  month  day  hour  minute  \\\n",
       "944  2020-05-15 00:00:13.222265  valentina  2020      5   15     0       0   \n",
       "945  2020-05-15 00:01:05.153738  valentina  2020      5   15     0       1   \n",
       "563  2020-05-12 00:01:27.764025      pavel  2020      5   12     0       1   \n",
       "564  2020-05-12 00:01:38.444917      pavel  2020      5   12     0       1   \n",
       "565  2020-05-12 00:01:55.395042      pavel  2020      5   12     0       1   \n",
       "...                         ...        ...   ...    ...  ...   ...     ...   \n",
       "1074 2020-05-21 23:49:22.386789      artem  2020      5   21    23      49   \n",
       "246  2020-05-09 23:53:55.599821   anatoliy  2020      5    9    23      53   \n",
       "247  2020-05-09 23:54:54.260791      pavel  2020      5    9    23      54   \n",
       "942  2020-05-14 23:58:56.754866  valentina  2020      5   14    23      58   \n",
       "943  2020-05-14 23:59:38.758438  alexander  2020      5   14    23      59   \n",
       "\n",
       "      second  daytime  \n",
       "944       13    night  \n",
       "945        5    night  \n",
       "563       27    night  \n",
       "564       38    night  \n",
       "565       55    night  \n",
       "...      ...      ...  \n",
       "1074      22  evening  \n",
       "246       55  evening  \n",
       "247       54  evening  \n",
       "942       56  evening  \n",
       "943       38  evening  \n",
       "\n",
       "[1076 rows x 9 columns]"
      ]
     },
     "execution_count": 121,
     "metadata": {},
     "output_type": "execute_result"
    }
   ],
   "source": [
    "df"
   ]
  },
  {
   "cell_type": "code",
   "execution_count": 124,
   "metadata": {},
   "outputs": [
    {
     "data": {
      "text/plain": [
       "4.0"
      ]
     },
     "execution_count": 124,
     "metadata": {},
     "output_type": "execute_result"
    }
   ],
   "source": [
    "max(df['hour'].where(df.daytime=='night'))"
   ]
  },
  {
   "cell_type": "code",
   "execution_count": 127,
   "metadata": {},
   "outputs": [
    {
     "data": {
      "text/plain": [
       "8.0"
      ]
     },
     "execution_count": 127,
     "metadata": {},
     "output_type": "execute_result"
    }
   ],
   "source": [
    "min(df['hour'].where(df.daytime=='morning').dropna())"
   ]
  },
  {
   "cell_type": "code",
   "execution_count": 133,
   "metadata": {},
   "outputs": [
    {
     "data": {
      "text/plain": [
       "313    konstantin\n",
       "314    konstantin\n",
       "315    konstantin\n",
       "316    konstantin\n",
       "317    konstantin\n",
       "Name: user, dtype: object"
      ]
     },
     "execution_count": 133,
     "metadata": {},
     "output_type": "execute_result"
    }
   ],
   "source": [
    "df['user'].where(df.hour==4).dropna()"
   ]
  },
  {
   "cell_type": "code",
   "execution_count": 134,
   "metadata": {},
   "outputs": [
    {
     "data": {
      "text/plain": [
       "963    alexander\n",
       "964    alexander\n",
       "Name: user, dtype: object"
      ]
     },
     "execution_count": 134,
     "metadata": {},
     "output_type": "execute_result"
    }
   ],
   "source": [
    "df['user'].where(df.hour==8).dropna()"
   ]
  },
  {
   "cell_type": "code",
   "execution_count": 138,
   "metadata": {},
   "outputs": [
    {
     "data": {
      "text/plain": [
       "0    22\n",
       "dtype: int64"
      ]
     },
     "execution_count": 138,
     "metadata": {},
     "output_type": "execute_result"
    }
   ],
   "source": [
    "df['hour'].mode()"
   ]
  },
  {
   "cell_type": "code",
   "execution_count": 139,
   "metadata": {},
   "outputs": [
    {
     "data": {
      "text/plain": [
       "0    evening\n",
       "Name: daytime, dtype: category\n",
       "Categories (6, object): ['night' < 'early morning' < 'morning' < 'afternoon' < 'early evening' < 'evening']"
      ]
     },
     "execution_count": 139,
     "metadata": {},
     "output_type": "execute_result"
    }
   ],
   "source": [
    "df['daytime'].mode()"
   ]
  },
  {
   "cell_type": "code",
   "execution_count": 145,
   "metadata": {},
   "outputs": [
    {
     "data": {
      "text/html": [
       "<div>\n",
       "<style scoped>\n",
       "    .dataframe tbody tr th:only-of-type {\n",
       "        vertical-align: middle;\n",
       "    }\n",
       "\n",
       "    .dataframe tbody tr th {\n",
       "        vertical-align: top;\n",
       "    }\n",
       "\n",
       "    .dataframe thead th {\n",
       "        text-align: right;\n",
       "    }\n",
       "</style>\n",
       "<table border=\"1\" class=\"dataframe\">\n",
       "  <thead>\n",
       "    <tr style=\"text-align: right;\">\n",
       "      <th></th>\n",
       "      <th>datetime</th>\n",
       "      <th>user</th>\n",
       "      <th>year</th>\n",
       "      <th>month</th>\n",
       "      <th>day</th>\n",
       "      <th>hour</th>\n",
       "      <th>minute</th>\n",
       "      <th>second</th>\n",
       "      <th>daytime</th>\n",
       "    </tr>\n",
       "  </thead>\n",
       "  <tbody>\n",
       "    <tr>\n",
       "      <th>963</th>\n",
       "      <td>2020-05-15 08:16:03.918402</td>\n",
       "      <td>alexander</td>\n",
       "      <td>2020.0</td>\n",
       "      <td>5.0</td>\n",
       "      <td>15.0</td>\n",
       "      <td>8.0</td>\n",
       "      <td>16.0</td>\n",
       "      <td>3.0</td>\n",
       "      <td>morning</td>\n",
       "    </tr>\n",
       "    <tr>\n",
       "      <th>964</th>\n",
       "      <td>2020-05-15 08:35:01.471463</td>\n",
       "      <td>alexander</td>\n",
       "      <td>2020.0</td>\n",
       "      <td>5.0</td>\n",
       "      <td>15.0</td>\n",
       "      <td>8.0</td>\n",
       "      <td>35.0</td>\n",
       "      <td>1.0</td>\n",
       "      <td>morning</td>\n",
       "    </tr>\n",
       "    <tr>\n",
       "      <th>965</th>\n",
       "      <td>2020-05-15 09:02:24.999438</td>\n",
       "      <td>alexander</td>\n",
       "      <td>2020.0</td>\n",
       "      <td>5.0</td>\n",
       "      <td>15.0</td>\n",
       "      <td>9.0</td>\n",
       "      <td>2.0</td>\n",
       "      <td>24.0</td>\n",
       "      <td>morning</td>\n",
       "    </tr>\n",
       "  </tbody>\n",
       "</table>\n",
       "</div>"
      ],
      "text/plain": [
       "                      datetime       user    year  month   day  hour  minute  \\\n",
       "963 2020-05-15 08:16:03.918402  alexander  2020.0    5.0  15.0   8.0    16.0   \n",
       "964 2020-05-15 08:35:01.471463  alexander  2020.0    5.0  15.0   8.0    35.0   \n",
       "965 2020-05-15 09:02:24.999438  alexander  2020.0    5.0  15.0   9.0     2.0   \n",
       "\n",
       "     second  daytime  \n",
       "963     3.0  morning  \n",
       "964     1.0  morning  \n",
       "965    24.0  morning  "
      ]
     },
     "execution_count": 145,
     "metadata": {},
     "output_type": "execute_result"
    }
   ],
   "source": [
    "df.where(df.daytime=='morning').nsmallest(3, 'hour')"
   ]
  },
  {
   "cell_type": "code",
   "execution_count": 146,
   "metadata": {},
   "outputs": [
    {
     "data": {
      "text/html": [
       "<div>\n",
       "<style scoped>\n",
       "    .dataframe tbody tr th:only-of-type {\n",
       "        vertical-align: middle;\n",
       "    }\n",
       "\n",
       "    .dataframe tbody tr th {\n",
       "        vertical-align: top;\n",
       "    }\n",
       "\n",
       "    .dataframe thead th {\n",
       "        text-align: right;\n",
       "    }\n",
       "</style>\n",
       "<table border=\"1\" class=\"dataframe\">\n",
       "  <thead>\n",
       "    <tr style=\"text-align: right;\">\n",
       "      <th></th>\n",
       "      <th>datetime</th>\n",
       "      <th>user</th>\n",
       "      <th>year</th>\n",
       "      <th>month</th>\n",
       "      <th>day</th>\n",
       "      <th>hour</th>\n",
       "      <th>minute</th>\n",
       "      <th>second</th>\n",
       "      <th>daytime</th>\n",
       "    </tr>\n",
       "  </thead>\n",
       "  <tbody>\n",
       "    <tr>\n",
       "      <th>139</th>\n",
       "      <td>2020-05-01 11:02:12.343448</td>\n",
       "      <td>artem</td>\n",
       "      <td>2020.0</td>\n",
       "      <td>5.0</td>\n",
       "      <td>1.0</td>\n",
       "      <td>11.0</td>\n",
       "      <td>2.0</td>\n",
       "      <td>12.0</td>\n",
       "      <td>morning</td>\n",
       "    </tr>\n",
       "    <tr>\n",
       "      <th>15</th>\n",
       "      <td>2020-04-18 11:02:42.796521</td>\n",
       "      <td>artem</td>\n",
       "      <td>2020.0</td>\n",
       "      <td>4.0</td>\n",
       "      <td>18.0</td>\n",
       "      <td>11.0</td>\n",
       "      <td>2.0</td>\n",
       "      <td>42.0</td>\n",
       "      <td>morning</td>\n",
       "    </tr>\n",
       "    <tr>\n",
       "      <th>62</th>\n",
       "      <td>2020-04-21 11:02:44.545611</td>\n",
       "      <td>artem</td>\n",
       "      <td>2020.0</td>\n",
       "      <td>4.0</td>\n",
       "      <td>21.0</td>\n",
       "      <td>11.0</td>\n",
       "      <td>2.0</td>\n",
       "      <td>44.0</td>\n",
       "      <td>morning</td>\n",
       "    </tr>\n",
       "  </tbody>\n",
       "</table>\n",
       "</div>"
      ],
      "text/plain": [
       "                      datetime   user    year  month   day  hour  minute  \\\n",
       "139 2020-05-01 11:02:12.343448  artem  2020.0    5.0   1.0  11.0     2.0   \n",
       "15  2020-04-18 11:02:42.796521  artem  2020.0    4.0  18.0  11.0     2.0   \n",
       "62  2020-04-21 11:02:44.545611  artem  2020.0    4.0  21.0  11.0     2.0   \n",
       "\n",
       "     second  daytime  \n",
       "139    12.0  morning  \n",
       "15     42.0  morning  \n",
       "62     44.0  morning  "
      ]
     },
     "execution_count": 146,
     "metadata": {},
     "output_type": "execute_result"
    }
   ],
   "source": [
    "df.where(df.daytime=='morning').nlargest(3, 'hour')"
   ]
  },
  {
   "cell_type": "code",
   "execution_count": 148,
   "metadata": {},
   "outputs": [
    {
     "data": {
      "text/plain": [
       "count    1076.000000\n",
       "mean       16.249071\n",
       "std         6.955490\n",
       "min         0.000000\n",
       "25%        13.000000\n",
       "50%        19.000000\n",
       "75%        22.000000\n",
       "max        23.000000\n",
       "Name: hour, dtype: float64"
      ]
     },
     "execution_count": 148,
     "metadata": {},
     "output_type": "execute_result"
    }
   ],
   "source": [
    "df['hour'].describe()"
   ]
  },
  {
   "cell_type": "code",
   "execution_count": 150,
   "metadata": {},
   "outputs": [],
   "source": [
    "iqr = df['hour'].describe().quantile(0.75) - df['hour'].describe().quantile(0.50)"
   ]
  },
  {
   "cell_type": "code",
   "execution_count": 151,
   "metadata": {},
   "outputs": [
    {
     "data": {
      "text/plain": [
       "4.625464684014872"
      ]
     },
     "execution_count": 151,
     "metadata": {},
     "output_type": "execute_result"
    }
   ],
   "source": [
    "iqr"
   ]
  },
  {
   "cell_type": "code",
   "execution_count": null,
   "metadata": {},
   "outputs": [],
   "source": [
    "#https://www.geeksforgeeks.org/how-to-use-pandas-filter-with-iqr/"
   ]
  }
 ],
 "metadata": {
  "interpreter": {
   "hash": "b0fa6594d8f4cbf19f97940f81e996739fb7646882a419484c72d19e05852a7e"
  },
  "kernelspec": {
   "display_name": "Python 3.9.10 64-bit",
   "language": "python",
   "name": "python3"
  },
  "language_info": {
   "codemirror_mode": {
    "name": "ipython",
    "version": 3
   },
   "file_extension": ".py",
   "mimetype": "text/x-python",
   "name": "python",
   "nbconvert_exporter": "python",
   "pygments_lexer": "ipython3",
   "version": "3.7.8"
  },
  "orig_nbformat": 4
 },
 "nbformat": 4,
 "nbformat_minor": 2
}
