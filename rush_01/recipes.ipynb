{
 "cells": [
  {
   "cell_type": "code",
   "execution_count": 1,
   "metadata": {},
   "outputs": [],
   "source": [
    "import pandas as pd\n",
    "from sklearn.model_selection import train_test_split\n",
    "from sklearn.linear_model import LinearRegression\n",
    "from sklearn import metrics\n",
    "import numpy as np\n",
    "from sklearn.model_selection import cross_val_score\n",
    "import sklearn\n",
    "from sklearn.naive_bayes import GaussianNB\n",
    "from sklearn.metrics import accuracy_score, precision_score\n",
    "import pickle\n",
    "from NutritionFacts import NutritionFacts\n",
    "from SimilarRecipes import SimilarRecipes\n",
    "from forecast import Forecast"
   ]
  },
  {
   "cell_type": "markdown",
   "metadata": {},
   "source": [
    "# Forecast"
   ]
  },
  {
   "cell_type": "markdown",
   "metadata": {},
   "source": [
    "### Data preparation"
   ]
  },
  {
   "cell_type": "code",
   "execution_count": 3,
   "metadata": {
    "scrolled": true
   },
   "outputs": [
    {
     "name": "stderr",
     "output_type": "stream",
     "text": [
      "/Users/banji/Desktop/ds_piscine/rush_01/celys/lib/python3.9/site-packages/IPython/core/interactiveshell.py:3369: FutureWarning: In a future version of pandas all arguments of read_csv except for the argument 'filepath_or_buffer' will be keyword-only.\n",
      "  exec(code_obj, self.user_global_ns, self.user_ns)\n"
     ]
    }
   ],
   "source": [
    "df = pd.read_csv(\"epi_r.csv\", ',')"
   ]
  },
  {
   "cell_type": "code",
   "execution_count": 4,
   "metadata": {},
   "outputs": [
    {
     "data": {
      "text/html": [
       "<div>\n",
       "<style scoped>\n",
       "    .dataframe tbody tr th:only-of-type {\n",
       "        vertical-align: middle;\n",
       "    }\n",
       "\n",
       "    .dataframe tbody tr th {\n",
       "        vertical-align: top;\n",
       "    }\n",
       "\n",
       "    .dataframe thead th {\n",
       "        text-align: right;\n",
       "    }\n",
       "</style>\n",
       "<table border=\"1\" class=\"dataframe\">\n",
       "  <thead>\n",
       "    <tr style=\"text-align: right;\">\n",
       "      <th></th>\n",
       "      <th>alabama</th>\n",
       "      <th>alaska</th>\n",
       "      <th>alcoholic</th>\n",
       "      <th>almond</th>\n",
       "      <th>amaretto</th>\n",
       "      <th>anchovy</th>\n",
       "      <th>anise</th>\n",
       "      <th>anniversary</th>\n",
       "      <th>anthony bourdain</th>\n",
       "      <th>aperitif</th>\n",
       "      <th>...</th>\n",
       "      <th>yellow squash</th>\n",
       "      <th>yogurt</th>\n",
       "      <th>yonkers</th>\n",
       "      <th>yuca</th>\n",
       "      <th>zucchini</th>\n",
       "      <th>cookbooks</th>\n",
       "      <th>leftovers</th>\n",
       "      <th>snack</th>\n",
       "      <th>snack week</th>\n",
       "      <th>turkey</th>\n",
       "    </tr>\n",
       "  </thead>\n",
       "  <tbody>\n",
       "    <tr>\n",
       "      <th>0</th>\n",
       "      <td>0.0</td>\n",
       "      <td>0.0</td>\n",
       "      <td>0.0</td>\n",
       "      <td>0.0</td>\n",
       "      <td>0.0</td>\n",
       "      <td>0.0</td>\n",
       "      <td>0.0</td>\n",
       "      <td>0.0</td>\n",
       "      <td>0.0</td>\n",
       "      <td>0.0</td>\n",
       "      <td>...</td>\n",
       "      <td>0.0</td>\n",
       "      <td>0.0</td>\n",
       "      <td>0.0</td>\n",
       "      <td>0.0</td>\n",
       "      <td>0.0</td>\n",
       "      <td>0.0</td>\n",
       "      <td>0.0</td>\n",
       "      <td>0.0</td>\n",
       "      <td>0.0</td>\n",
       "      <td>1.0</td>\n",
       "    </tr>\n",
       "    <tr>\n",
       "      <th>1</th>\n",
       "      <td>0.0</td>\n",
       "      <td>0.0</td>\n",
       "      <td>0.0</td>\n",
       "      <td>0.0</td>\n",
       "      <td>0.0</td>\n",
       "      <td>0.0</td>\n",
       "      <td>0.0</td>\n",
       "      <td>0.0</td>\n",
       "      <td>0.0</td>\n",
       "      <td>0.0</td>\n",
       "      <td>...</td>\n",
       "      <td>0.0</td>\n",
       "      <td>0.0</td>\n",
       "      <td>0.0</td>\n",
       "      <td>0.0</td>\n",
       "      <td>0.0</td>\n",
       "      <td>0.0</td>\n",
       "      <td>0.0</td>\n",
       "      <td>0.0</td>\n",
       "      <td>0.0</td>\n",
       "      <td>0.0</td>\n",
       "    </tr>\n",
       "    <tr>\n",
       "      <th>2</th>\n",
       "      <td>0.0</td>\n",
       "      <td>0.0</td>\n",
       "      <td>0.0</td>\n",
       "      <td>0.0</td>\n",
       "      <td>0.0</td>\n",
       "      <td>0.0</td>\n",
       "      <td>0.0</td>\n",
       "      <td>0.0</td>\n",
       "      <td>0.0</td>\n",
       "      <td>0.0</td>\n",
       "      <td>...</td>\n",
       "      <td>0.0</td>\n",
       "      <td>0.0</td>\n",
       "      <td>0.0</td>\n",
       "      <td>0.0</td>\n",
       "      <td>0.0</td>\n",
       "      <td>0.0</td>\n",
       "      <td>0.0</td>\n",
       "      <td>0.0</td>\n",
       "      <td>0.0</td>\n",
       "      <td>0.0</td>\n",
       "    </tr>\n",
       "    <tr>\n",
       "      <th>3</th>\n",
       "      <td>0.0</td>\n",
       "      <td>0.0</td>\n",
       "      <td>0.0</td>\n",
       "      <td>0.0</td>\n",
       "      <td>0.0</td>\n",
       "      <td>0.0</td>\n",
       "      <td>0.0</td>\n",
       "      <td>0.0</td>\n",
       "      <td>0.0</td>\n",
       "      <td>0.0</td>\n",
       "      <td>...</td>\n",
       "      <td>0.0</td>\n",
       "      <td>0.0</td>\n",
       "      <td>0.0</td>\n",
       "      <td>0.0</td>\n",
       "      <td>0.0</td>\n",
       "      <td>0.0</td>\n",
       "      <td>0.0</td>\n",
       "      <td>0.0</td>\n",
       "      <td>0.0</td>\n",
       "      <td>0.0</td>\n",
       "    </tr>\n",
       "    <tr>\n",
       "      <th>4</th>\n",
       "      <td>0.0</td>\n",
       "      <td>0.0</td>\n",
       "      <td>0.0</td>\n",
       "      <td>0.0</td>\n",
       "      <td>0.0</td>\n",
       "      <td>0.0</td>\n",
       "      <td>0.0</td>\n",
       "      <td>0.0</td>\n",
       "      <td>0.0</td>\n",
       "      <td>0.0</td>\n",
       "      <td>...</td>\n",
       "      <td>0.0</td>\n",
       "      <td>0.0</td>\n",
       "      <td>0.0</td>\n",
       "      <td>0.0</td>\n",
       "      <td>0.0</td>\n",
       "      <td>0.0</td>\n",
       "      <td>0.0</td>\n",
       "      <td>0.0</td>\n",
       "      <td>0.0</td>\n",
       "      <td>0.0</td>\n",
       "    </tr>\n",
       "    <tr>\n",
       "      <th>...</th>\n",
       "      <td>...</td>\n",
       "      <td>...</td>\n",
       "      <td>...</td>\n",
       "      <td>...</td>\n",
       "      <td>...</td>\n",
       "      <td>...</td>\n",
       "      <td>...</td>\n",
       "      <td>...</td>\n",
       "      <td>...</td>\n",
       "      <td>...</td>\n",
       "      <td>...</td>\n",
       "      <td>...</td>\n",
       "      <td>...</td>\n",
       "      <td>...</td>\n",
       "      <td>...</td>\n",
       "      <td>...</td>\n",
       "      <td>...</td>\n",
       "      <td>...</td>\n",
       "      <td>...</td>\n",
       "      <td>...</td>\n",
       "      <td>...</td>\n",
       "    </tr>\n",
       "    <tr>\n",
       "      <th>20047</th>\n",
       "      <td>0.0</td>\n",
       "      <td>0.0</td>\n",
       "      <td>0.0</td>\n",
       "      <td>0.0</td>\n",
       "      <td>0.0</td>\n",
       "      <td>0.0</td>\n",
       "      <td>0.0</td>\n",
       "      <td>0.0</td>\n",
       "      <td>0.0</td>\n",
       "      <td>0.0</td>\n",
       "      <td>...</td>\n",
       "      <td>0.0</td>\n",
       "      <td>0.0</td>\n",
       "      <td>0.0</td>\n",
       "      <td>0.0</td>\n",
       "      <td>0.0</td>\n",
       "      <td>0.0</td>\n",
       "      <td>0.0</td>\n",
       "      <td>0.0</td>\n",
       "      <td>0.0</td>\n",
       "      <td>0.0</td>\n",
       "    </tr>\n",
       "    <tr>\n",
       "      <th>20048</th>\n",
       "      <td>0.0</td>\n",
       "      <td>0.0</td>\n",
       "      <td>0.0</td>\n",
       "      <td>0.0</td>\n",
       "      <td>0.0</td>\n",
       "      <td>0.0</td>\n",
       "      <td>0.0</td>\n",
       "      <td>0.0</td>\n",
       "      <td>0.0</td>\n",
       "      <td>0.0</td>\n",
       "      <td>...</td>\n",
       "      <td>0.0</td>\n",
       "      <td>0.0</td>\n",
       "      <td>0.0</td>\n",
       "      <td>0.0</td>\n",
       "      <td>0.0</td>\n",
       "      <td>0.0</td>\n",
       "      <td>0.0</td>\n",
       "      <td>0.0</td>\n",
       "      <td>0.0</td>\n",
       "      <td>0.0</td>\n",
       "    </tr>\n",
       "    <tr>\n",
       "      <th>20049</th>\n",
       "      <td>0.0</td>\n",
       "      <td>0.0</td>\n",
       "      <td>0.0</td>\n",
       "      <td>0.0</td>\n",
       "      <td>0.0</td>\n",
       "      <td>0.0</td>\n",
       "      <td>0.0</td>\n",
       "      <td>0.0</td>\n",
       "      <td>0.0</td>\n",
       "      <td>0.0</td>\n",
       "      <td>...</td>\n",
       "      <td>0.0</td>\n",
       "      <td>0.0</td>\n",
       "      <td>0.0</td>\n",
       "      <td>0.0</td>\n",
       "      <td>0.0</td>\n",
       "      <td>0.0</td>\n",
       "      <td>0.0</td>\n",
       "      <td>0.0</td>\n",
       "      <td>0.0</td>\n",
       "      <td>1.0</td>\n",
       "    </tr>\n",
       "    <tr>\n",
       "      <th>20050</th>\n",
       "      <td>0.0</td>\n",
       "      <td>0.0</td>\n",
       "      <td>0.0</td>\n",
       "      <td>0.0</td>\n",
       "      <td>0.0</td>\n",
       "      <td>0.0</td>\n",
       "      <td>0.0</td>\n",
       "      <td>0.0</td>\n",
       "      <td>0.0</td>\n",
       "      <td>0.0</td>\n",
       "      <td>...</td>\n",
       "      <td>0.0</td>\n",
       "      <td>0.0</td>\n",
       "      <td>0.0</td>\n",
       "      <td>0.0</td>\n",
       "      <td>0.0</td>\n",
       "      <td>0.0</td>\n",
       "      <td>0.0</td>\n",
       "      <td>0.0</td>\n",
       "      <td>0.0</td>\n",
       "      <td>0.0</td>\n",
       "    </tr>\n",
       "    <tr>\n",
       "      <th>20051</th>\n",
       "      <td>0.0</td>\n",
       "      <td>0.0</td>\n",
       "      <td>0.0</td>\n",
       "      <td>0.0</td>\n",
       "      <td>0.0</td>\n",
       "      <td>0.0</td>\n",
       "      <td>0.0</td>\n",
       "      <td>0.0</td>\n",
       "      <td>0.0</td>\n",
       "      <td>0.0</td>\n",
       "      <td>...</td>\n",
       "      <td>0.0</td>\n",
       "      <td>0.0</td>\n",
       "      <td>0.0</td>\n",
       "      <td>0.0</td>\n",
       "      <td>0.0</td>\n",
       "      <td>0.0</td>\n",
       "      <td>0.0</td>\n",
       "      <td>0.0</td>\n",
       "      <td>0.0</td>\n",
       "      <td>0.0</td>\n",
       "    </tr>\n",
       "  </tbody>\n",
       "</table>\n",
       "<p>20052 rows × 668 columns</p>\n",
       "</div>"
      ],
      "text/plain": [
       "       alabama  alaska  alcoholic  almond  amaretto  anchovy  anise  \\\n",
       "0          0.0     0.0        0.0     0.0       0.0      0.0    0.0   \n",
       "1          0.0     0.0        0.0     0.0       0.0      0.0    0.0   \n",
       "2          0.0     0.0        0.0     0.0       0.0      0.0    0.0   \n",
       "3          0.0     0.0        0.0     0.0       0.0      0.0    0.0   \n",
       "4          0.0     0.0        0.0     0.0       0.0      0.0    0.0   \n",
       "...        ...     ...        ...     ...       ...      ...    ...   \n",
       "20047      0.0     0.0        0.0     0.0       0.0      0.0    0.0   \n",
       "20048      0.0     0.0        0.0     0.0       0.0      0.0    0.0   \n",
       "20049      0.0     0.0        0.0     0.0       0.0      0.0    0.0   \n",
       "20050      0.0     0.0        0.0     0.0       0.0      0.0    0.0   \n",
       "20051      0.0     0.0        0.0     0.0       0.0      0.0    0.0   \n",
       "\n",
       "       anniversary  anthony bourdain  aperitif  ...  yellow squash  yogurt  \\\n",
       "0              0.0               0.0       0.0  ...            0.0     0.0   \n",
       "1              0.0               0.0       0.0  ...            0.0     0.0   \n",
       "2              0.0               0.0       0.0  ...            0.0     0.0   \n",
       "3              0.0               0.0       0.0  ...            0.0     0.0   \n",
       "4              0.0               0.0       0.0  ...            0.0     0.0   \n",
       "...            ...               ...       ...  ...            ...     ...   \n",
       "20047          0.0               0.0       0.0  ...            0.0     0.0   \n",
       "20048          0.0               0.0       0.0  ...            0.0     0.0   \n",
       "20049          0.0               0.0       0.0  ...            0.0     0.0   \n",
       "20050          0.0               0.0       0.0  ...            0.0     0.0   \n",
       "20051          0.0               0.0       0.0  ...            0.0     0.0   \n",
       "\n",
       "       yonkers  yuca  zucchini  cookbooks  leftovers  snack  snack week  \\\n",
       "0          0.0   0.0       0.0        0.0        0.0    0.0         0.0   \n",
       "1          0.0   0.0       0.0        0.0        0.0    0.0         0.0   \n",
       "2          0.0   0.0       0.0        0.0        0.0    0.0         0.0   \n",
       "3          0.0   0.0       0.0        0.0        0.0    0.0         0.0   \n",
       "4          0.0   0.0       0.0        0.0        0.0    0.0         0.0   \n",
       "...        ...   ...       ...        ...        ...    ...         ...   \n",
       "20047      0.0   0.0       0.0        0.0        0.0    0.0         0.0   \n",
       "20048      0.0   0.0       0.0        0.0        0.0    0.0         0.0   \n",
       "20049      0.0   0.0       0.0        0.0        0.0    0.0         0.0   \n",
       "20050      0.0   0.0       0.0        0.0        0.0    0.0         0.0   \n",
       "20051      0.0   0.0       0.0        0.0        0.0    0.0         0.0   \n",
       "\n",
       "       turkey  \n",
       "0         1.0  \n",
       "1         0.0  \n",
       "2         0.0  \n",
       "3         0.0  \n",
       "4         0.0  \n",
       "...       ...  \n",
       "20047     0.0  \n",
       "20048     0.0  \n",
       "20049     1.0  \n",
       "20050     0.0  \n",
       "20051     0.0  \n",
       "\n",
       "[20052 rows x 668 columns]"
      ]
     },
     "execution_count": 4,
     "metadata": {},
     "output_type": "execute_result"
    }
   ],
   "source": [
    "df_ingredients = df.drop(['title', 'sodium','fat','protein','calories', 'rating','#cakeweek','#wasteless',\\\n",
    "                        '22-minute meals','3-ingredient recipes','30 days of groceries','advance prep required'], axis=1)\n",
    "df_ingredients"
   ]
  },
  {
   "cell_type": "code",
   "execution_count": 4,
   "metadata": {},
   "outputs": [],
   "source": [
    "X = df_ingredients\n",
    "y = df['rating']"
   ]
  },
  {
   "cell_type": "markdown",
   "metadata": {},
   "source": [
    "### Regression"
   ]
  },
  {
   "cell_type": "code",
   "execution_count": 5,
   "metadata": {},
   "outputs": [
    {
     "data": {
      "text/plain": [
       "LinearRegression()"
      ]
     },
     "execution_count": 5,
     "metadata": {},
     "output_type": "execute_result"
    }
   ],
   "source": [
    "X_train, X_test, y_train, y_test = train_test_split(X, y, test_size=0.2, random_state=0)\n",
    "\n",
    "regressor = LinearRegression()\n",
    "regressor.fit(X_train, y_train)\n",
    "\n"
   ]
  },
  {
   "cell_type": "code",
   "execution_count": 6,
   "metadata": {},
   "outputs": [],
   "source": [
    "y_pred = regressor.predict(X_test)"
   ]
  },
  {
   "cell_type": "code",
   "execution_count": 7,
   "metadata": {},
   "outputs": [
    {
     "data": {
      "text/plain": [
       "4.540300072237136"
      ]
     },
     "execution_count": 7,
     "metadata": {},
     "output_type": "execute_result"
    }
   ],
   "source": [
    "y_pred[3]"
   ]
  },
  {
   "cell_type": "code",
   "execution_count": 8,
   "metadata": {},
   "outputs": [
    {
     "name": "stdout",
     "output_type": "stream",
     "text": [
      "Root Mean Squared Error: 360425745.46630853\n"
     ]
    }
   ],
   "source": [
    "print('Root Mean Squared Error:', np.sqrt(metrics.mean_squared_error(y_test, y_pred)))"
   ]
  },
  {
   "cell_type": "code",
   "execution_count": 9,
   "metadata": {},
   "outputs": [
    {
     "data": {
      "text/plain": [
       "array([-2.31815502e+22, -1.58937919e+21, -1.35311323e+20, -8.24323917e+20,\n",
       "       -3.44786378e+19])"
      ]
     },
     "execution_count": 9,
     "metadata": {},
     "output_type": "execute_result"
    }
   ],
   "source": [
    "scores = cross_val_score(regressor, X, y, cv=5, scoring='neg_mean_squared_error')\n",
    "scores\n"
   ]
  },
  {
   "cell_type": "code",
   "execution_count": 10,
   "metadata": {},
   "outputs": [
    {
     "name": "stdout",
     "output_type": "stream",
     "text": [
      "-5153008657501765238784.00 accuracy with a standard deviation of 9031521617084384542720.00\n"
     ]
    }
   ],
   "source": [
    "print(\"%0.2f accuracy with a standard deviation of %0.2f\" % (scores.mean(), scores.std()))"
   ]
  },
  {
   "cell_type": "code",
   "execution_count": 11,
   "metadata": {},
   "outputs": [
    {
     "data": {
      "text/html": [
       "<div>\n",
       "<style scoped>\n",
       "    .dataframe tbody tr th:only-of-type {\n",
       "        vertical-align: middle;\n",
       "    }\n",
       "\n",
       "    .dataframe tbody tr th {\n",
       "        vertical-align: top;\n",
       "    }\n",
       "\n",
       "    .dataframe thead th {\n",
       "        text-align: right;\n",
       "    }\n",
       "</style>\n",
       "<table border=\"1\" class=\"dataframe\">\n",
       "  <thead>\n",
       "    <tr style=\"text-align: right;\">\n",
       "      <th></th>\n",
       "      <th>alabama</th>\n",
       "      <th>alaska</th>\n",
       "      <th>alcoholic</th>\n",
       "      <th>almond</th>\n",
       "      <th>amaretto</th>\n",
       "      <th>anchovy</th>\n",
       "      <th>anise</th>\n",
       "      <th>anniversary</th>\n",
       "      <th>anthony bourdain</th>\n",
       "      <th>aperitif</th>\n",
       "      <th>...</th>\n",
       "      <th>yellow squash</th>\n",
       "      <th>yogurt</th>\n",
       "      <th>yonkers</th>\n",
       "      <th>yuca</th>\n",
       "      <th>zucchini</th>\n",
       "      <th>cookbooks</th>\n",
       "      <th>leftovers</th>\n",
       "      <th>snack</th>\n",
       "      <th>snack week</th>\n",
       "      <th>turkey</th>\n",
       "    </tr>\n",
       "  </thead>\n",
       "  <tbody>\n",
       "    <tr>\n",
       "      <th>0</th>\n",
       "      <td>0.0</td>\n",
       "      <td>0.0</td>\n",
       "      <td>0.0</td>\n",
       "      <td>0.0</td>\n",
       "      <td>0.0</td>\n",
       "      <td>0.0</td>\n",
       "      <td>0.0</td>\n",
       "      <td>0.0</td>\n",
       "      <td>0.0</td>\n",
       "      <td>0.0</td>\n",
       "      <td>...</td>\n",
       "      <td>0.0</td>\n",
       "      <td>0.0</td>\n",
       "      <td>0.0</td>\n",
       "      <td>0.0</td>\n",
       "      <td>0.0</td>\n",
       "      <td>0.0</td>\n",
       "      <td>0.0</td>\n",
       "      <td>0.0</td>\n",
       "      <td>0.0</td>\n",
       "      <td>1.0</td>\n",
       "    </tr>\n",
       "    <tr>\n",
       "      <th>1</th>\n",
       "      <td>0.0</td>\n",
       "      <td>0.0</td>\n",
       "      <td>0.0</td>\n",
       "      <td>0.0</td>\n",
       "      <td>0.0</td>\n",
       "      <td>0.0</td>\n",
       "      <td>0.0</td>\n",
       "      <td>0.0</td>\n",
       "      <td>0.0</td>\n",
       "      <td>0.0</td>\n",
       "      <td>...</td>\n",
       "      <td>0.0</td>\n",
       "      <td>0.0</td>\n",
       "      <td>0.0</td>\n",
       "      <td>0.0</td>\n",
       "      <td>0.0</td>\n",
       "      <td>0.0</td>\n",
       "      <td>0.0</td>\n",
       "      <td>0.0</td>\n",
       "      <td>0.0</td>\n",
       "      <td>0.0</td>\n",
       "    </tr>\n",
       "    <tr>\n",
       "      <th>2</th>\n",
       "      <td>0.0</td>\n",
       "      <td>0.0</td>\n",
       "      <td>0.0</td>\n",
       "      <td>0.0</td>\n",
       "      <td>0.0</td>\n",
       "      <td>0.0</td>\n",
       "      <td>0.0</td>\n",
       "      <td>0.0</td>\n",
       "      <td>0.0</td>\n",
       "      <td>0.0</td>\n",
       "      <td>...</td>\n",
       "      <td>0.0</td>\n",
       "      <td>0.0</td>\n",
       "      <td>0.0</td>\n",
       "      <td>0.0</td>\n",
       "      <td>0.0</td>\n",
       "      <td>0.0</td>\n",
       "      <td>0.0</td>\n",
       "      <td>0.0</td>\n",
       "      <td>0.0</td>\n",
       "      <td>0.0</td>\n",
       "    </tr>\n",
       "    <tr>\n",
       "      <th>3</th>\n",
       "      <td>0.0</td>\n",
       "      <td>0.0</td>\n",
       "      <td>0.0</td>\n",
       "      <td>0.0</td>\n",
       "      <td>0.0</td>\n",
       "      <td>0.0</td>\n",
       "      <td>0.0</td>\n",
       "      <td>0.0</td>\n",
       "      <td>0.0</td>\n",
       "      <td>0.0</td>\n",
       "      <td>...</td>\n",
       "      <td>0.0</td>\n",
       "      <td>0.0</td>\n",
       "      <td>0.0</td>\n",
       "      <td>0.0</td>\n",
       "      <td>0.0</td>\n",
       "      <td>0.0</td>\n",
       "      <td>0.0</td>\n",
       "      <td>0.0</td>\n",
       "      <td>0.0</td>\n",
       "      <td>0.0</td>\n",
       "    </tr>\n",
       "    <tr>\n",
       "      <th>4</th>\n",
       "      <td>0.0</td>\n",
       "      <td>0.0</td>\n",
       "      <td>0.0</td>\n",
       "      <td>0.0</td>\n",
       "      <td>0.0</td>\n",
       "      <td>0.0</td>\n",
       "      <td>0.0</td>\n",
       "      <td>0.0</td>\n",
       "      <td>0.0</td>\n",
       "      <td>0.0</td>\n",
       "      <td>...</td>\n",
       "      <td>0.0</td>\n",
       "      <td>0.0</td>\n",
       "      <td>0.0</td>\n",
       "      <td>0.0</td>\n",
       "      <td>0.0</td>\n",
       "      <td>0.0</td>\n",
       "      <td>0.0</td>\n",
       "      <td>0.0</td>\n",
       "      <td>0.0</td>\n",
       "      <td>0.0</td>\n",
       "    </tr>\n",
       "    <tr>\n",
       "      <th>...</th>\n",
       "      <td>...</td>\n",
       "      <td>...</td>\n",
       "      <td>...</td>\n",
       "      <td>...</td>\n",
       "      <td>...</td>\n",
       "      <td>...</td>\n",
       "      <td>...</td>\n",
       "      <td>...</td>\n",
       "      <td>...</td>\n",
       "      <td>...</td>\n",
       "      <td>...</td>\n",
       "      <td>...</td>\n",
       "      <td>...</td>\n",
       "      <td>...</td>\n",
       "      <td>...</td>\n",
       "      <td>...</td>\n",
       "      <td>...</td>\n",
       "      <td>...</td>\n",
       "      <td>...</td>\n",
       "      <td>...</td>\n",
       "      <td>...</td>\n",
       "    </tr>\n",
       "    <tr>\n",
       "      <th>20047</th>\n",
       "      <td>0.0</td>\n",
       "      <td>0.0</td>\n",
       "      <td>0.0</td>\n",
       "      <td>0.0</td>\n",
       "      <td>0.0</td>\n",
       "      <td>0.0</td>\n",
       "      <td>0.0</td>\n",
       "      <td>0.0</td>\n",
       "      <td>0.0</td>\n",
       "      <td>0.0</td>\n",
       "      <td>...</td>\n",
       "      <td>0.0</td>\n",
       "      <td>0.0</td>\n",
       "      <td>0.0</td>\n",
       "      <td>0.0</td>\n",
       "      <td>0.0</td>\n",
       "      <td>0.0</td>\n",
       "      <td>0.0</td>\n",
       "      <td>0.0</td>\n",
       "      <td>0.0</td>\n",
       "      <td>0.0</td>\n",
       "    </tr>\n",
       "    <tr>\n",
       "      <th>20048</th>\n",
       "      <td>0.0</td>\n",
       "      <td>0.0</td>\n",
       "      <td>0.0</td>\n",
       "      <td>0.0</td>\n",
       "      <td>0.0</td>\n",
       "      <td>0.0</td>\n",
       "      <td>0.0</td>\n",
       "      <td>0.0</td>\n",
       "      <td>0.0</td>\n",
       "      <td>0.0</td>\n",
       "      <td>...</td>\n",
       "      <td>0.0</td>\n",
       "      <td>0.0</td>\n",
       "      <td>0.0</td>\n",
       "      <td>0.0</td>\n",
       "      <td>0.0</td>\n",
       "      <td>0.0</td>\n",
       "      <td>0.0</td>\n",
       "      <td>0.0</td>\n",
       "      <td>0.0</td>\n",
       "      <td>0.0</td>\n",
       "    </tr>\n",
       "    <tr>\n",
       "      <th>20049</th>\n",
       "      <td>0.0</td>\n",
       "      <td>0.0</td>\n",
       "      <td>0.0</td>\n",
       "      <td>0.0</td>\n",
       "      <td>0.0</td>\n",
       "      <td>0.0</td>\n",
       "      <td>0.0</td>\n",
       "      <td>0.0</td>\n",
       "      <td>0.0</td>\n",
       "      <td>0.0</td>\n",
       "      <td>...</td>\n",
       "      <td>0.0</td>\n",
       "      <td>0.0</td>\n",
       "      <td>0.0</td>\n",
       "      <td>0.0</td>\n",
       "      <td>0.0</td>\n",
       "      <td>0.0</td>\n",
       "      <td>0.0</td>\n",
       "      <td>0.0</td>\n",
       "      <td>0.0</td>\n",
       "      <td>1.0</td>\n",
       "    </tr>\n",
       "    <tr>\n",
       "      <th>20050</th>\n",
       "      <td>0.0</td>\n",
       "      <td>0.0</td>\n",
       "      <td>0.0</td>\n",
       "      <td>0.0</td>\n",
       "      <td>0.0</td>\n",
       "      <td>0.0</td>\n",
       "      <td>0.0</td>\n",
       "      <td>0.0</td>\n",
       "      <td>0.0</td>\n",
       "      <td>0.0</td>\n",
       "      <td>...</td>\n",
       "      <td>0.0</td>\n",
       "      <td>0.0</td>\n",
       "      <td>0.0</td>\n",
       "      <td>0.0</td>\n",
       "      <td>0.0</td>\n",
       "      <td>0.0</td>\n",
       "      <td>0.0</td>\n",
       "      <td>0.0</td>\n",
       "      <td>0.0</td>\n",
       "      <td>0.0</td>\n",
       "    </tr>\n",
       "    <tr>\n",
       "      <th>20051</th>\n",
       "      <td>0.0</td>\n",
       "      <td>0.0</td>\n",
       "      <td>0.0</td>\n",
       "      <td>0.0</td>\n",
       "      <td>0.0</td>\n",
       "      <td>0.0</td>\n",
       "      <td>0.0</td>\n",
       "      <td>0.0</td>\n",
       "      <td>0.0</td>\n",
       "      <td>0.0</td>\n",
       "      <td>...</td>\n",
       "      <td>0.0</td>\n",
       "      <td>0.0</td>\n",
       "      <td>0.0</td>\n",
       "      <td>0.0</td>\n",
       "      <td>0.0</td>\n",
       "      <td>0.0</td>\n",
       "      <td>0.0</td>\n",
       "      <td>0.0</td>\n",
       "      <td>0.0</td>\n",
       "      <td>0.0</td>\n",
       "    </tr>\n",
       "  </tbody>\n",
       "</table>\n",
       "<p>20052 rows × 668 columns</p>\n",
       "</div>"
      ],
      "text/plain": [
       "       alabama  alaska  alcoholic  almond  amaretto  anchovy  anise  \\\n",
       "0          0.0     0.0        0.0     0.0       0.0      0.0    0.0   \n",
       "1          0.0     0.0        0.0     0.0       0.0      0.0    0.0   \n",
       "2          0.0     0.0        0.0     0.0       0.0      0.0    0.0   \n",
       "3          0.0     0.0        0.0     0.0       0.0      0.0    0.0   \n",
       "4          0.0     0.0        0.0     0.0       0.0      0.0    0.0   \n",
       "...        ...     ...        ...     ...       ...      ...    ...   \n",
       "20047      0.0     0.0        0.0     0.0       0.0      0.0    0.0   \n",
       "20048      0.0     0.0        0.0     0.0       0.0      0.0    0.0   \n",
       "20049      0.0     0.0        0.0     0.0       0.0      0.0    0.0   \n",
       "20050      0.0     0.0        0.0     0.0       0.0      0.0    0.0   \n",
       "20051      0.0     0.0        0.0     0.0       0.0      0.0    0.0   \n",
       "\n",
       "       anniversary  anthony bourdain  aperitif  ...  yellow squash  yogurt  \\\n",
       "0              0.0               0.0       0.0  ...            0.0     0.0   \n",
       "1              0.0               0.0       0.0  ...            0.0     0.0   \n",
       "2              0.0               0.0       0.0  ...            0.0     0.0   \n",
       "3              0.0               0.0       0.0  ...            0.0     0.0   \n",
       "4              0.0               0.0       0.0  ...            0.0     0.0   \n",
       "...            ...               ...       ...  ...            ...     ...   \n",
       "20047          0.0               0.0       0.0  ...            0.0     0.0   \n",
       "20048          0.0               0.0       0.0  ...            0.0     0.0   \n",
       "20049          0.0               0.0       0.0  ...            0.0     0.0   \n",
       "20050          0.0               0.0       0.0  ...            0.0     0.0   \n",
       "20051          0.0               0.0       0.0  ...            0.0     0.0   \n",
       "\n",
       "       yonkers  yuca  zucchini  cookbooks  leftovers  snack  snack week  \\\n",
       "0          0.0   0.0       0.0        0.0        0.0    0.0         0.0   \n",
       "1          0.0   0.0       0.0        0.0        0.0    0.0         0.0   \n",
       "2          0.0   0.0       0.0        0.0        0.0    0.0         0.0   \n",
       "3          0.0   0.0       0.0        0.0        0.0    0.0         0.0   \n",
       "4          0.0   0.0       0.0        0.0        0.0    0.0         0.0   \n",
       "...        ...   ...       ...        ...        ...    ...         ...   \n",
       "20047      0.0   0.0       0.0        0.0        0.0    0.0         0.0   \n",
       "20048      0.0   0.0       0.0        0.0        0.0    0.0         0.0   \n",
       "20049      0.0   0.0       0.0        0.0        0.0    0.0         0.0   \n",
       "20050      0.0   0.0       0.0        0.0        0.0    0.0         0.0   \n",
       "20051      0.0   0.0       0.0        0.0        0.0    0.0         0.0   \n",
       "\n",
       "       turkey  \n",
       "0         1.0  \n",
       "1         0.0  \n",
       "2         0.0  \n",
       "3         0.0  \n",
       "4         0.0  \n",
       "...       ...  \n",
       "20047     0.0  \n",
       "20048     0.0  \n",
       "20049     1.0  \n",
       "20050     0.0  \n",
       "20051     0.0  \n",
       "\n",
       "[20052 rows x 668 columns]"
      ]
     },
     "execution_count": 11,
     "metadata": {},
     "output_type": "execute_result"
    }
   ],
   "source": [
    "X"
   ]
  },
  {
   "cell_type": "code",
   "execution_count": 12,
   "metadata": {},
   "outputs": [
    {
     "data": {
      "text/plain": [
       "DecisionTreeRegressor(random_state=0)"
      ]
     },
     "execution_count": 12,
     "metadata": {},
     "output_type": "execute_result"
    }
   ],
   "source": [
    "from sklearn.tree import DecisionTreeRegressor\n",
    "\n",
    "regressor_tree = DecisionTreeRegressor(random_state=0)\n",
    "regressor_tree.fit(X_train, y_train)"
   ]
  },
  {
   "cell_type": "code",
   "execution_count": 13,
   "metadata": {},
   "outputs": [
    {
     "data": {
      "text/plain": [
       "array([4.375, 3.75 , 3.75 , ..., 0.   , 5.   , 5.   ])"
      ]
     },
     "execution_count": 13,
     "metadata": {},
     "output_type": "execute_result"
    }
   ],
   "source": [
    "regressor_tree.predict(X_test)"
   ]
  },
  {
   "cell_type": "code",
   "execution_count": 14,
   "metadata": {},
   "outputs": [
    {
     "data": {
      "text/plain": [
       "array([-0.29601761, -0.27576534, -0.29716689, -0.28972393, -0.27808708,\n",
       "       -0.27915272, -0.22684112, -0.28046989, -0.26842379, -0.31871147])"
      ]
     },
     "execution_count": 14,
     "metadata": {},
     "output_type": "execute_result"
    }
   ],
   "source": [
    "cross_val_score(regressor_tree, X, y, cv=10)\n"
   ]
  },
  {
   "cell_type": "code",
   "execution_count": 15,
   "metadata": {},
   "outputs": [
    {
     "name": "stdout",
     "output_type": "stream",
     "text": [
      "Root Mean Squared Error: 1.511583596468524\n"
     ]
    }
   ],
   "source": [
    "print('Root Mean Squared Error:', np.sqrt(metrics.mean_squared_error(y_test, regressor_tree.predict(X_test))))"
   ]
  },
  {
   "cell_type": "code",
   "execution_count": null,
   "metadata": {},
   "outputs": [],
   "source": []
  },
  {
   "cell_type": "code",
   "execution_count": null,
   "metadata": {},
   "outputs": [],
   "source": []
  },
  {
   "cell_type": "code",
   "execution_count": null,
   "metadata": {},
   "outputs": [],
   "source": []
  },
  {
   "cell_type": "code",
   "execution_count": null,
   "metadata": {},
   "outputs": [],
   "source": []
  },
  {
   "cell_type": "code",
   "execution_count": null,
   "metadata": {},
   "outputs": [],
   "source": []
  },
  {
   "cell_type": "code",
   "execution_count": null,
   "metadata": {},
   "outputs": [],
   "source": []
  },
  {
   "cell_type": "code",
   "execution_count": null,
   "metadata": {},
   "outputs": [],
   "source": []
  },
  {
   "cell_type": "markdown",
   "metadata": {},
   "source": [
    "### Classification"
   ]
  },
  {
   "cell_type": "code",
   "execution_count": 16,
   "metadata": {},
   "outputs": [],
   "source": [
    "X_train, X_test, y_train, y_test = train_test_split(X, y, test_size=0.2, random_state=0)"
   ]
  },
  {
   "cell_type": "code",
   "execution_count": 17,
   "metadata": {},
   "outputs": [],
   "source": [
    "y_cat = y.apply(lambda x: round(x))"
   ]
  },
  {
   "cell_type": "code",
   "execution_count": 18,
   "metadata": {},
   "outputs": [
    {
     "data": {
      "text/plain": [
       "0        2\n",
       "1        4\n",
       "2        4\n",
       "3        5\n",
       "4        3\n",
       "        ..\n",
       "20047    3\n",
       "20048    4\n",
       "20049    4\n",
       "20050    4\n",
       "20051    4\n",
       "Name: rating, Length: 20052, dtype: int64"
      ]
     },
     "execution_count": 18,
     "metadata": {},
     "output_type": "execute_result"
    }
   ],
   "source": [
    "y_cat"
   ]
  },
  {
   "cell_type": "code",
   "execution_count": 19,
   "metadata": {},
   "outputs": [],
   "source": [
    "X_train, X_test, y_train, y_test = train_test_split(X, y_cat, test_size=0.2, random_state=0)\n"
   ]
  },
  {
   "cell_type": "code",
   "execution_count": 20,
   "metadata": {},
   "outputs": [
    {
     "name": "stdout",
     "output_type": "stream",
     "text": [
      "Root Mean Squared Error: 1.3862594573065417\n"
     ]
    },
    {
     "name": "stderr",
     "output_type": "stream",
     "text": [
      "/Users/banji/Desktop/ds_piscine/rush_01/celys/lib/python3.9/site-packages/sklearn/linear_model/_logistic.py:814: ConvergenceWarning: lbfgs failed to converge (status=1):\n",
      "STOP: TOTAL NO. of ITERATIONS REACHED LIMIT.\n",
      "\n",
      "Increase the number of iterations (max_iter) or scale the data as shown in:\n",
      "    https://scikit-learn.org/stable/modules/preprocessing.html\n",
      "Please also refer to the documentation for alternative solver options:\n",
      "    https://scikit-learn.org/stable/modules/linear_model.html#logistic-regression\n",
      "  n_iter_i = _check_optimize_result(\n"
     ]
    }
   ],
   "source": [
    "from sklearn.linear_model import LogisticRegression\n",
    "lr = LogisticRegression()\n",
    "lr.fit(X_train, y_train)\n",
    "y_pred = lr.predict(X_test)\n",
    "print('Root Mean Squared Error:', np.sqrt(metrics.mean_squared_error(y_test, y_pred)))"
   ]
  },
  {
   "cell_type": "code",
   "execution_count": 21,
   "metadata": {},
   "outputs": [
    {
     "name": "stderr",
     "output_type": "stream",
     "text": [
      "/Users/banji/Desktop/ds_piscine/rush_01/celys/lib/python3.9/site-packages/sklearn/linear_model/_logistic.py:814: ConvergenceWarning: lbfgs failed to converge (status=1):\n",
      "STOP: TOTAL NO. of ITERATIONS REACHED LIMIT.\n",
      "\n",
      "Increase the number of iterations (max_iter) or scale the data as shown in:\n",
      "    https://scikit-learn.org/stable/modules/preprocessing.html\n",
      "Please also refer to the documentation for alternative solver options:\n",
      "    https://scikit-learn.org/stable/modules/linear_model.html#logistic-regression\n",
      "  n_iter_i = _check_optimize_result(\n",
      "/Users/banji/Desktop/ds_piscine/rush_01/celys/lib/python3.9/site-packages/sklearn/linear_model/_logistic.py:814: ConvergenceWarning: lbfgs failed to converge (status=1):\n",
      "STOP: TOTAL NO. of ITERATIONS REACHED LIMIT.\n",
      "\n",
      "Increase the number of iterations (max_iter) or scale the data as shown in:\n",
      "    https://scikit-learn.org/stable/modules/preprocessing.html\n",
      "Please also refer to the documentation for alternative solver options:\n",
      "    https://scikit-learn.org/stable/modules/linear_model.html#logistic-regression\n",
      "  n_iter_i = _check_optimize_result(\n",
      "/Users/banji/Desktop/ds_piscine/rush_01/celys/lib/python3.9/site-packages/sklearn/linear_model/_logistic.py:814: ConvergenceWarning: lbfgs failed to converge (status=1):\n",
      "STOP: TOTAL NO. of ITERATIONS REACHED LIMIT.\n",
      "\n",
      "Increase the number of iterations (max_iter) or scale the data as shown in:\n",
      "    https://scikit-learn.org/stable/modules/preprocessing.html\n",
      "Please also refer to the documentation for alternative solver options:\n",
      "    https://scikit-learn.org/stable/modules/linear_model.html#logistic-regression\n",
      "  n_iter_i = _check_optimize_result(\n",
      "/Users/banji/Desktop/ds_piscine/rush_01/celys/lib/python3.9/site-packages/sklearn/linear_model/_logistic.py:814: ConvergenceWarning: lbfgs failed to converge (status=1):\n",
      "STOP: TOTAL NO. of ITERATIONS REACHED LIMIT.\n",
      "\n",
      "Increase the number of iterations (max_iter) or scale the data as shown in:\n",
      "    https://scikit-learn.org/stable/modules/preprocessing.html\n",
      "Please also refer to the documentation for alternative solver options:\n",
      "    https://scikit-learn.org/stable/modules/linear_model.html#logistic-regression\n",
      "  n_iter_i = _check_optimize_result(\n",
      "/Users/banji/Desktop/ds_piscine/rush_01/celys/lib/python3.9/site-packages/sklearn/linear_model/_logistic.py:814: ConvergenceWarning: lbfgs failed to converge (status=1):\n",
      "STOP: TOTAL NO. of ITERATIONS REACHED LIMIT.\n",
      "\n",
      "Increase the number of iterations (max_iter) or scale the data as shown in:\n",
      "    https://scikit-learn.org/stable/modules/preprocessing.html\n",
      "Please also refer to the documentation for alternative solver options:\n",
      "    https://scikit-learn.org/stable/modules/linear_model.html#logistic-regression\n",
      "  n_iter_i = _check_optimize_result(\n"
     ]
    },
    {
     "data": {
      "text/plain": [
       "array([-1.8214909 , -1.89877836, -1.93142145, -1.87930175, -2.0234414 ])"
      ]
     },
     "execution_count": 21,
     "metadata": {},
     "output_type": "execute_result"
    }
   ],
   "source": [
    "scores = cross_val_score(lr, X, y_cat, cv=5, scoring='neg_mean_squared_error')\n",
    "scores\n"
   ]
  },
  {
   "cell_type": "code",
   "execution_count": 22,
   "metadata": {},
   "outputs": [
    {
     "data": {
      "text/plain": [
       "0.6743954126153079"
      ]
     },
     "execution_count": 22,
     "metadata": {},
     "output_type": "execute_result"
    }
   ],
   "source": [
    "accuracy_score(y_test, y_pred)"
   ]
  },
  {
   "cell_type": "code",
   "execution_count": 23,
   "metadata": {},
   "outputs": [],
   "source": [
    "model = GaussianNB()\n",
    "model.fit(X_train, y_train)\n",
    "y_pred = model.predict(X_test)"
   ]
  },
  {
   "cell_type": "code",
   "execution_count": 24,
   "metadata": {},
   "outputs": [
    {
     "data": {
      "text/plain": [
       "0.04263275991024682"
      ]
     },
     "execution_count": 24,
     "metadata": {},
     "output_type": "execute_result"
    }
   ],
   "source": [
    "accuracy_score(y_test, y_pred)"
   ]
  },
  {
   "cell_type": "code",
   "execution_count": 25,
   "metadata": {},
   "outputs": [],
   "source": [
    "def func_for_classific(x):\n",
    "    if round(x) in (0,1):\n",
    "        return 'bad'\n",
    "    if round(x) in (2,3):\n",
    "        return 'so-so'\n",
    "    if round(x) in (4, 5):\n",
    "        return 'great'"
   ]
  },
  {
   "cell_type": "code",
   "execution_count": 26,
   "metadata": {},
   "outputs": [],
   "source": [
    "y_cat = y.apply(lambda x: func_for_classific(x))"
   ]
  },
  {
   "cell_type": "code",
   "execution_count": 27,
   "metadata": {},
   "outputs": [],
   "source": [
    "X_train, X_test, y_train, y_test = train_test_split(X, y_cat, test_size=0.2, random_state=0)"
   ]
  },
  {
   "cell_type": "markdown",
   "metadata": {},
   "source": [
    "#### SVC"
   ]
  },
  {
   "cell_type": "code",
   "execution_count": 28,
   "metadata": {},
   "outputs": [
    {
     "data": {
      "text/plain": [
       "SVC()"
      ]
     },
     "execution_count": 28,
     "metadata": {},
     "output_type": "execute_result"
    }
   ],
   "source": [
    "from sklearn import svm\n",
    "clf = svm.SVC()\n",
    "clf.fit(X_train, y_train)"
   ]
  },
  {
   "cell_type": "code",
   "execution_count": 29,
   "metadata": {},
   "outputs": [],
   "source": [
    "y_pred = clf.predict(X_test)"
   ]
  },
  {
   "cell_type": "code",
   "execution_count": 30,
   "metadata": {},
   "outputs": [
    {
     "data": {
      "text/plain": [
       "0.81276489653453"
      ]
     },
     "execution_count": 30,
     "metadata": {},
     "output_type": "execute_result"
    }
   ],
   "source": [
    "accuracy_score(y_test, y_pred)"
   ]
  },
  {
   "cell_type": "markdown",
   "metadata": {},
   "source": [
    "#TRUBL C ячейкой ниже\n"
   ]
  },
  {
   "cell_type": "code",
   "execution_count": null,
   "metadata": {},
   "outputs": [],
   "source": [
    "cv_results = cross_val_score(clf, X, y_cat, cv=5, scoring='neg_mean_squared_error')\n",
    "scores"
   ]
  },
  {
   "cell_type": "code",
   "execution_count": null,
   "metadata": {},
   "outputs": [],
   "source": [
    "cv_results['test_score']"
   ]
  },
  {
   "cell_type": "code",
   "execution_count": null,
   "metadata": {},
   "outputs": [],
   "source": []
  },
  {
   "cell_type": "code",
   "execution_count": 43,
   "metadata": {},
   "outputs": [
    {
     "name": "stderr",
     "output_type": "stream",
     "text": [
      "/Users/banji/Desktop/ds_piscine/rush_01/celys/lib/python3.9/site-packages/sklearn/model_selection/_validation.py:770: UserWarning: Scoring failed. The score on this train-test partition for these parameters will be set to nan. Details: \n",
      "Traceback (most recent call last):\n",
      "  File \"/Users/banji/Desktop/ds_piscine/rush_01/celys/lib/python3.9/site-packages/sklearn/model_selection/_validation.py\", line 761, in _score\n",
      "    scores = scorer(estimator, X_test, y_test)\n",
      "  File \"/Users/banji/Desktop/ds_piscine/rush_01/celys/lib/python3.9/site-packages/sklearn/metrics/_scorer.py\", line 216, in __call__\n",
      "    return self._score(\n",
      "  File \"/Users/banji/Desktop/ds_piscine/rush_01/celys/lib/python3.9/site-packages/sklearn/metrics/_scorer.py\", line 264, in _score\n",
      "    return self._sign * self._score_func(y_true, y_pred, **self._kwargs)\n",
      "  File \"/Users/banji/Desktop/ds_piscine/rush_01/celys/lib/python3.9/site-packages/sklearn/metrics/_regression.py\", line 438, in mean_squared_error\n",
      "    y_type, y_true, y_pred, multioutput = _check_reg_targets(\n",
      "  File \"/Users/banji/Desktop/ds_piscine/rush_01/celys/lib/python3.9/site-packages/sklearn/metrics/_regression.py\", line 95, in _check_reg_targets\n",
      "    y_true = check_array(y_true, ensure_2d=False, dtype=dtype)\n",
      "  File \"/Users/banji/Desktop/ds_piscine/rush_01/celys/lib/python3.9/site-packages/sklearn/utils/validation.py\", line 746, in check_array\n",
      "    array = np.asarray(array, order=order, dtype=dtype)\n",
      "  File \"/Users/banji/Desktop/ds_piscine/rush_01/celys/lib/python3.9/site-packages/pandas/core/series.py\", line 872, in __array__\n",
      "    return np.asarray(self._values, dtype)\n",
      "ValueError: could not convert string to float: 'so-so'\n",
      "\n",
      "  warnings.warn(\n",
      "/Users/banji/Desktop/ds_piscine/rush_01/celys/lib/python3.9/site-packages/sklearn/model_selection/_validation.py:770: UserWarning: Scoring failed. The score on this train-test partition for these parameters will be set to nan. Details: \n",
      "Traceback (most recent call last):\n",
      "  File \"/Users/banji/Desktop/ds_piscine/rush_01/celys/lib/python3.9/site-packages/sklearn/model_selection/_validation.py\", line 761, in _score\n",
      "    scores = scorer(estimator, X_test, y_test)\n",
      "  File \"/Users/banji/Desktop/ds_piscine/rush_01/celys/lib/python3.9/site-packages/sklearn/metrics/_scorer.py\", line 216, in __call__\n",
      "    return self._score(\n",
      "  File \"/Users/banji/Desktop/ds_piscine/rush_01/celys/lib/python3.9/site-packages/sklearn/metrics/_scorer.py\", line 264, in _score\n",
      "    return self._sign * self._score_func(y_true, y_pred, **self._kwargs)\n",
      "  File \"/Users/banji/Desktop/ds_piscine/rush_01/celys/lib/python3.9/site-packages/sklearn/metrics/_regression.py\", line 438, in mean_squared_error\n",
      "    y_type, y_true, y_pred, multioutput = _check_reg_targets(\n",
      "  File \"/Users/banji/Desktop/ds_piscine/rush_01/celys/lib/python3.9/site-packages/sklearn/metrics/_regression.py\", line 95, in _check_reg_targets\n",
      "    y_true = check_array(y_true, ensure_2d=False, dtype=dtype)\n",
      "  File \"/Users/banji/Desktop/ds_piscine/rush_01/celys/lib/python3.9/site-packages/sklearn/utils/validation.py\", line 746, in check_array\n",
      "    array = np.asarray(array, order=order, dtype=dtype)\n",
      "  File \"/Users/banji/Desktop/ds_piscine/rush_01/celys/lib/python3.9/site-packages/pandas/core/series.py\", line 872, in __array__\n",
      "    return np.asarray(self._values, dtype)\n",
      "ValueError: could not convert string to float: 'bad'\n",
      "\n",
      "  warnings.warn(\n",
      "/Users/banji/Desktop/ds_piscine/rush_01/celys/lib/python3.9/site-packages/sklearn/model_selection/_validation.py:770: UserWarning: Scoring failed. The score on this train-test partition for these parameters will be set to nan. Details: \n",
      "Traceback (most recent call last):\n",
      "  File \"/Users/banji/Desktop/ds_piscine/rush_01/celys/lib/python3.9/site-packages/sklearn/model_selection/_validation.py\", line 761, in _score\n",
      "    scores = scorer(estimator, X_test, y_test)\n",
      "  File \"/Users/banji/Desktop/ds_piscine/rush_01/celys/lib/python3.9/site-packages/sklearn/metrics/_scorer.py\", line 216, in __call__\n",
      "    return self._score(\n",
      "  File \"/Users/banji/Desktop/ds_piscine/rush_01/celys/lib/python3.9/site-packages/sklearn/metrics/_scorer.py\", line 264, in _score\n",
      "    return self._sign * self._score_func(y_true, y_pred, **self._kwargs)\n",
      "  File \"/Users/banji/Desktop/ds_piscine/rush_01/celys/lib/python3.9/site-packages/sklearn/metrics/_regression.py\", line 438, in mean_squared_error\n",
      "    y_type, y_true, y_pred, multioutput = _check_reg_targets(\n",
      "  File \"/Users/banji/Desktop/ds_piscine/rush_01/celys/lib/python3.9/site-packages/sklearn/metrics/_regression.py\", line 95, in _check_reg_targets\n",
      "    y_true = check_array(y_true, ensure_2d=False, dtype=dtype)\n",
      "  File \"/Users/banji/Desktop/ds_piscine/rush_01/celys/lib/python3.9/site-packages/sklearn/utils/validation.py\", line 746, in check_array\n",
      "    array = np.asarray(array, order=order, dtype=dtype)\n",
      "  File \"/Users/banji/Desktop/ds_piscine/rush_01/celys/lib/python3.9/site-packages/pandas/core/series.py\", line 872, in __array__\n",
      "    return np.asarray(self._values, dtype)\n",
      "ValueError: could not convert string to float: 'bad'\n",
      "\n",
      "  warnings.warn(\n"
     ]
    },
    {
     "ename": "KeyboardInterrupt",
     "evalue": "",
     "output_type": "error",
     "traceback": [
      "\u001b[0;31m---------------------------------------------------------------------------\u001b[0m",
      "\u001b[0;31mKeyboardInterrupt\u001b[0m                         Traceback (most recent call last)",
      "\u001b[1;32m/Users/banji/Desktop/rush_01/recipes.ipynb Cell 49'\u001b[0m in \u001b[0;36m<cell line: 6>\u001b[0;34m()\u001b[0m\n\u001b[1;32m      <a href='vscode-notebook-cell:/Users/banji/Desktop/rush_01/recipes.ipynb#ch0000044?line=3'>4</a>\u001b[0m parametrs \u001b[39m=\u001b[39m { \u001b[39m'\u001b[39m\u001b[39mn_neighbors\u001b[39m\u001b[39m'\u001b[39m: \u001b[39mrange\u001b[39m (\u001b[39m3\u001b[39m, \u001b[39m15\u001b[39m, \u001b[39m1\u001b[39m)}\n\u001b[1;32m      <a href='vscode-notebook-cell:/Users/banji/Desktop/rush_01/recipes.ipynb#ch0000044?line=4'>5</a>\u001b[0m grid \u001b[39m=\u001b[39m GridSearchCV(neigh, parametrs, scoring\u001b[39m=\u001b[39m\u001b[39m'\u001b[39m\u001b[39mneg_root_mean_squared_error\u001b[39m\u001b[39m'\u001b[39m, cv\u001b[39m=\u001b[39m\u001b[39m5\u001b[39m)\n\u001b[0;32m----> <a href='vscode-notebook-cell:/Users/banji/Desktop/rush_01/recipes.ipynb#ch0000044?line=5'>6</a>\u001b[0m grid\u001b[39m.\u001b[39;49mfit(X_train, y_train)\n\u001b[1;32m      <a href='vscode-notebook-cell:/Users/banji/Desktop/rush_01/recipes.ipynb#ch0000044?line=6'>7</a>\u001b[0m grid\u001b[39m.\u001b[39mbest_params_\n",
      "File \u001b[0;32m~/Desktop/ds_piscine/rush_01/celys/lib/python3.9/site-packages/sklearn/model_selection/_search.py:891\u001b[0m, in \u001b[0;36mBaseSearchCV.fit\u001b[0;34m(self, X, y, groups, **fit_params)\u001b[0m\n\u001b[1;32m    <a href='file:///Users/banji/Desktop/ds_piscine/rush_01/celys/lib/python3.9/site-packages/sklearn/model_selection/_search.py?line=884'>885</a>\u001b[0m     results \u001b[39m=\u001b[39m \u001b[39mself\u001b[39m\u001b[39m.\u001b[39m_format_results(\n\u001b[1;32m    <a href='file:///Users/banji/Desktop/ds_piscine/rush_01/celys/lib/python3.9/site-packages/sklearn/model_selection/_search.py?line=885'>886</a>\u001b[0m         all_candidate_params, n_splits, all_out, all_more_results\n\u001b[1;32m    <a href='file:///Users/banji/Desktop/ds_piscine/rush_01/celys/lib/python3.9/site-packages/sklearn/model_selection/_search.py?line=886'>887</a>\u001b[0m     )\n\u001b[1;32m    <a href='file:///Users/banji/Desktop/ds_piscine/rush_01/celys/lib/python3.9/site-packages/sklearn/model_selection/_search.py?line=888'>889</a>\u001b[0m     \u001b[39mreturn\u001b[39;00m results\n\u001b[0;32m--> <a href='file:///Users/banji/Desktop/ds_piscine/rush_01/celys/lib/python3.9/site-packages/sklearn/model_selection/_search.py?line=890'>891</a>\u001b[0m \u001b[39mself\u001b[39;49m\u001b[39m.\u001b[39;49m_run_search(evaluate_candidates)\n\u001b[1;32m    <a href='file:///Users/banji/Desktop/ds_piscine/rush_01/celys/lib/python3.9/site-packages/sklearn/model_selection/_search.py?line=892'>893</a>\u001b[0m \u001b[39m# multimetric is determined here because in the case of a callable\u001b[39;00m\n\u001b[1;32m    <a href='file:///Users/banji/Desktop/ds_piscine/rush_01/celys/lib/python3.9/site-packages/sklearn/model_selection/_search.py?line=893'>894</a>\u001b[0m \u001b[39m# self.scoring the return type is only known after calling\u001b[39;00m\n\u001b[1;32m    <a href='file:///Users/banji/Desktop/ds_piscine/rush_01/celys/lib/python3.9/site-packages/sklearn/model_selection/_search.py?line=894'>895</a>\u001b[0m first_test_score \u001b[39m=\u001b[39m all_out[\u001b[39m0\u001b[39m][\u001b[39m\"\u001b[39m\u001b[39mtest_scores\u001b[39m\u001b[39m\"\u001b[39m]\n",
      "File \u001b[0;32m~/Desktop/ds_piscine/rush_01/celys/lib/python3.9/site-packages/sklearn/model_selection/_search.py:1392\u001b[0m, in \u001b[0;36mGridSearchCV._run_search\u001b[0;34m(self, evaluate_candidates)\u001b[0m\n\u001b[1;32m   <a href='file:///Users/banji/Desktop/ds_piscine/rush_01/celys/lib/python3.9/site-packages/sklearn/model_selection/_search.py?line=1389'>1390</a>\u001b[0m \u001b[39mdef\u001b[39;00m \u001b[39m_run_search\u001b[39m(\u001b[39mself\u001b[39m, evaluate_candidates):\n\u001b[1;32m   <a href='file:///Users/banji/Desktop/ds_piscine/rush_01/celys/lib/python3.9/site-packages/sklearn/model_selection/_search.py?line=1390'>1391</a>\u001b[0m     \u001b[39m\"\"\"Search all candidates in param_grid\"\"\"\u001b[39;00m\n\u001b[0;32m-> <a href='file:///Users/banji/Desktop/ds_piscine/rush_01/celys/lib/python3.9/site-packages/sklearn/model_selection/_search.py?line=1391'>1392</a>\u001b[0m     evaluate_candidates(ParameterGrid(\u001b[39mself\u001b[39;49m\u001b[39m.\u001b[39;49mparam_grid))\n",
      "File \u001b[0;32m~/Desktop/ds_piscine/rush_01/celys/lib/python3.9/site-packages/sklearn/model_selection/_search.py:838\u001b[0m, in \u001b[0;36mBaseSearchCV.fit.<locals>.evaluate_candidates\u001b[0;34m(candidate_params, cv, more_results)\u001b[0m\n\u001b[1;32m    <a href='file:///Users/banji/Desktop/ds_piscine/rush_01/celys/lib/python3.9/site-packages/sklearn/model_selection/_search.py?line=829'>830</a>\u001b[0m \u001b[39mif\u001b[39;00m \u001b[39mself\u001b[39m\u001b[39m.\u001b[39mverbose \u001b[39m>\u001b[39m \u001b[39m0\u001b[39m:\n\u001b[1;32m    <a href='file:///Users/banji/Desktop/ds_piscine/rush_01/celys/lib/python3.9/site-packages/sklearn/model_selection/_search.py?line=830'>831</a>\u001b[0m     \u001b[39mprint\u001b[39m(\n\u001b[1;32m    <a href='file:///Users/banji/Desktop/ds_piscine/rush_01/celys/lib/python3.9/site-packages/sklearn/model_selection/_search.py?line=831'>832</a>\u001b[0m         \u001b[39m\"\u001b[39m\u001b[39mFitting \u001b[39m\u001b[39m{0}\u001b[39;00m\u001b[39m folds for each of \u001b[39m\u001b[39m{1}\u001b[39;00m\u001b[39m candidates,\u001b[39m\u001b[39m\"\u001b[39m\n\u001b[1;32m    <a href='file:///Users/banji/Desktop/ds_piscine/rush_01/celys/lib/python3.9/site-packages/sklearn/model_selection/_search.py?line=832'>833</a>\u001b[0m         \u001b[39m\"\u001b[39m\u001b[39m totalling \u001b[39m\u001b[39m{2}\u001b[39;00m\u001b[39m fits\u001b[39m\u001b[39m\"\u001b[39m\u001b[39m.\u001b[39mformat(\n\u001b[1;32m    <a href='file:///Users/banji/Desktop/ds_piscine/rush_01/celys/lib/python3.9/site-packages/sklearn/model_selection/_search.py?line=833'>834</a>\u001b[0m             n_splits, n_candidates, n_candidates \u001b[39m*\u001b[39m n_splits\n\u001b[1;32m    <a href='file:///Users/banji/Desktop/ds_piscine/rush_01/celys/lib/python3.9/site-packages/sklearn/model_selection/_search.py?line=834'>835</a>\u001b[0m         )\n\u001b[1;32m    <a href='file:///Users/banji/Desktop/ds_piscine/rush_01/celys/lib/python3.9/site-packages/sklearn/model_selection/_search.py?line=835'>836</a>\u001b[0m     )\n\u001b[0;32m--> <a href='file:///Users/banji/Desktop/ds_piscine/rush_01/celys/lib/python3.9/site-packages/sklearn/model_selection/_search.py?line=837'>838</a>\u001b[0m out \u001b[39m=\u001b[39m parallel(\n\u001b[1;32m    <a href='file:///Users/banji/Desktop/ds_piscine/rush_01/celys/lib/python3.9/site-packages/sklearn/model_selection/_search.py?line=838'>839</a>\u001b[0m     delayed(_fit_and_score)(\n\u001b[1;32m    <a href='file:///Users/banji/Desktop/ds_piscine/rush_01/celys/lib/python3.9/site-packages/sklearn/model_selection/_search.py?line=839'>840</a>\u001b[0m         clone(base_estimator),\n\u001b[1;32m    <a href='file:///Users/banji/Desktop/ds_piscine/rush_01/celys/lib/python3.9/site-packages/sklearn/model_selection/_search.py?line=840'>841</a>\u001b[0m         X,\n\u001b[1;32m    <a href='file:///Users/banji/Desktop/ds_piscine/rush_01/celys/lib/python3.9/site-packages/sklearn/model_selection/_search.py?line=841'>842</a>\u001b[0m         y,\n\u001b[1;32m    <a href='file:///Users/banji/Desktop/ds_piscine/rush_01/celys/lib/python3.9/site-packages/sklearn/model_selection/_search.py?line=842'>843</a>\u001b[0m         train\u001b[39m=\u001b[39;49mtrain,\n\u001b[1;32m    <a href='file:///Users/banji/Desktop/ds_piscine/rush_01/celys/lib/python3.9/site-packages/sklearn/model_selection/_search.py?line=843'>844</a>\u001b[0m         test\u001b[39m=\u001b[39;49mtest,\n\u001b[1;32m    <a href='file:///Users/banji/Desktop/ds_piscine/rush_01/celys/lib/python3.9/site-packages/sklearn/model_selection/_search.py?line=844'>845</a>\u001b[0m         parameters\u001b[39m=\u001b[39;49mparameters,\n\u001b[1;32m    <a href='file:///Users/banji/Desktop/ds_piscine/rush_01/celys/lib/python3.9/site-packages/sklearn/model_selection/_search.py?line=845'>846</a>\u001b[0m         split_progress\u001b[39m=\u001b[39;49m(split_idx, n_splits),\n\u001b[1;32m    <a href='file:///Users/banji/Desktop/ds_piscine/rush_01/celys/lib/python3.9/site-packages/sklearn/model_selection/_search.py?line=846'>847</a>\u001b[0m         candidate_progress\u001b[39m=\u001b[39;49m(cand_idx, n_candidates),\n\u001b[1;32m    <a href='file:///Users/banji/Desktop/ds_piscine/rush_01/celys/lib/python3.9/site-packages/sklearn/model_selection/_search.py?line=847'>848</a>\u001b[0m         \u001b[39m*\u001b[39;49m\u001b[39m*\u001b[39;49mfit_and_score_kwargs,\n\u001b[1;32m    <a href='file:///Users/banji/Desktop/ds_piscine/rush_01/celys/lib/python3.9/site-packages/sklearn/model_selection/_search.py?line=848'>849</a>\u001b[0m     )\n\u001b[1;32m    <a href='file:///Users/banji/Desktop/ds_piscine/rush_01/celys/lib/python3.9/site-packages/sklearn/model_selection/_search.py?line=849'>850</a>\u001b[0m     \u001b[39mfor\u001b[39;49;00m (cand_idx, parameters), (split_idx, (train, test)) \u001b[39min\u001b[39;49;00m product(\n\u001b[1;32m    <a href='file:///Users/banji/Desktop/ds_piscine/rush_01/celys/lib/python3.9/site-packages/sklearn/model_selection/_search.py?line=850'>851</a>\u001b[0m         \u001b[39menumerate\u001b[39;49m(candidate_params), \u001b[39menumerate\u001b[39;49m(cv\u001b[39m.\u001b[39;49msplit(X, y, groups))\n\u001b[1;32m    <a href='file:///Users/banji/Desktop/ds_piscine/rush_01/celys/lib/python3.9/site-packages/sklearn/model_selection/_search.py?line=851'>852</a>\u001b[0m     )\n\u001b[1;32m    <a href='file:///Users/banji/Desktop/ds_piscine/rush_01/celys/lib/python3.9/site-packages/sklearn/model_selection/_search.py?line=852'>853</a>\u001b[0m )\n\u001b[1;32m    <a href='file:///Users/banji/Desktop/ds_piscine/rush_01/celys/lib/python3.9/site-packages/sklearn/model_selection/_search.py?line=854'>855</a>\u001b[0m \u001b[39mif\u001b[39;00m \u001b[39mlen\u001b[39m(out) \u001b[39m<\u001b[39m \u001b[39m1\u001b[39m:\n\u001b[1;32m    <a href='file:///Users/banji/Desktop/ds_piscine/rush_01/celys/lib/python3.9/site-packages/sklearn/model_selection/_search.py?line=855'>856</a>\u001b[0m     \u001b[39mraise\u001b[39;00m \u001b[39mValueError\u001b[39;00m(\n\u001b[1;32m    <a href='file:///Users/banji/Desktop/ds_piscine/rush_01/celys/lib/python3.9/site-packages/sklearn/model_selection/_search.py?line=856'>857</a>\u001b[0m         \u001b[39m\"\u001b[39m\u001b[39mNo fits were performed. \u001b[39m\u001b[39m\"\u001b[39m\n\u001b[1;32m    <a href='file:///Users/banji/Desktop/ds_piscine/rush_01/celys/lib/python3.9/site-packages/sklearn/model_selection/_search.py?line=857'>858</a>\u001b[0m         \u001b[39m\"\u001b[39m\u001b[39mWas the CV iterator empty? \u001b[39m\u001b[39m\"\u001b[39m\n\u001b[1;32m    <a href='file:///Users/banji/Desktop/ds_piscine/rush_01/celys/lib/python3.9/site-packages/sklearn/model_selection/_search.py?line=858'>859</a>\u001b[0m         \u001b[39m\"\u001b[39m\u001b[39mWere there no candidates?\u001b[39m\u001b[39m\"\u001b[39m\n\u001b[1;32m    <a href='file:///Users/banji/Desktop/ds_piscine/rush_01/celys/lib/python3.9/site-packages/sklearn/model_selection/_search.py?line=859'>860</a>\u001b[0m     )\n",
      "File \u001b[0;32m~/Desktop/ds_piscine/rush_01/celys/lib/python3.9/site-packages/joblib/parallel.py:1046\u001b[0m, in \u001b[0;36mParallel.__call__\u001b[0;34m(self, iterable)\u001b[0m\n\u001b[1;32m   <a href='file:///Users/banji/Desktop/ds_piscine/rush_01/celys/lib/python3.9/site-packages/joblib/parallel.py?line=1042'>1043</a>\u001b[0m \u001b[39mif\u001b[39;00m \u001b[39mself\u001b[39m\u001b[39m.\u001b[39mdispatch_one_batch(iterator):\n\u001b[1;32m   <a href='file:///Users/banji/Desktop/ds_piscine/rush_01/celys/lib/python3.9/site-packages/joblib/parallel.py?line=1043'>1044</a>\u001b[0m     \u001b[39mself\u001b[39m\u001b[39m.\u001b[39m_iterating \u001b[39m=\u001b[39m \u001b[39mself\u001b[39m\u001b[39m.\u001b[39m_original_iterator \u001b[39mis\u001b[39;00m \u001b[39mnot\u001b[39;00m \u001b[39mNone\u001b[39;00m\n\u001b[0;32m-> <a href='file:///Users/banji/Desktop/ds_piscine/rush_01/celys/lib/python3.9/site-packages/joblib/parallel.py?line=1045'>1046</a>\u001b[0m \u001b[39mwhile\u001b[39;00m \u001b[39mself\u001b[39;49m\u001b[39m.\u001b[39;49mdispatch_one_batch(iterator):\n\u001b[1;32m   <a href='file:///Users/banji/Desktop/ds_piscine/rush_01/celys/lib/python3.9/site-packages/joblib/parallel.py?line=1046'>1047</a>\u001b[0m     \u001b[39mpass\u001b[39;00m\n\u001b[1;32m   <a href='file:///Users/banji/Desktop/ds_piscine/rush_01/celys/lib/python3.9/site-packages/joblib/parallel.py?line=1048'>1049</a>\u001b[0m \u001b[39mif\u001b[39;00m pre_dispatch \u001b[39m==\u001b[39m \u001b[39m\"\u001b[39m\u001b[39mall\u001b[39m\u001b[39m\"\u001b[39m \u001b[39mor\u001b[39;00m n_jobs \u001b[39m==\u001b[39m \u001b[39m1\u001b[39m:\n\u001b[1;32m   <a href='file:///Users/banji/Desktop/ds_piscine/rush_01/celys/lib/python3.9/site-packages/joblib/parallel.py?line=1049'>1050</a>\u001b[0m     \u001b[39m# The iterable was consumed all at once by the above for loop.\u001b[39;00m\n\u001b[1;32m   <a href='file:///Users/banji/Desktop/ds_piscine/rush_01/celys/lib/python3.9/site-packages/joblib/parallel.py?line=1050'>1051</a>\u001b[0m     \u001b[39m# No need to wait for async callbacks to trigger to\u001b[39;00m\n\u001b[1;32m   <a href='file:///Users/banji/Desktop/ds_piscine/rush_01/celys/lib/python3.9/site-packages/joblib/parallel.py?line=1051'>1052</a>\u001b[0m     \u001b[39m# consumption.\u001b[39;00m\n",
      "File \u001b[0;32m~/Desktop/ds_piscine/rush_01/celys/lib/python3.9/site-packages/joblib/parallel.py:861\u001b[0m, in \u001b[0;36mParallel.dispatch_one_batch\u001b[0;34m(self, iterator)\u001b[0m\n\u001b[1;32m    <a href='file:///Users/banji/Desktop/ds_piscine/rush_01/celys/lib/python3.9/site-packages/joblib/parallel.py?line=858'>859</a>\u001b[0m     \u001b[39mreturn\u001b[39;00m \u001b[39mFalse\u001b[39;00m\n\u001b[1;32m    <a href='file:///Users/banji/Desktop/ds_piscine/rush_01/celys/lib/python3.9/site-packages/joblib/parallel.py?line=859'>860</a>\u001b[0m \u001b[39melse\u001b[39;00m:\n\u001b[0;32m--> <a href='file:///Users/banji/Desktop/ds_piscine/rush_01/celys/lib/python3.9/site-packages/joblib/parallel.py?line=860'>861</a>\u001b[0m     \u001b[39mself\u001b[39;49m\u001b[39m.\u001b[39;49m_dispatch(tasks)\n\u001b[1;32m    <a href='file:///Users/banji/Desktop/ds_piscine/rush_01/celys/lib/python3.9/site-packages/joblib/parallel.py?line=861'>862</a>\u001b[0m     \u001b[39mreturn\u001b[39;00m \u001b[39mTrue\u001b[39;00m\n",
      "File \u001b[0;32m~/Desktop/ds_piscine/rush_01/celys/lib/python3.9/site-packages/joblib/parallel.py:779\u001b[0m, in \u001b[0;36mParallel._dispatch\u001b[0;34m(self, batch)\u001b[0m\n\u001b[1;32m    <a href='file:///Users/banji/Desktop/ds_piscine/rush_01/celys/lib/python3.9/site-packages/joblib/parallel.py?line=776'>777</a>\u001b[0m \u001b[39mwith\u001b[39;00m \u001b[39mself\u001b[39m\u001b[39m.\u001b[39m_lock:\n\u001b[1;32m    <a href='file:///Users/banji/Desktop/ds_piscine/rush_01/celys/lib/python3.9/site-packages/joblib/parallel.py?line=777'>778</a>\u001b[0m     job_idx \u001b[39m=\u001b[39m \u001b[39mlen\u001b[39m(\u001b[39mself\u001b[39m\u001b[39m.\u001b[39m_jobs)\n\u001b[0;32m--> <a href='file:///Users/banji/Desktop/ds_piscine/rush_01/celys/lib/python3.9/site-packages/joblib/parallel.py?line=778'>779</a>\u001b[0m     job \u001b[39m=\u001b[39m \u001b[39mself\u001b[39;49m\u001b[39m.\u001b[39;49m_backend\u001b[39m.\u001b[39;49mapply_async(batch, callback\u001b[39m=\u001b[39;49mcb)\n\u001b[1;32m    <a href='file:///Users/banji/Desktop/ds_piscine/rush_01/celys/lib/python3.9/site-packages/joblib/parallel.py?line=779'>780</a>\u001b[0m     \u001b[39m# A job can complete so quickly than its callback is\u001b[39;00m\n\u001b[1;32m    <a href='file:///Users/banji/Desktop/ds_piscine/rush_01/celys/lib/python3.9/site-packages/joblib/parallel.py?line=780'>781</a>\u001b[0m     \u001b[39m# called before we get here, causing self._jobs to\u001b[39;00m\n\u001b[1;32m    <a href='file:///Users/banji/Desktop/ds_piscine/rush_01/celys/lib/python3.9/site-packages/joblib/parallel.py?line=781'>782</a>\u001b[0m     \u001b[39m# grow. To ensure correct results ordering, .insert is\u001b[39;00m\n\u001b[1;32m    <a href='file:///Users/banji/Desktop/ds_piscine/rush_01/celys/lib/python3.9/site-packages/joblib/parallel.py?line=782'>783</a>\u001b[0m     \u001b[39m# used (rather than .append) in the following line\u001b[39;00m\n\u001b[1;32m    <a href='file:///Users/banji/Desktop/ds_piscine/rush_01/celys/lib/python3.9/site-packages/joblib/parallel.py?line=783'>784</a>\u001b[0m     \u001b[39mself\u001b[39m\u001b[39m.\u001b[39m_jobs\u001b[39m.\u001b[39minsert(job_idx, job)\n",
      "File \u001b[0;32m~/Desktop/ds_piscine/rush_01/celys/lib/python3.9/site-packages/joblib/_parallel_backends.py:208\u001b[0m, in \u001b[0;36mSequentialBackend.apply_async\u001b[0;34m(self, func, callback)\u001b[0m\n\u001b[1;32m    <a href='file:///Users/banji/Desktop/ds_piscine/rush_01/celys/lib/python3.9/site-packages/joblib/_parallel_backends.py?line=205'>206</a>\u001b[0m \u001b[39mdef\u001b[39;00m \u001b[39mapply_async\u001b[39m(\u001b[39mself\u001b[39m, func, callback\u001b[39m=\u001b[39m\u001b[39mNone\u001b[39;00m):\n\u001b[1;32m    <a href='file:///Users/banji/Desktop/ds_piscine/rush_01/celys/lib/python3.9/site-packages/joblib/_parallel_backends.py?line=206'>207</a>\u001b[0m     \u001b[39m\"\"\"Schedule a func to be run\"\"\"\u001b[39;00m\n\u001b[0;32m--> <a href='file:///Users/banji/Desktop/ds_piscine/rush_01/celys/lib/python3.9/site-packages/joblib/_parallel_backends.py?line=207'>208</a>\u001b[0m     result \u001b[39m=\u001b[39m ImmediateResult(func)\n\u001b[1;32m    <a href='file:///Users/banji/Desktop/ds_piscine/rush_01/celys/lib/python3.9/site-packages/joblib/_parallel_backends.py?line=208'>209</a>\u001b[0m     \u001b[39mif\u001b[39;00m callback:\n\u001b[1;32m    <a href='file:///Users/banji/Desktop/ds_piscine/rush_01/celys/lib/python3.9/site-packages/joblib/_parallel_backends.py?line=209'>210</a>\u001b[0m         callback(result)\n",
      "File \u001b[0;32m~/Desktop/ds_piscine/rush_01/celys/lib/python3.9/site-packages/joblib/_parallel_backends.py:572\u001b[0m, in \u001b[0;36mImmediateResult.__init__\u001b[0;34m(self, batch)\u001b[0m\n\u001b[1;32m    <a href='file:///Users/banji/Desktop/ds_piscine/rush_01/celys/lib/python3.9/site-packages/joblib/_parallel_backends.py?line=568'>569</a>\u001b[0m \u001b[39mdef\u001b[39;00m \u001b[39m__init__\u001b[39m(\u001b[39mself\u001b[39m, batch):\n\u001b[1;32m    <a href='file:///Users/banji/Desktop/ds_piscine/rush_01/celys/lib/python3.9/site-packages/joblib/_parallel_backends.py?line=569'>570</a>\u001b[0m     \u001b[39m# Don't delay the application, to avoid keeping the input\u001b[39;00m\n\u001b[1;32m    <a href='file:///Users/banji/Desktop/ds_piscine/rush_01/celys/lib/python3.9/site-packages/joblib/_parallel_backends.py?line=570'>571</a>\u001b[0m     \u001b[39m# arguments in memory\u001b[39;00m\n\u001b[0;32m--> <a href='file:///Users/banji/Desktop/ds_piscine/rush_01/celys/lib/python3.9/site-packages/joblib/_parallel_backends.py?line=571'>572</a>\u001b[0m     \u001b[39mself\u001b[39m\u001b[39m.\u001b[39mresults \u001b[39m=\u001b[39m batch()\n",
      "File \u001b[0;32m~/Desktop/ds_piscine/rush_01/celys/lib/python3.9/site-packages/joblib/parallel.py:262\u001b[0m, in \u001b[0;36mBatchedCalls.__call__\u001b[0;34m(self)\u001b[0m\n\u001b[1;32m    <a href='file:///Users/banji/Desktop/ds_piscine/rush_01/celys/lib/python3.9/site-packages/joblib/parallel.py?line=257'>258</a>\u001b[0m \u001b[39mdef\u001b[39;00m \u001b[39m__call__\u001b[39m(\u001b[39mself\u001b[39m):\n\u001b[1;32m    <a href='file:///Users/banji/Desktop/ds_piscine/rush_01/celys/lib/python3.9/site-packages/joblib/parallel.py?line=258'>259</a>\u001b[0m     \u001b[39m# Set the default nested backend to self._backend but do not set the\u001b[39;00m\n\u001b[1;32m    <a href='file:///Users/banji/Desktop/ds_piscine/rush_01/celys/lib/python3.9/site-packages/joblib/parallel.py?line=259'>260</a>\u001b[0m     \u001b[39m# change the default number of processes to -1\u001b[39;00m\n\u001b[1;32m    <a href='file:///Users/banji/Desktop/ds_piscine/rush_01/celys/lib/python3.9/site-packages/joblib/parallel.py?line=260'>261</a>\u001b[0m     \u001b[39mwith\u001b[39;00m parallel_backend(\u001b[39mself\u001b[39m\u001b[39m.\u001b[39m_backend, n_jobs\u001b[39m=\u001b[39m\u001b[39mself\u001b[39m\u001b[39m.\u001b[39m_n_jobs):\n\u001b[0;32m--> <a href='file:///Users/banji/Desktop/ds_piscine/rush_01/celys/lib/python3.9/site-packages/joblib/parallel.py?line=261'>262</a>\u001b[0m         \u001b[39mreturn\u001b[39;00m [func(\u001b[39m*\u001b[39margs, \u001b[39m*\u001b[39m\u001b[39m*\u001b[39mkwargs)\n\u001b[1;32m    <a href='file:///Users/banji/Desktop/ds_piscine/rush_01/celys/lib/python3.9/site-packages/joblib/parallel.py?line=262'>263</a>\u001b[0m                 \u001b[39mfor\u001b[39;00m func, args, kwargs \u001b[39min\u001b[39;00m \u001b[39mself\u001b[39m\u001b[39m.\u001b[39mitems]\n",
      "File \u001b[0;32m~/Desktop/ds_piscine/rush_01/celys/lib/python3.9/site-packages/joblib/parallel.py:262\u001b[0m, in \u001b[0;36m<listcomp>\u001b[0;34m(.0)\u001b[0m\n\u001b[1;32m    <a href='file:///Users/banji/Desktop/ds_piscine/rush_01/celys/lib/python3.9/site-packages/joblib/parallel.py?line=257'>258</a>\u001b[0m \u001b[39mdef\u001b[39;00m \u001b[39m__call__\u001b[39m(\u001b[39mself\u001b[39m):\n\u001b[1;32m    <a href='file:///Users/banji/Desktop/ds_piscine/rush_01/celys/lib/python3.9/site-packages/joblib/parallel.py?line=258'>259</a>\u001b[0m     \u001b[39m# Set the default nested backend to self._backend but do not set the\u001b[39;00m\n\u001b[1;32m    <a href='file:///Users/banji/Desktop/ds_piscine/rush_01/celys/lib/python3.9/site-packages/joblib/parallel.py?line=259'>260</a>\u001b[0m     \u001b[39m# change the default number of processes to -1\u001b[39;00m\n\u001b[1;32m    <a href='file:///Users/banji/Desktop/ds_piscine/rush_01/celys/lib/python3.9/site-packages/joblib/parallel.py?line=260'>261</a>\u001b[0m     \u001b[39mwith\u001b[39;00m parallel_backend(\u001b[39mself\u001b[39m\u001b[39m.\u001b[39m_backend, n_jobs\u001b[39m=\u001b[39m\u001b[39mself\u001b[39m\u001b[39m.\u001b[39m_n_jobs):\n\u001b[0;32m--> <a href='file:///Users/banji/Desktop/ds_piscine/rush_01/celys/lib/python3.9/site-packages/joblib/parallel.py?line=261'>262</a>\u001b[0m         \u001b[39mreturn\u001b[39;00m [func(\u001b[39m*\u001b[39;49margs, \u001b[39m*\u001b[39;49m\u001b[39m*\u001b[39;49mkwargs)\n\u001b[1;32m    <a href='file:///Users/banji/Desktop/ds_piscine/rush_01/celys/lib/python3.9/site-packages/joblib/parallel.py?line=262'>263</a>\u001b[0m                 \u001b[39mfor\u001b[39;00m func, args, kwargs \u001b[39min\u001b[39;00m \u001b[39mself\u001b[39m\u001b[39m.\u001b[39mitems]\n",
      "File \u001b[0;32m~/Desktop/ds_piscine/rush_01/celys/lib/python3.9/site-packages/sklearn/utils/fixes.py:216\u001b[0m, in \u001b[0;36m_FuncWrapper.__call__\u001b[0;34m(self, *args, **kwargs)\u001b[0m\n\u001b[1;32m    <a href='file:///Users/banji/Desktop/ds_piscine/rush_01/celys/lib/python3.9/site-packages/sklearn/utils/fixes.py?line=213'>214</a>\u001b[0m \u001b[39mdef\u001b[39;00m \u001b[39m__call__\u001b[39m(\u001b[39mself\u001b[39m, \u001b[39m*\u001b[39margs, \u001b[39m*\u001b[39m\u001b[39m*\u001b[39mkwargs):\n\u001b[1;32m    <a href='file:///Users/banji/Desktop/ds_piscine/rush_01/celys/lib/python3.9/site-packages/sklearn/utils/fixes.py?line=214'>215</a>\u001b[0m     \u001b[39mwith\u001b[39;00m config_context(\u001b[39m*\u001b[39m\u001b[39m*\u001b[39m\u001b[39mself\u001b[39m\u001b[39m.\u001b[39mconfig):\n\u001b[0;32m--> <a href='file:///Users/banji/Desktop/ds_piscine/rush_01/celys/lib/python3.9/site-packages/sklearn/utils/fixes.py?line=215'>216</a>\u001b[0m         \u001b[39mreturn\u001b[39;00m \u001b[39mself\u001b[39;49m\u001b[39m.\u001b[39;49mfunction(\u001b[39m*\u001b[39;49margs, \u001b[39m*\u001b[39;49m\u001b[39m*\u001b[39;49mkwargs)\n",
      "File \u001b[0;32m~/Desktop/ds_piscine/rush_01/celys/lib/python3.9/site-packages/sklearn/model_selection/_validation.py:702\u001b[0m, in \u001b[0;36m_fit_and_score\u001b[0;34m(estimator, X, y, scorer, train, test, verbose, parameters, fit_params, return_train_score, return_parameters, return_n_test_samples, return_times, return_estimator, split_progress, candidate_progress, error_score)\u001b[0m\n\u001b[1;32m    <a href='file:///Users/banji/Desktop/ds_piscine/rush_01/celys/lib/python3.9/site-packages/sklearn/model_selection/_validation.py?line=698'>699</a>\u001b[0m result[\u001b[39m\"\u001b[39m\u001b[39mfit_error\u001b[39m\u001b[39m\"\u001b[39m] \u001b[39m=\u001b[39m \u001b[39mNone\u001b[39;00m\n\u001b[1;32m    <a href='file:///Users/banji/Desktop/ds_piscine/rush_01/celys/lib/python3.9/site-packages/sklearn/model_selection/_validation.py?line=700'>701</a>\u001b[0m fit_time \u001b[39m=\u001b[39m time\u001b[39m.\u001b[39mtime() \u001b[39m-\u001b[39m start_time\n\u001b[0;32m--> <a href='file:///Users/banji/Desktop/ds_piscine/rush_01/celys/lib/python3.9/site-packages/sklearn/model_selection/_validation.py?line=701'>702</a>\u001b[0m test_scores \u001b[39m=\u001b[39m _score(estimator, X_test, y_test, scorer, error_score)\n\u001b[1;32m    <a href='file:///Users/banji/Desktop/ds_piscine/rush_01/celys/lib/python3.9/site-packages/sklearn/model_selection/_validation.py?line=702'>703</a>\u001b[0m score_time \u001b[39m=\u001b[39m time\u001b[39m.\u001b[39mtime() \u001b[39m-\u001b[39m start_time \u001b[39m-\u001b[39m fit_time\n\u001b[1;32m    <a href='file:///Users/banji/Desktop/ds_piscine/rush_01/celys/lib/python3.9/site-packages/sklearn/model_selection/_validation.py?line=703'>704</a>\u001b[0m \u001b[39mif\u001b[39;00m return_train_score:\n",
      "File \u001b[0;32m~/Desktop/ds_piscine/rush_01/celys/lib/python3.9/site-packages/sklearn/model_selection/_validation.py:761\u001b[0m, in \u001b[0;36m_score\u001b[0;34m(estimator, X_test, y_test, scorer, error_score)\u001b[0m\n\u001b[1;32m    <a href='file:///Users/banji/Desktop/ds_piscine/rush_01/celys/lib/python3.9/site-packages/sklearn/model_selection/_validation.py?line=758'>759</a>\u001b[0m         scores \u001b[39m=\u001b[39m scorer(estimator, X_test)\n\u001b[1;32m    <a href='file:///Users/banji/Desktop/ds_piscine/rush_01/celys/lib/python3.9/site-packages/sklearn/model_selection/_validation.py?line=759'>760</a>\u001b[0m     \u001b[39melse\u001b[39;00m:\n\u001b[0;32m--> <a href='file:///Users/banji/Desktop/ds_piscine/rush_01/celys/lib/python3.9/site-packages/sklearn/model_selection/_validation.py?line=760'>761</a>\u001b[0m         scores \u001b[39m=\u001b[39m scorer(estimator, X_test, y_test)\n\u001b[1;32m    <a href='file:///Users/banji/Desktop/ds_piscine/rush_01/celys/lib/python3.9/site-packages/sklearn/model_selection/_validation.py?line=761'>762</a>\u001b[0m \u001b[39mexcept\u001b[39;00m \u001b[39mException\u001b[39;00m:\n\u001b[1;32m    <a href='file:///Users/banji/Desktop/ds_piscine/rush_01/celys/lib/python3.9/site-packages/sklearn/model_selection/_validation.py?line=762'>763</a>\u001b[0m     \u001b[39mif\u001b[39;00m error_score \u001b[39m==\u001b[39m \u001b[39m\"\u001b[39m\u001b[39mraise\u001b[39m\u001b[39m\"\u001b[39m:\n",
      "File \u001b[0;32m~/Desktop/ds_piscine/rush_01/celys/lib/python3.9/site-packages/sklearn/metrics/_scorer.py:216\u001b[0m, in \u001b[0;36m_BaseScorer.__call__\u001b[0;34m(self, estimator, X, y_true, sample_weight)\u001b[0m\n\u001b[1;32m    <a href='file:///Users/banji/Desktop/ds_piscine/rush_01/celys/lib/python3.9/site-packages/sklearn/metrics/_scorer.py?line=192'>193</a>\u001b[0m \u001b[39mdef\u001b[39;00m \u001b[39m__call__\u001b[39m(\u001b[39mself\u001b[39m, estimator, X, y_true, sample_weight\u001b[39m=\u001b[39m\u001b[39mNone\u001b[39;00m):\n\u001b[1;32m    <a href='file:///Users/banji/Desktop/ds_piscine/rush_01/celys/lib/python3.9/site-packages/sklearn/metrics/_scorer.py?line=193'>194</a>\u001b[0m     \u001b[39m\"\"\"Evaluate predicted target values for X relative to y_true.\u001b[39;00m\n\u001b[1;32m    <a href='file:///Users/banji/Desktop/ds_piscine/rush_01/celys/lib/python3.9/site-packages/sklearn/metrics/_scorer.py?line=194'>195</a>\u001b[0m \n\u001b[1;32m    <a href='file:///Users/banji/Desktop/ds_piscine/rush_01/celys/lib/python3.9/site-packages/sklearn/metrics/_scorer.py?line=195'>196</a>\u001b[0m \u001b[39m    Parameters\u001b[39;00m\n\u001b[0;32m   (...)\u001b[0m\n\u001b[1;32m    <a href='file:///Users/banji/Desktop/ds_piscine/rush_01/celys/lib/python3.9/site-packages/sklearn/metrics/_scorer.py?line=213'>214</a>\u001b[0m \u001b[39m        Score function applied to prediction of estimator on X.\u001b[39;00m\n\u001b[1;32m    <a href='file:///Users/banji/Desktop/ds_piscine/rush_01/celys/lib/python3.9/site-packages/sklearn/metrics/_scorer.py?line=214'>215</a>\u001b[0m \u001b[39m    \"\"\"\u001b[39;00m\n\u001b[0;32m--> <a href='file:///Users/banji/Desktop/ds_piscine/rush_01/celys/lib/python3.9/site-packages/sklearn/metrics/_scorer.py?line=215'>216</a>\u001b[0m     \u001b[39mreturn\u001b[39;00m \u001b[39mself\u001b[39;49m\u001b[39m.\u001b[39;49m_score(\n\u001b[1;32m    <a href='file:///Users/banji/Desktop/ds_piscine/rush_01/celys/lib/python3.9/site-packages/sklearn/metrics/_scorer.py?line=216'>217</a>\u001b[0m         partial(_cached_call, \u001b[39mNone\u001b[39;49;00m),\n\u001b[1;32m    <a href='file:///Users/banji/Desktop/ds_piscine/rush_01/celys/lib/python3.9/site-packages/sklearn/metrics/_scorer.py?line=217'>218</a>\u001b[0m         estimator,\n\u001b[1;32m    <a href='file:///Users/banji/Desktop/ds_piscine/rush_01/celys/lib/python3.9/site-packages/sklearn/metrics/_scorer.py?line=218'>219</a>\u001b[0m         X,\n\u001b[1;32m    <a href='file:///Users/banji/Desktop/ds_piscine/rush_01/celys/lib/python3.9/site-packages/sklearn/metrics/_scorer.py?line=219'>220</a>\u001b[0m         y_true,\n\u001b[1;32m    <a href='file:///Users/banji/Desktop/ds_piscine/rush_01/celys/lib/python3.9/site-packages/sklearn/metrics/_scorer.py?line=220'>221</a>\u001b[0m         sample_weight\u001b[39m=\u001b[39;49msample_weight,\n\u001b[1;32m    <a href='file:///Users/banji/Desktop/ds_piscine/rush_01/celys/lib/python3.9/site-packages/sklearn/metrics/_scorer.py?line=221'>222</a>\u001b[0m     )\n",
      "File \u001b[0;32m~/Desktop/ds_piscine/rush_01/celys/lib/python3.9/site-packages/sklearn/metrics/_scorer.py:258\u001b[0m, in \u001b[0;36m_PredictScorer._score\u001b[0;34m(self, method_caller, estimator, X, y_true, sample_weight)\u001b[0m\n\u001b[1;32m    <a href='file:///Users/banji/Desktop/ds_piscine/rush_01/celys/lib/python3.9/site-packages/sklearn/metrics/_scorer.py?line=229'>230</a>\u001b[0m \u001b[39mdef\u001b[39;00m \u001b[39m_score\u001b[39m(\u001b[39mself\u001b[39m, method_caller, estimator, X, y_true, sample_weight\u001b[39m=\u001b[39m\u001b[39mNone\u001b[39;00m):\n\u001b[1;32m    <a href='file:///Users/banji/Desktop/ds_piscine/rush_01/celys/lib/python3.9/site-packages/sklearn/metrics/_scorer.py?line=230'>231</a>\u001b[0m     \u001b[39m\"\"\"Evaluate predicted target values for X relative to y_true.\u001b[39;00m\n\u001b[1;32m    <a href='file:///Users/banji/Desktop/ds_piscine/rush_01/celys/lib/python3.9/site-packages/sklearn/metrics/_scorer.py?line=231'>232</a>\u001b[0m \n\u001b[1;32m    <a href='file:///Users/banji/Desktop/ds_piscine/rush_01/celys/lib/python3.9/site-packages/sklearn/metrics/_scorer.py?line=232'>233</a>\u001b[0m \u001b[39m    Parameters\u001b[39;00m\n\u001b[0;32m   (...)\u001b[0m\n\u001b[1;32m    <a href='file:///Users/banji/Desktop/ds_piscine/rush_01/celys/lib/python3.9/site-packages/sklearn/metrics/_scorer.py?line=254'>255</a>\u001b[0m \u001b[39m        Score function applied to prediction of estimator on X.\u001b[39;00m\n\u001b[1;32m    <a href='file:///Users/banji/Desktop/ds_piscine/rush_01/celys/lib/python3.9/site-packages/sklearn/metrics/_scorer.py?line=255'>256</a>\u001b[0m \u001b[39m    \"\"\"\u001b[39;00m\n\u001b[0;32m--> <a href='file:///Users/banji/Desktop/ds_piscine/rush_01/celys/lib/python3.9/site-packages/sklearn/metrics/_scorer.py?line=257'>258</a>\u001b[0m     y_pred \u001b[39m=\u001b[39m method_caller(estimator, \u001b[39m\"\u001b[39;49m\u001b[39mpredict\u001b[39;49m\u001b[39m\"\u001b[39;49m, X)\n\u001b[1;32m    <a href='file:///Users/banji/Desktop/ds_piscine/rush_01/celys/lib/python3.9/site-packages/sklearn/metrics/_scorer.py?line=258'>259</a>\u001b[0m     \u001b[39mif\u001b[39;00m sample_weight \u001b[39mis\u001b[39;00m \u001b[39mnot\u001b[39;00m \u001b[39mNone\u001b[39;00m:\n\u001b[1;32m    <a href='file:///Users/banji/Desktop/ds_piscine/rush_01/celys/lib/python3.9/site-packages/sklearn/metrics/_scorer.py?line=259'>260</a>\u001b[0m         \u001b[39mreturn\u001b[39;00m \u001b[39mself\u001b[39m\u001b[39m.\u001b[39m_sign \u001b[39m*\u001b[39m \u001b[39mself\u001b[39m\u001b[39m.\u001b[39m_score_func(\n\u001b[1;32m    <a href='file:///Users/banji/Desktop/ds_piscine/rush_01/celys/lib/python3.9/site-packages/sklearn/metrics/_scorer.py?line=260'>261</a>\u001b[0m             y_true, y_pred, sample_weight\u001b[39m=\u001b[39msample_weight, \u001b[39m*\u001b[39m\u001b[39m*\u001b[39m\u001b[39mself\u001b[39m\u001b[39m.\u001b[39m_kwargs\n\u001b[1;32m    <a href='file:///Users/banji/Desktop/ds_piscine/rush_01/celys/lib/python3.9/site-packages/sklearn/metrics/_scorer.py?line=261'>262</a>\u001b[0m         )\n",
      "File \u001b[0;32m~/Desktop/ds_piscine/rush_01/celys/lib/python3.9/site-packages/sklearn/metrics/_scorer.py:68\u001b[0m, in \u001b[0;36m_cached_call\u001b[0;34m(cache, estimator, method, *args, **kwargs)\u001b[0m\n\u001b[1;32m     <a href='file:///Users/banji/Desktop/ds_piscine/rush_01/celys/lib/python3.9/site-packages/sklearn/metrics/_scorer.py?line=65'>66</a>\u001b[0m \u001b[39m\"\"\"Call estimator with method and args and kwargs.\"\"\"\u001b[39;00m\n\u001b[1;32m     <a href='file:///Users/banji/Desktop/ds_piscine/rush_01/celys/lib/python3.9/site-packages/sklearn/metrics/_scorer.py?line=66'>67</a>\u001b[0m \u001b[39mif\u001b[39;00m cache \u001b[39mis\u001b[39;00m \u001b[39mNone\u001b[39;00m:\n\u001b[0;32m---> <a href='file:///Users/banji/Desktop/ds_piscine/rush_01/celys/lib/python3.9/site-packages/sklearn/metrics/_scorer.py?line=67'>68</a>\u001b[0m     \u001b[39mreturn\u001b[39;00m \u001b[39mgetattr\u001b[39;49m(estimator, method)(\u001b[39m*\u001b[39;49margs, \u001b[39m*\u001b[39;49m\u001b[39m*\u001b[39;49mkwargs)\n\u001b[1;32m     <a href='file:///Users/banji/Desktop/ds_piscine/rush_01/celys/lib/python3.9/site-packages/sklearn/metrics/_scorer.py?line=69'>70</a>\u001b[0m \u001b[39mtry\u001b[39;00m:\n\u001b[1;32m     <a href='file:///Users/banji/Desktop/ds_piscine/rush_01/celys/lib/python3.9/site-packages/sklearn/metrics/_scorer.py?line=70'>71</a>\u001b[0m     \u001b[39mreturn\u001b[39;00m cache[method]\n",
      "File \u001b[0;32m~/Desktop/ds_piscine/rush_01/celys/lib/python3.9/site-packages/sklearn/neighbors/_classification.py:214\u001b[0m, in \u001b[0;36mKNeighborsClassifier.predict\u001b[0;34m(self, X)\u001b[0m\n\u001b[1;32m    <a href='file:///Users/banji/Desktop/ds_piscine/rush_01/celys/lib/python3.9/site-packages/sklearn/neighbors/_classification.py?line=199'>200</a>\u001b[0m \u001b[39mdef\u001b[39;00m \u001b[39mpredict\u001b[39m(\u001b[39mself\u001b[39m, X):\n\u001b[1;32m    <a href='file:///Users/banji/Desktop/ds_piscine/rush_01/celys/lib/python3.9/site-packages/sklearn/neighbors/_classification.py?line=200'>201</a>\u001b[0m     \u001b[39m\"\"\"Predict the class labels for the provided data.\u001b[39;00m\n\u001b[1;32m    <a href='file:///Users/banji/Desktop/ds_piscine/rush_01/celys/lib/python3.9/site-packages/sklearn/neighbors/_classification.py?line=201'>202</a>\u001b[0m \n\u001b[1;32m    <a href='file:///Users/banji/Desktop/ds_piscine/rush_01/celys/lib/python3.9/site-packages/sklearn/neighbors/_classification.py?line=202'>203</a>\u001b[0m \u001b[39m    Parameters\u001b[39;00m\n\u001b[0;32m   (...)\u001b[0m\n\u001b[1;32m    <a href='file:///Users/banji/Desktop/ds_piscine/rush_01/celys/lib/python3.9/site-packages/sklearn/neighbors/_classification.py?line=211'>212</a>\u001b[0m \u001b[39m        Class labels for each data sample.\u001b[39;00m\n\u001b[1;32m    <a href='file:///Users/banji/Desktop/ds_piscine/rush_01/celys/lib/python3.9/site-packages/sklearn/neighbors/_classification.py?line=212'>213</a>\u001b[0m \u001b[39m    \"\"\"\u001b[39;00m\n\u001b[0;32m--> <a href='file:///Users/banji/Desktop/ds_piscine/rush_01/celys/lib/python3.9/site-packages/sklearn/neighbors/_classification.py?line=213'>214</a>\u001b[0m     neigh_dist, neigh_ind \u001b[39m=\u001b[39m \u001b[39mself\u001b[39;49m\u001b[39m.\u001b[39;49mkneighbors(X)\n\u001b[1;32m    <a href='file:///Users/banji/Desktop/ds_piscine/rush_01/celys/lib/python3.9/site-packages/sklearn/neighbors/_classification.py?line=214'>215</a>\u001b[0m     classes_ \u001b[39m=\u001b[39m \u001b[39mself\u001b[39m\u001b[39m.\u001b[39mclasses_\n\u001b[1;32m    <a href='file:///Users/banji/Desktop/ds_piscine/rush_01/celys/lib/python3.9/site-packages/sklearn/neighbors/_classification.py?line=215'>216</a>\u001b[0m     _y \u001b[39m=\u001b[39m \u001b[39mself\u001b[39m\u001b[39m.\u001b[39m_y\n",
      "File \u001b[0;32m~/Desktop/ds_piscine/rush_01/celys/lib/python3.9/site-packages/sklearn/neighbors/_base.py:752\u001b[0m, in \u001b[0;36mKNeighborsMixin.kneighbors\u001b[0;34m(self, X, n_neighbors, return_distance)\u001b[0m\n\u001b[1;32m    <a href='file:///Users/banji/Desktop/ds_piscine/rush_01/celys/lib/python3.9/site-packages/sklearn/neighbors/_base.py?line=748'>749</a>\u001b[0m     \u001b[39melse\u001b[39;00m:\n\u001b[1;32m    <a href='file:///Users/banji/Desktop/ds_piscine/rush_01/celys/lib/python3.9/site-packages/sklearn/neighbors/_base.py?line=749'>750</a>\u001b[0m         kwds \u001b[39m=\u001b[39m \u001b[39mself\u001b[39m\u001b[39m.\u001b[39meffective_metric_params_\n\u001b[0;32m--> <a href='file:///Users/banji/Desktop/ds_piscine/rush_01/celys/lib/python3.9/site-packages/sklearn/neighbors/_base.py?line=751'>752</a>\u001b[0m     chunked_results \u001b[39m=\u001b[39m \u001b[39mlist\u001b[39;49m(\n\u001b[1;32m    <a href='file:///Users/banji/Desktop/ds_piscine/rush_01/celys/lib/python3.9/site-packages/sklearn/neighbors/_base.py?line=752'>753</a>\u001b[0m         pairwise_distances_chunked(\n\u001b[1;32m    <a href='file:///Users/banji/Desktop/ds_piscine/rush_01/celys/lib/python3.9/site-packages/sklearn/neighbors/_base.py?line=753'>754</a>\u001b[0m             X,\n\u001b[1;32m    <a href='file:///Users/banji/Desktop/ds_piscine/rush_01/celys/lib/python3.9/site-packages/sklearn/neighbors/_base.py?line=754'>755</a>\u001b[0m             \u001b[39mself\u001b[39;49m\u001b[39m.\u001b[39;49m_fit_X,\n\u001b[1;32m    <a href='file:///Users/banji/Desktop/ds_piscine/rush_01/celys/lib/python3.9/site-packages/sklearn/neighbors/_base.py?line=755'>756</a>\u001b[0m             reduce_func\u001b[39m=\u001b[39;49mreduce_func,\n\u001b[1;32m    <a href='file:///Users/banji/Desktop/ds_piscine/rush_01/celys/lib/python3.9/site-packages/sklearn/neighbors/_base.py?line=756'>757</a>\u001b[0m             metric\u001b[39m=\u001b[39;49m\u001b[39mself\u001b[39;49m\u001b[39m.\u001b[39;49meffective_metric_,\n\u001b[1;32m    <a href='file:///Users/banji/Desktop/ds_piscine/rush_01/celys/lib/python3.9/site-packages/sklearn/neighbors/_base.py?line=757'>758</a>\u001b[0m             n_jobs\u001b[39m=\u001b[39;49mn_jobs,\n\u001b[1;32m    <a href='file:///Users/banji/Desktop/ds_piscine/rush_01/celys/lib/python3.9/site-packages/sklearn/neighbors/_base.py?line=758'>759</a>\u001b[0m             \u001b[39m*\u001b[39;49m\u001b[39m*\u001b[39;49mkwds,\n\u001b[1;32m    <a href='file:///Users/banji/Desktop/ds_piscine/rush_01/celys/lib/python3.9/site-packages/sklearn/neighbors/_base.py?line=759'>760</a>\u001b[0m         )\n\u001b[1;32m    <a href='file:///Users/banji/Desktop/ds_piscine/rush_01/celys/lib/python3.9/site-packages/sklearn/neighbors/_base.py?line=760'>761</a>\u001b[0m     )\n\u001b[1;32m    <a href='file:///Users/banji/Desktop/ds_piscine/rush_01/celys/lib/python3.9/site-packages/sklearn/neighbors/_base.py?line=762'>763</a>\u001b[0m \u001b[39melif\u001b[39;00m \u001b[39mself\u001b[39m\u001b[39m.\u001b[39m_fit_method \u001b[39min\u001b[39;00m [\u001b[39m\"\u001b[39m\u001b[39mball_tree\u001b[39m\u001b[39m\"\u001b[39m, \u001b[39m\"\u001b[39m\u001b[39mkd_tree\u001b[39m\u001b[39m\"\u001b[39m]:\n\u001b[1;32m    <a href='file:///Users/banji/Desktop/ds_piscine/rush_01/celys/lib/python3.9/site-packages/sklearn/neighbors/_base.py?line=763'>764</a>\u001b[0m     \u001b[39mif\u001b[39;00m issparse(X):\n",
      "File \u001b[0;32m~/Desktop/ds_piscine/rush_01/celys/lib/python3.9/site-packages/sklearn/metrics/pairwise.py:1717\u001b[0m, in \u001b[0;36mpairwise_distances_chunked\u001b[0;34m(X, Y, reduce_func, metric, n_jobs, working_memory, **kwds)\u001b[0m\n\u001b[1;32m   <a href='file:///Users/banji/Desktop/ds_piscine/rush_01/celys/lib/python3.9/site-packages/sklearn/metrics/pairwise.py?line=1714'>1715</a>\u001b[0m \u001b[39melse\u001b[39;00m:\n\u001b[1;32m   <a href='file:///Users/banji/Desktop/ds_piscine/rush_01/celys/lib/python3.9/site-packages/sklearn/metrics/pairwise.py?line=1715'>1716</a>\u001b[0m     X_chunk \u001b[39m=\u001b[39m X[sl]\n\u001b[0;32m-> <a href='file:///Users/banji/Desktop/ds_piscine/rush_01/celys/lib/python3.9/site-packages/sklearn/metrics/pairwise.py?line=1716'>1717</a>\u001b[0m D_chunk \u001b[39m=\u001b[39m pairwise_distances(X_chunk, Y, metric\u001b[39m=\u001b[39;49mmetric, n_jobs\u001b[39m=\u001b[39;49mn_jobs, \u001b[39m*\u001b[39;49m\u001b[39m*\u001b[39;49mkwds)\n\u001b[1;32m   <a href='file:///Users/banji/Desktop/ds_piscine/rush_01/celys/lib/python3.9/site-packages/sklearn/metrics/pairwise.py?line=1717'>1718</a>\u001b[0m \u001b[39mif\u001b[39;00m (X \u001b[39mis\u001b[39;00m Y \u001b[39mor\u001b[39;00m Y \u001b[39mis\u001b[39;00m \u001b[39mNone\u001b[39;00m) \u001b[39mand\u001b[39;00m PAIRWISE_DISTANCE_FUNCTIONS\u001b[39m.\u001b[39mget(\n\u001b[1;32m   <a href='file:///Users/banji/Desktop/ds_piscine/rush_01/celys/lib/python3.9/site-packages/sklearn/metrics/pairwise.py?line=1718'>1719</a>\u001b[0m     metric, \u001b[39mNone\u001b[39;00m\n\u001b[1;32m   <a href='file:///Users/banji/Desktop/ds_piscine/rush_01/celys/lib/python3.9/site-packages/sklearn/metrics/pairwise.py?line=1719'>1720</a>\u001b[0m ) \u001b[39mis\u001b[39;00m euclidean_distances:\n\u001b[1;32m   <a href='file:///Users/banji/Desktop/ds_piscine/rush_01/celys/lib/python3.9/site-packages/sklearn/metrics/pairwise.py?line=1720'>1721</a>\u001b[0m     \u001b[39m# zeroing diagonal, taking care of aliases of \"euclidean\",\u001b[39;00m\n\u001b[1;32m   <a href='file:///Users/banji/Desktop/ds_piscine/rush_01/celys/lib/python3.9/site-packages/sklearn/metrics/pairwise.py?line=1721'>1722</a>\u001b[0m     \u001b[39m# i.e. \"l2\"\u001b[39;00m\n\u001b[1;32m   <a href='file:///Users/banji/Desktop/ds_piscine/rush_01/celys/lib/python3.9/site-packages/sklearn/metrics/pairwise.py?line=1722'>1723</a>\u001b[0m     D_chunk\u001b[39m.\u001b[39mflat[sl\u001b[39m.\u001b[39mstart :: _num_samples(X) \u001b[39m+\u001b[39m \u001b[39m1\u001b[39m] \u001b[39m=\u001b[39m \u001b[39m0\u001b[39m\n",
      "File \u001b[0;32m~/Desktop/ds_piscine/rush_01/celys/lib/python3.9/site-packages/sklearn/metrics/pairwise.py:1889\u001b[0m, in \u001b[0;36mpairwise_distances\u001b[0;34m(X, Y, metric, n_jobs, force_all_finite, **kwds)\u001b[0m\n\u001b[1;32m   <a href='file:///Users/banji/Desktop/ds_piscine/rush_01/celys/lib/python3.9/site-packages/sklearn/metrics/pairwise.py?line=1885'>1886</a>\u001b[0m         \u001b[39mreturn\u001b[39;00m distance\u001b[39m.\u001b[39msquareform(distance\u001b[39m.\u001b[39mpdist(X, metric\u001b[39m=\u001b[39mmetric, \u001b[39m*\u001b[39m\u001b[39m*\u001b[39mkwds))\n\u001b[1;32m   <a href='file:///Users/banji/Desktop/ds_piscine/rush_01/celys/lib/python3.9/site-packages/sklearn/metrics/pairwise.py?line=1886'>1887</a>\u001b[0m     func \u001b[39m=\u001b[39m partial(distance\u001b[39m.\u001b[39mcdist, metric\u001b[39m=\u001b[39mmetric, \u001b[39m*\u001b[39m\u001b[39m*\u001b[39mkwds)\n\u001b[0;32m-> <a href='file:///Users/banji/Desktop/ds_piscine/rush_01/celys/lib/python3.9/site-packages/sklearn/metrics/pairwise.py?line=1888'>1889</a>\u001b[0m \u001b[39mreturn\u001b[39;00m _parallel_pairwise(X, Y, func, n_jobs, \u001b[39m*\u001b[39;49m\u001b[39m*\u001b[39;49mkwds)\n",
      "File \u001b[0;32m~/Desktop/ds_piscine/rush_01/celys/lib/python3.9/site-packages/sklearn/metrics/pairwise.py:1430\u001b[0m, in \u001b[0;36m_parallel_pairwise\u001b[0;34m(X, Y, func, n_jobs, **kwds)\u001b[0m\n\u001b[1;32m   <a href='file:///Users/banji/Desktop/ds_piscine/rush_01/celys/lib/python3.9/site-packages/sklearn/metrics/pairwise.py?line=1426'>1427</a>\u001b[0m X, Y, dtype \u001b[39m=\u001b[39m _return_float_dtype(X, Y)\n\u001b[1;32m   <a href='file:///Users/banji/Desktop/ds_piscine/rush_01/celys/lib/python3.9/site-packages/sklearn/metrics/pairwise.py?line=1428'>1429</a>\u001b[0m \u001b[39mif\u001b[39;00m effective_n_jobs(n_jobs) \u001b[39m==\u001b[39m \u001b[39m1\u001b[39m:\n\u001b[0;32m-> <a href='file:///Users/banji/Desktop/ds_piscine/rush_01/celys/lib/python3.9/site-packages/sklearn/metrics/pairwise.py?line=1429'>1430</a>\u001b[0m     \u001b[39mreturn\u001b[39;00m func(X, Y, \u001b[39m*\u001b[39;49m\u001b[39m*\u001b[39;49mkwds)\n\u001b[1;32m   <a href='file:///Users/banji/Desktop/ds_piscine/rush_01/celys/lib/python3.9/site-packages/sklearn/metrics/pairwise.py?line=1431'>1432</a>\u001b[0m \u001b[39m# enforce a threading backend to prevent data communication overhead\u001b[39;00m\n\u001b[1;32m   <a href='file:///Users/banji/Desktop/ds_piscine/rush_01/celys/lib/python3.9/site-packages/sklearn/metrics/pairwise.py?line=1432'>1433</a>\u001b[0m fd \u001b[39m=\u001b[39m delayed(_dist_wrapper)\n",
      "File \u001b[0;32m~/Desktop/ds_piscine/rush_01/celys/lib/python3.9/site-packages/sklearn/metrics/pairwise.py:330\u001b[0m, in \u001b[0;36meuclidean_distances\u001b[0;34m(X, Y, Y_norm_squared, squared, X_norm_squared)\u001b[0m\n\u001b[1;32m    <a href='file:///Users/banji/Desktop/ds_piscine/rush_01/celys/lib/python3.9/site-packages/sklearn/metrics/pairwise.py?line=323'>324</a>\u001b[0m     \u001b[39mif\u001b[39;00m Y_norm_squared\u001b[39m.\u001b[39mshape \u001b[39m!=\u001b[39m (\u001b[39m1\u001b[39m, Y\u001b[39m.\u001b[39mshape[\u001b[39m0\u001b[39m]):\n\u001b[1;32m    <a href='file:///Users/banji/Desktop/ds_piscine/rush_01/celys/lib/python3.9/site-packages/sklearn/metrics/pairwise.py?line=324'>325</a>\u001b[0m         \u001b[39mraise\u001b[39;00m \u001b[39mValueError\u001b[39;00m(\n\u001b[1;32m    <a href='file:///Users/banji/Desktop/ds_piscine/rush_01/celys/lib/python3.9/site-packages/sklearn/metrics/pairwise.py?line=325'>326</a>\u001b[0m             \u001b[39mf\u001b[39m\u001b[39m\"\u001b[39m\u001b[39mIncompatible dimensions for Y of shape \u001b[39m\u001b[39m{\u001b[39;00mY\u001b[39m.\u001b[39mshape\u001b[39m}\u001b[39;00m\u001b[39m and \u001b[39m\u001b[39m\"\u001b[39m\n\u001b[1;32m    <a href='file:///Users/banji/Desktop/ds_piscine/rush_01/celys/lib/python3.9/site-packages/sklearn/metrics/pairwise.py?line=326'>327</a>\u001b[0m             \u001b[39mf\u001b[39m\u001b[39m\"\u001b[39m\u001b[39mY_norm_squared of shape \u001b[39m\u001b[39m{\u001b[39;00moriginal_shape\u001b[39m}\u001b[39;00m\u001b[39m.\u001b[39m\u001b[39m\"\u001b[39m\n\u001b[1;32m    <a href='file:///Users/banji/Desktop/ds_piscine/rush_01/celys/lib/python3.9/site-packages/sklearn/metrics/pairwise.py?line=327'>328</a>\u001b[0m         )\n\u001b[0;32m--> <a href='file:///Users/banji/Desktop/ds_piscine/rush_01/celys/lib/python3.9/site-packages/sklearn/metrics/pairwise.py?line=329'>330</a>\u001b[0m \u001b[39mreturn\u001b[39;00m _euclidean_distances(X, Y, X_norm_squared, Y_norm_squared, squared)\n",
      "File \u001b[0;32m~/Desktop/ds_piscine/rush_01/celys/lib/python3.9/site-packages/sklearn/metrics/pairwise.py:371\u001b[0m, in \u001b[0;36m_euclidean_distances\u001b[0;34m(X, Y, X_norm_squared, Y_norm_squared, squared)\u001b[0m\n\u001b[1;32m    <a href='file:///Users/banji/Desktop/ds_piscine/rush_01/celys/lib/python3.9/site-packages/sklearn/metrics/pairwise.py?line=367'>368</a>\u001b[0m     distances \u001b[39m=\u001b[39m _euclidean_distances_upcast(X, XX, Y, YY)\n\u001b[1;32m    <a href='file:///Users/banji/Desktop/ds_piscine/rush_01/celys/lib/python3.9/site-packages/sklearn/metrics/pairwise.py?line=368'>369</a>\u001b[0m \u001b[39melse\u001b[39;00m:\n\u001b[1;32m    <a href='file:///Users/banji/Desktop/ds_piscine/rush_01/celys/lib/python3.9/site-packages/sklearn/metrics/pairwise.py?line=369'>370</a>\u001b[0m     \u001b[39m# if dtype is already float64, no need to chunk and upcast\u001b[39;00m\n\u001b[0;32m--> <a href='file:///Users/banji/Desktop/ds_piscine/rush_01/celys/lib/python3.9/site-packages/sklearn/metrics/pairwise.py?line=370'>371</a>\u001b[0m     distances \u001b[39m=\u001b[39m \u001b[39m-\u001b[39m\u001b[39m2\u001b[39m \u001b[39m*\u001b[39m safe_sparse_dot(X, Y\u001b[39m.\u001b[39;49mT, dense_output\u001b[39m=\u001b[39;49m\u001b[39mTrue\u001b[39;49;00m)\n\u001b[1;32m    <a href='file:///Users/banji/Desktop/ds_piscine/rush_01/celys/lib/python3.9/site-packages/sklearn/metrics/pairwise.py?line=371'>372</a>\u001b[0m     distances \u001b[39m+\u001b[39m\u001b[39m=\u001b[39m XX\n\u001b[1;32m    <a href='file:///Users/banji/Desktop/ds_piscine/rush_01/celys/lib/python3.9/site-packages/sklearn/metrics/pairwise.py?line=372'>373</a>\u001b[0m     distances \u001b[39m+\u001b[39m\u001b[39m=\u001b[39m YY\n",
      "File \u001b[0;32m~/Desktop/ds_piscine/rush_01/celys/lib/python3.9/site-packages/sklearn/utils/extmath.py:153\u001b[0m, in \u001b[0;36msafe_sparse_dot\u001b[0;34m(a, b, dense_output)\u001b[0m\n\u001b[1;32m    <a href='file:///Users/banji/Desktop/ds_piscine/rush_01/celys/lib/python3.9/site-packages/sklearn/utils/extmath.py?line=150'>151</a>\u001b[0m         ret \u001b[39m=\u001b[39m np\u001b[39m.\u001b[39mdot(a, b)\n\u001b[1;32m    <a href='file:///Users/banji/Desktop/ds_piscine/rush_01/celys/lib/python3.9/site-packages/sklearn/utils/extmath.py?line=151'>152</a>\u001b[0m \u001b[39melse\u001b[39;00m:\n\u001b[0;32m--> <a href='file:///Users/banji/Desktop/ds_piscine/rush_01/celys/lib/python3.9/site-packages/sklearn/utils/extmath.py?line=152'>153</a>\u001b[0m     ret \u001b[39m=\u001b[39m a \u001b[39m@\u001b[39;49m b\n\u001b[1;32m    <a href='file:///Users/banji/Desktop/ds_piscine/rush_01/celys/lib/python3.9/site-packages/sklearn/utils/extmath.py?line=154'>155</a>\u001b[0m \u001b[39mif\u001b[39;00m (\n\u001b[1;32m    <a href='file:///Users/banji/Desktop/ds_piscine/rush_01/celys/lib/python3.9/site-packages/sklearn/utils/extmath.py?line=155'>156</a>\u001b[0m     sparse\u001b[39m.\u001b[39missparse(a)\n\u001b[1;32m    <a href='file:///Users/banji/Desktop/ds_piscine/rush_01/celys/lib/python3.9/site-packages/sklearn/utils/extmath.py?line=156'>157</a>\u001b[0m     \u001b[39mand\u001b[39;00m sparse\u001b[39m.\u001b[39missparse(b)\n\u001b[1;32m    <a href='file:///Users/banji/Desktop/ds_piscine/rush_01/celys/lib/python3.9/site-packages/sklearn/utils/extmath.py?line=157'>158</a>\u001b[0m     \u001b[39mand\u001b[39;00m dense_output\n\u001b[1;32m    <a href='file:///Users/banji/Desktop/ds_piscine/rush_01/celys/lib/python3.9/site-packages/sklearn/utils/extmath.py?line=158'>159</a>\u001b[0m     \u001b[39mand\u001b[39;00m \u001b[39mhasattr\u001b[39m(ret, \u001b[39m\"\u001b[39m\u001b[39mtoarray\u001b[39m\u001b[39m\"\u001b[39m)\n\u001b[1;32m    <a href='file:///Users/banji/Desktop/ds_piscine/rush_01/celys/lib/python3.9/site-packages/sklearn/utils/extmath.py?line=159'>160</a>\u001b[0m ):\n\u001b[1;32m    <a href='file:///Users/banji/Desktop/ds_piscine/rush_01/celys/lib/python3.9/site-packages/sklearn/utils/extmath.py?line=160'>161</a>\u001b[0m     \u001b[39mreturn\u001b[39;00m ret\u001b[39m.\u001b[39mtoarray()\n",
      "\u001b[0;31mKeyboardInterrupt\u001b[0m: "
     ]
    }
   ],
   "source": [
    "from sklearn.model_selection import GridSearchCV\n",
    "from sklearn.neighbors import KNeighborsClassifier\n",
    "neigh = KNeighborsClassifier(n_neighbors=3)\n",
    "parametrs = { 'n_neighbors': range (3, 15, 1)}\n",
    "grid = GridSearchCV(neigh, parametrs, scoring='neg_root_mean_squared_error', cv=5)\n",
    "grid.fit(X_train, y_train)\n",
    "grid.best_params_\n"
   ]
  },
  {
   "cell_type": "code",
   "execution_count": 35,
   "metadata": {},
   "outputs": [
    {
     "data": {
      "text/plain": [
       "KNeighborsClassifier(n_neighbors=10)"
      ]
     },
     "execution_count": 35,
     "metadata": {},
     "output_type": "execute_result"
    }
   ],
   "source": [
    "neigh = KNeighborsClassifier(n_neighbors=10)\n",
    "neigh.fit(X_train, y_train)"
   ]
  },
  {
   "cell_type": "code",
   "execution_count": 36,
   "metadata": {},
   "outputs": [
    {
     "data": {
      "text/plain": [
       "0.7718773373223635"
      ]
     },
     "execution_count": 36,
     "metadata": {},
     "output_type": "execute_result"
    }
   ],
   "source": [
    "y_pred = neigh.predict(X_test)\n",
    "accuracy_score(y_test, y_pred)"
   ]
  },
  {
   "cell_type": "code",
   "execution_count": 40,
   "metadata": {},
   "outputs": [
    {
     "data": {
      "text/plain": [
       "0.1460982298678634"
      ]
     },
     "execution_count": 40,
     "metadata": {},
     "output_type": "execute_result"
    }
   ],
   "source": [
    "from sklearn.naive_bayes import GaussianNB\n",
    "clf = GaussianNB()\n",
    "clf.fit(X_train, y_train)\n",
    "y_pred = clf.predict(X_test)\n",
    "accuracy_score(y_test, y_pred)"
   ]
  },
  {
   "cell_type": "markdown",
   "metadata": {},
   "source": [
    "НАДО ВСТАВИТ ЯЧЕЙКУ НИЖЕ"
   ]
  },
  {
   "cell_type": "code",
   "execution_count": 46,
   "metadata": {},
   "outputs": [],
   "source": [
    "X_train, X_test, y_train, y_test = train_test_split(X, y, test_size=0.2, random_state=0)\n"
   ]
  },
  {
   "cell_type": "code",
   "execution_count": 47,
   "metadata": {},
   "outputs": [
    {
     "data": {
      "text/plain": [
       "0.6636748940413862"
      ]
     },
     "execution_count": 47,
     "metadata": {},
     "output_type": "execute_result"
    }
   ],
   "source": [
    "#6-class classification\n",
    "\n",
    "y_train, y_test = np.rint(y_train).astype(int), np.rint(y_test).astype(int)\n",
    "y_pred_naive = np.full(y_test.shape, np.bincount(y_train).argmax())\n",
    "accuracy_score(y_test, y_pred_naive)"
   ]
  },
  {
   "cell_type": "code",
   "execution_count": 48,
   "metadata": {},
   "outputs": [
    {
     "data": {
      "text/plain": [
       "0.800049862877088"
      ]
     },
     "execution_count": 48,
     "metadata": {},
     "output_type": "execute_result"
    }
   ],
   "source": [
    "#3-class classification\n",
    "y_train, y_test = np.floor_divide(y_train, 2), np.floor_divide(y_test, 2)\n",
    "y_pred_naive = np.full(y_test.shape, np.bincount(y_train).argmax())\n",
    "accuracy_score(y_test, y_pred_naive)"
   ]
  },
  {
   "cell_type": "code",
   "execution_count": null,
   "metadata": {},
   "outputs": [],
   "source": []
  },
  {
   "cell_type": "code",
   "execution_count": 49,
   "metadata": {},
   "outputs": [],
   "source": [
    "###  What is worse: to predict a bad rating which is good in real life, or to\n",
    "### predict a good rating which is bad in real life? Replace accuracy with the\n",
    "### appropriate metric.\n",
    "# https://towardsdatascience.com/the-5-classification-evaluation-metrics-you-must-know-aa97784ff226"
   ]
  },
  {
   "cell_type": "code",
   "execution_count": 50,
   "metadata": {},
   "outputs": [
    {
     "ename": "NotFittedError",
     "evalue": "This KNeighborsClassifier instance is not fitted yet. Call 'fit' with appropriate arguments before using this estimator.",
     "output_type": "error",
     "traceback": [
      "\u001b[0;31m---------------------------------------------------------------------------\u001b[0m",
      "\u001b[0;31mNotFittedError\u001b[0m                            Traceback (most recent call last)",
      "\u001b[1;32m/Users/banji/Desktop/rush_01/recipes.ipynb Cell 57'\u001b[0m in \u001b[0;36m<cell line: 1>\u001b[0;34m()\u001b[0m\n\u001b[0;32m----> <a href='vscode-notebook-cell:/Users/banji/Desktop/rush_01/recipes.ipynb#ch0000052?line=0'>1</a>\u001b[0m y_pred \u001b[39m=\u001b[39m neigh\u001b[39m.\u001b[39;49mpredict(X_test)\n\u001b[1;32m      <a href='vscode-notebook-cell:/Users/banji/Desktop/rush_01/recipes.ipynb#ch0000052?line=1'>2</a>\u001b[0m accuracy_score(y_test, y_pred)\n",
      "File \u001b[0;32m~/Desktop/ds_piscine/rush_01/celys/lib/python3.9/site-packages/sklearn/neighbors/_classification.py:214\u001b[0m, in \u001b[0;36mKNeighborsClassifier.predict\u001b[0;34m(self, X)\u001b[0m\n\u001b[1;32m    <a href='file:///Users/banji/Desktop/ds_piscine/rush_01/celys/lib/python3.9/site-packages/sklearn/neighbors/_classification.py?line=199'>200</a>\u001b[0m \u001b[39mdef\u001b[39;00m \u001b[39mpredict\u001b[39m(\u001b[39mself\u001b[39m, X):\n\u001b[1;32m    <a href='file:///Users/banji/Desktop/ds_piscine/rush_01/celys/lib/python3.9/site-packages/sklearn/neighbors/_classification.py?line=200'>201</a>\u001b[0m     \u001b[39m\"\"\"Predict the class labels for the provided data.\u001b[39;00m\n\u001b[1;32m    <a href='file:///Users/banji/Desktop/ds_piscine/rush_01/celys/lib/python3.9/site-packages/sklearn/neighbors/_classification.py?line=201'>202</a>\u001b[0m \n\u001b[1;32m    <a href='file:///Users/banji/Desktop/ds_piscine/rush_01/celys/lib/python3.9/site-packages/sklearn/neighbors/_classification.py?line=202'>203</a>\u001b[0m \u001b[39m    Parameters\u001b[39;00m\n\u001b[0;32m   (...)\u001b[0m\n\u001b[1;32m    <a href='file:///Users/banji/Desktop/ds_piscine/rush_01/celys/lib/python3.9/site-packages/sklearn/neighbors/_classification.py?line=211'>212</a>\u001b[0m \u001b[39m        Class labels for each data sample.\u001b[39;00m\n\u001b[1;32m    <a href='file:///Users/banji/Desktop/ds_piscine/rush_01/celys/lib/python3.9/site-packages/sklearn/neighbors/_classification.py?line=212'>213</a>\u001b[0m \u001b[39m    \"\"\"\u001b[39;00m\n\u001b[0;32m--> <a href='file:///Users/banji/Desktop/ds_piscine/rush_01/celys/lib/python3.9/site-packages/sklearn/neighbors/_classification.py?line=213'>214</a>\u001b[0m     neigh_dist, neigh_ind \u001b[39m=\u001b[39m \u001b[39mself\u001b[39;49m\u001b[39m.\u001b[39;49mkneighbors(X)\n\u001b[1;32m    <a href='file:///Users/banji/Desktop/ds_piscine/rush_01/celys/lib/python3.9/site-packages/sklearn/neighbors/_classification.py?line=214'>215</a>\u001b[0m     classes_ \u001b[39m=\u001b[39m \u001b[39mself\u001b[39m\u001b[39m.\u001b[39mclasses_\n\u001b[1;32m    <a href='file:///Users/banji/Desktop/ds_piscine/rush_01/celys/lib/python3.9/site-packages/sklearn/neighbors/_classification.py?line=215'>216</a>\u001b[0m     _y \u001b[39m=\u001b[39m \u001b[39mself\u001b[39m\u001b[39m.\u001b[39m_y\n",
      "File \u001b[0;32m~/Desktop/ds_piscine/rush_01/celys/lib/python3.9/site-packages/sklearn/neighbors/_base.py:700\u001b[0m, in \u001b[0;36mKNeighborsMixin.kneighbors\u001b[0;34m(self, X, n_neighbors, return_distance)\u001b[0m\n\u001b[1;32m    <a href='file:///Users/banji/Desktop/ds_piscine/rush_01/celys/lib/python3.9/site-packages/sklearn/neighbors/_base.py?line=646'>647</a>\u001b[0m \u001b[39mdef\u001b[39;00m \u001b[39mkneighbors\u001b[39m(\u001b[39mself\u001b[39m, X\u001b[39m=\u001b[39m\u001b[39mNone\u001b[39;00m, n_neighbors\u001b[39m=\u001b[39m\u001b[39mNone\u001b[39;00m, return_distance\u001b[39m=\u001b[39m\u001b[39mTrue\u001b[39;00m):\n\u001b[1;32m    <a href='file:///Users/banji/Desktop/ds_piscine/rush_01/celys/lib/python3.9/site-packages/sklearn/neighbors/_base.py?line=647'>648</a>\u001b[0m     \u001b[39m\"\"\"Find the K-neighbors of a point.\u001b[39;00m\n\u001b[1;32m    <a href='file:///Users/banji/Desktop/ds_piscine/rush_01/celys/lib/python3.9/site-packages/sklearn/neighbors/_base.py?line=648'>649</a>\u001b[0m \n\u001b[1;32m    <a href='file:///Users/banji/Desktop/ds_piscine/rush_01/celys/lib/python3.9/site-packages/sklearn/neighbors/_base.py?line=649'>650</a>\u001b[0m \u001b[39m    Returns indices of and distances to the neighbors of each point.\u001b[39;00m\n\u001b[0;32m   (...)\u001b[0m\n\u001b[1;32m    <a href='file:///Users/banji/Desktop/ds_piscine/rush_01/celys/lib/python3.9/site-packages/sklearn/neighbors/_base.py?line=697'>698</a>\u001b[0m \u001b[39m           [2]]...)\u001b[39;00m\n\u001b[1;32m    <a href='file:///Users/banji/Desktop/ds_piscine/rush_01/celys/lib/python3.9/site-packages/sklearn/neighbors/_base.py?line=698'>699</a>\u001b[0m \u001b[39m    \"\"\"\u001b[39;00m\n\u001b[0;32m--> <a href='file:///Users/banji/Desktop/ds_piscine/rush_01/celys/lib/python3.9/site-packages/sklearn/neighbors/_base.py?line=699'>700</a>\u001b[0m     check_is_fitted(\u001b[39mself\u001b[39;49m)\n\u001b[1;32m    <a href='file:///Users/banji/Desktop/ds_piscine/rush_01/celys/lib/python3.9/site-packages/sklearn/neighbors/_base.py?line=701'>702</a>\u001b[0m     \u001b[39mif\u001b[39;00m n_neighbors \u001b[39mis\u001b[39;00m \u001b[39mNone\u001b[39;00m:\n\u001b[1;32m    <a href='file:///Users/banji/Desktop/ds_piscine/rush_01/celys/lib/python3.9/site-packages/sklearn/neighbors/_base.py?line=702'>703</a>\u001b[0m         n_neighbors \u001b[39m=\u001b[39m \u001b[39mself\u001b[39m\u001b[39m.\u001b[39mn_neighbors\n",
      "File \u001b[0;32m~/Desktop/ds_piscine/rush_01/celys/lib/python3.9/site-packages/sklearn/utils/validation.py:1222\u001b[0m, in \u001b[0;36mcheck_is_fitted\u001b[0;34m(estimator, attributes, msg, all_or_any)\u001b[0m\n\u001b[1;32m   <a href='file:///Users/banji/Desktop/ds_piscine/rush_01/celys/lib/python3.9/site-packages/sklearn/utils/validation.py?line=1216'>1217</a>\u001b[0m     fitted \u001b[39m=\u001b[39m [\n\u001b[1;32m   <a href='file:///Users/banji/Desktop/ds_piscine/rush_01/celys/lib/python3.9/site-packages/sklearn/utils/validation.py?line=1217'>1218</a>\u001b[0m         v \u001b[39mfor\u001b[39;00m v \u001b[39min\u001b[39;00m \u001b[39mvars\u001b[39m(estimator) \u001b[39mif\u001b[39;00m v\u001b[39m.\u001b[39mendswith(\u001b[39m\"\u001b[39m\u001b[39m_\u001b[39m\u001b[39m\"\u001b[39m) \u001b[39mand\u001b[39;00m \u001b[39mnot\u001b[39;00m v\u001b[39m.\u001b[39mstartswith(\u001b[39m\"\u001b[39m\u001b[39m__\u001b[39m\u001b[39m\"\u001b[39m)\n\u001b[1;32m   <a href='file:///Users/banji/Desktop/ds_piscine/rush_01/celys/lib/python3.9/site-packages/sklearn/utils/validation.py?line=1218'>1219</a>\u001b[0m     ]\n\u001b[1;32m   <a href='file:///Users/banji/Desktop/ds_piscine/rush_01/celys/lib/python3.9/site-packages/sklearn/utils/validation.py?line=1220'>1221</a>\u001b[0m \u001b[39mif\u001b[39;00m \u001b[39mnot\u001b[39;00m fitted:\n\u001b[0;32m-> <a href='file:///Users/banji/Desktop/ds_piscine/rush_01/celys/lib/python3.9/site-packages/sklearn/utils/validation.py?line=1221'>1222</a>\u001b[0m     \u001b[39mraise\u001b[39;00m NotFittedError(msg \u001b[39m%\u001b[39m {\u001b[39m\"\u001b[39m\u001b[39mname\u001b[39m\u001b[39m\"\u001b[39m: \u001b[39mtype\u001b[39m(estimator)\u001b[39m.\u001b[39m\u001b[39m__name__\u001b[39m})\n",
      "\u001b[0;31mNotFittedError\u001b[0m: This KNeighborsClassifier instance is not fitted yet. Call 'fit' with appropriate arguments before using this estimator."
     ]
    }
   ],
   "source": [
    "y_pred = neigh.predict(X_test)\n",
    "accuracy_score(y_test, y_pred)\n"
   ]
  },
  {
   "cell_type": "code",
   "execution_count": 51,
   "metadata": {},
   "outputs": [
    {
     "ename": "ValueError",
     "evalue": "Mix of label input types (string and number)",
     "output_type": "error",
     "traceback": [
      "\u001b[0;31m---------------------------------------------------------------------------\u001b[0m",
      "\u001b[0;31mValueError\u001b[0m                                Traceback (most recent call last)",
      "\u001b[1;32m/Users/banji/Desktop/rush_01/recipes.ipynb Cell 58'\u001b[0m in \u001b[0;36m<cell line: 1>\u001b[0;34m()\u001b[0m\n\u001b[0;32m----> <a href='vscode-notebook-cell:/Users/banji/Desktop/rush_01/recipes.ipynb#ch0000053?line=0'>1</a>\u001b[0m precision_score(y_test, y_pred, average\u001b[39m=\u001b[39;49m\u001b[39mNone\u001b[39;49;00m, labels\u001b[39m=\u001b[39;49m[\u001b[39m1\u001b[39;49m])\n",
      "File \u001b[0;32m~/Desktop/ds_piscine/rush_01/celys/lib/python3.9/site-packages/sklearn/metrics/_classification.py:1757\u001b[0m, in \u001b[0;36mprecision_score\u001b[0;34m(y_true, y_pred, labels, pos_label, average, sample_weight, zero_division)\u001b[0m\n\u001b[1;32m   <a href='file:///Users/banji/Desktop/ds_piscine/rush_01/celys/lib/python3.9/site-packages/sklearn/metrics/_classification.py?line=1627'>1628</a>\u001b[0m \u001b[39mdef\u001b[39;00m \u001b[39mprecision_score\u001b[39m(\n\u001b[1;32m   <a href='file:///Users/banji/Desktop/ds_piscine/rush_01/celys/lib/python3.9/site-packages/sklearn/metrics/_classification.py?line=1628'>1629</a>\u001b[0m     y_true,\n\u001b[1;32m   <a href='file:///Users/banji/Desktop/ds_piscine/rush_01/celys/lib/python3.9/site-packages/sklearn/metrics/_classification.py?line=1629'>1630</a>\u001b[0m     y_pred,\n\u001b[0;32m   (...)\u001b[0m\n\u001b[1;32m   <a href='file:///Users/banji/Desktop/ds_piscine/rush_01/celys/lib/python3.9/site-packages/sklearn/metrics/_classification.py?line=1635'>1636</a>\u001b[0m     zero_division\u001b[39m=\u001b[39m\u001b[39m\"\u001b[39m\u001b[39mwarn\u001b[39m\u001b[39m\"\u001b[39m,\n\u001b[1;32m   <a href='file:///Users/banji/Desktop/ds_piscine/rush_01/celys/lib/python3.9/site-packages/sklearn/metrics/_classification.py?line=1636'>1637</a>\u001b[0m ):\n\u001b[1;32m   <a href='file:///Users/banji/Desktop/ds_piscine/rush_01/celys/lib/python3.9/site-packages/sklearn/metrics/_classification.py?line=1637'>1638</a>\u001b[0m     \u001b[39m\"\"\"Compute the precision.\u001b[39;00m\n\u001b[1;32m   <a href='file:///Users/banji/Desktop/ds_piscine/rush_01/celys/lib/python3.9/site-packages/sklearn/metrics/_classification.py?line=1638'>1639</a>\u001b[0m \n\u001b[1;32m   <a href='file:///Users/banji/Desktop/ds_piscine/rush_01/celys/lib/python3.9/site-packages/sklearn/metrics/_classification.py?line=1639'>1640</a>\u001b[0m \u001b[39m    The precision is the ratio ``tp / (tp + fp)`` where ``tp`` is the number of\u001b[39;00m\n\u001b[0;32m   (...)\u001b[0m\n\u001b[1;32m   <a href='file:///Users/banji/Desktop/ds_piscine/rush_01/celys/lib/python3.9/site-packages/sklearn/metrics/_classification.py?line=1754'>1755</a>\u001b[0m \u001b[39m    array([0.5, 1. , 1. ])\u001b[39;00m\n\u001b[1;32m   <a href='file:///Users/banji/Desktop/ds_piscine/rush_01/celys/lib/python3.9/site-packages/sklearn/metrics/_classification.py?line=1755'>1756</a>\u001b[0m \u001b[39m    \"\"\"\u001b[39;00m\n\u001b[0;32m-> <a href='file:///Users/banji/Desktop/ds_piscine/rush_01/celys/lib/python3.9/site-packages/sklearn/metrics/_classification.py?line=1756'>1757</a>\u001b[0m     p, _, _, _ \u001b[39m=\u001b[39m precision_recall_fscore_support(\n\u001b[1;32m   <a href='file:///Users/banji/Desktop/ds_piscine/rush_01/celys/lib/python3.9/site-packages/sklearn/metrics/_classification.py?line=1757'>1758</a>\u001b[0m         y_true,\n\u001b[1;32m   <a href='file:///Users/banji/Desktop/ds_piscine/rush_01/celys/lib/python3.9/site-packages/sklearn/metrics/_classification.py?line=1758'>1759</a>\u001b[0m         y_pred,\n\u001b[1;32m   <a href='file:///Users/banji/Desktop/ds_piscine/rush_01/celys/lib/python3.9/site-packages/sklearn/metrics/_classification.py?line=1759'>1760</a>\u001b[0m         labels\u001b[39m=\u001b[39;49mlabels,\n\u001b[1;32m   <a href='file:///Users/banji/Desktop/ds_piscine/rush_01/celys/lib/python3.9/site-packages/sklearn/metrics/_classification.py?line=1760'>1761</a>\u001b[0m         pos_label\u001b[39m=\u001b[39;49mpos_label,\n\u001b[1;32m   <a href='file:///Users/banji/Desktop/ds_piscine/rush_01/celys/lib/python3.9/site-packages/sklearn/metrics/_classification.py?line=1761'>1762</a>\u001b[0m         average\u001b[39m=\u001b[39;49maverage,\n\u001b[1;32m   <a href='file:///Users/banji/Desktop/ds_piscine/rush_01/celys/lib/python3.9/site-packages/sklearn/metrics/_classification.py?line=1762'>1763</a>\u001b[0m         warn_for\u001b[39m=\u001b[39;49m(\u001b[39m\"\u001b[39;49m\u001b[39mprecision\u001b[39;49m\u001b[39m\"\u001b[39;49m,),\n\u001b[1;32m   <a href='file:///Users/banji/Desktop/ds_piscine/rush_01/celys/lib/python3.9/site-packages/sklearn/metrics/_classification.py?line=1763'>1764</a>\u001b[0m         sample_weight\u001b[39m=\u001b[39;49msample_weight,\n\u001b[1;32m   <a href='file:///Users/banji/Desktop/ds_piscine/rush_01/celys/lib/python3.9/site-packages/sklearn/metrics/_classification.py?line=1764'>1765</a>\u001b[0m         zero_division\u001b[39m=\u001b[39;49mzero_division,\n\u001b[1;32m   <a href='file:///Users/banji/Desktop/ds_piscine/rush_01/celys/lib/python3.9/site-packages/sklearn/metrics/_classification.py?line=1765'>1766</a>\u001b[0m     )\n\u001b[1;32m   <a href='file:///Users/banji/Desktop/ds_piscine/rush_01/celys/lib/python3.9/site-packages/sklearn/metrics/_classification.py?line=1766'>1767</a>\u001b[0m     \u001b[39mreturn\u001b[39;00m p\n",
      "File \u001b[0;32m~/Desktop/ds_piscine/rush_01/celys/lib/python3.9/site-packages/sklearn/metrics/_classification.py:1544\u001b[0m, in \u001b[0;36mprecision_recall_fscore_support\u001b[0;34m(y_true, y_pred, beta, labels, pos_label, average, warn_for, sample_weight, zero_division)\u001b[0m\n\u001b[1;32m   <a href='file:///Users/banji/Desktop/ds_piscine/rush_01/celys/lib/python3.9/site-packages/sklearn/metrics/_classification.py?line=1541'>1542</a>\u001b[0m \u001b[39mif\u001b[39;00m beta \u001b[39m<\u001b[39m \u001b[39m0\u001b[39m:\n\u001b[1;32m   <a href='file:///Users/banji/Desktop/ds_piscine/rush_01/celys/lib/python3.9/site-packages/sklearn/metrics/_classification.py?line=1542'>1543</a>\u001b[0m     \u001b[39mraise\u001b[39;00m \u001b[39mValueError\u001b[39;00m(\u001b[39m\"\u001b[39m\u001b[39mbeta should be >=0 in the F-beta score\u001b[39m\u001b[39m\"\u001b[39m)\n\u001b[0;32m-> <a href='file:///Users/banji/Desktop/ds_piscine/rush_01/celys/lib/python3.9/site-packages/sklearn/metrics/_classification.py?line=1543'>1544</a>\u001b[0m labels \u001b[39m=\u001b[39m _check_set_wise_labels(y_true, y_pred, average, labels, pos_label)\n\u001b[1;32m   <a href='file:///Users/banji/Desktop/ds_piscine/rush_01/celys/lib/python3.9/site-packages/sklearn/metrics/_classification.py?line=1545'>1546</a>\u001b[0m \u001b[39m# Calculate tp_sum, pred_sum, true_sum ###\u001b[39;00m\n\u001b[1;32m   <a href='file:///Users/banji/Desktop/ds_piscine/rush_01/celys/lib/python3.9/site-packages/sklearn/metrics/_classification.py?line=1546'>1547</a>\u001b[0m samplewise \u001b[39m=\u001b[39m average \u001b[39m==\u001b[39m \u001b[39m\"\u001b[39m\u001b[39msamples\u001b[39m\u001b[39m\"\u001b[39m\n",
      "File \u001b[0;32m~/Desktop/ds_piscine/rush_01/celys/lib/python3.9/site-packages/sklearn/metrics/_classification.py:1351\u001b[0m, in \u001b[0;36m_check_set_wise_labels\u001b[0;34m(y_true, y_pred, average, labels, pos_label)\u001b[0m\n\u001b[1;32m   <a href='file:///Users/banji/Desktop/ds_piscine/rush_01/celys/lib/python3.9/site-packages/sklearn/metrics/_classification.py?line=1347'>1348</a>\u001b[0m y_type, y_true, y_pred \u001b[39m=\u001b[39m _check_targets(y_true, y_pred)\n\u001b[1;32m   <a href='file:///Users/banji/Desktop/ds_piscine/rush_01/celys/lib/python3.9/site-packages/sklearn/metrics/_classification.py?line=1348'>1349</a>\u001b[0m \u001b[39m# Convert to Python primitive type to avoid NumPy type / Python str\u001b[39;00m\n\u001b[1;32m   <a href='file:///Users/banji/Desktop/ds_piscine/rush_01/celys/lib/python3.9/site-packages/sklearn/metrics/_classification.py?line=1349'>1350</a>\u001b[0m \u001b[39m# comparison. See https://github.com/numpy/numpy/issues/6784\u001b[39;00m\n\u001b[0;32m-> <a href='file:///Users/banji/Desktop/ds_piscine/rush_01/celys/lib/python3.9/site-packages/sklearn/metrics/_classification.py?line=1350'>1351</a>\u001b[0m present_labels \u001b[39m=\u001b[39m unique_labels(y_true, y_pred)\u001b[39m.\u001b[39mtolist()\n\u001b[1;32m   <a href='file:///Users/banji/Desktop/ds_piscine/rush_01/celys/lib/python3.9/site-packages/sklearn/metrics/_classification.py?line=1351'>1352</a>\u001b[0m \u001b[39mif\u001b[39;00m average \u001b[39m==\u001b[39m \u001b[39m\"\u001b[39m\u001b[39mbinary\u001b[39m\u001b[39m\"\u001b[39m:\n\u001b[1;32m   <a href='file:///Users/banji/Desktop/ds_piscine/rush_01/celys/lib/python3.9/site-packages/sklearn/metrics/_classification.py?line=1352'>1353</a>\u001b[0m     \u001b[39mif\u001b[39;00m y_type \u001b[39m==\u001b[39m \u001b[39m\"\u001b[39m\u001b[39mbinary\u001b[39m\u001b[39m\"\u001b[39m:\n",
      "File \u001b[0;32m~/Desktop/ds_piscine/rush_01/celys/lib/python3.9/site-packages/sklearn/utils/multiclass.py:107\u001b[0m, in \u001b[0;36munique_labels\u001b[0;34m(*ys)\u001b[0m\n\u001b[1;32m    <a href='file:///Users/banji/Desktop/ds_piscine/rush_01/celys/lib/python3.9/site-packages/sklearn/utils/multiclass.py?line=104'>105</a>\u001b[0m \u001b[39m# Check that we don't mix string type with number type\u001b[39;00m\n\u001b[1;32m    <a href='file:///Users/banji/Desktop/ds_piscine/rush_01/celys/lib/python3.9/site-packages/sklearn/utils/multiclass.py?line=105'>106</a>\u001b[0m \u001b[39mif\u001b[39;00m \u001b[39mlen\u001b[39m(\u001b[39mset\u001b[39m(\u001b[39misinstance\u001b[39m(label, \u001b[39mstr\u001b[39m) \u001b[39mfor\u001b[39;00m label \u001b[39min\u001b[39;00m ys_labels)) \u001b[39m>\u001b[39m \u001b[39m1\u001b[39m:\n\u001b[0;32m--> <a href='file:///Users/banji/Desktop/ds_piscine/rush_01/celys/lib/python3.9/site-packages/sklearn/utils/multiclass.py?line=106'>107</a>\u001b[0m     \u001b[39mraise\u001b[39;00m \u001b[39mValueError\u001b[39;00m(\u001b[39m\"\u001b[39m\u001b[39mMix of label input types (string and number)\u001b[39m\u001b[39m\"\u001b[39m)\n\u001b[1;32m    <a href='file:///Users/banji/Desktop/ds_piscine/rush_01/celys/lib/python3.9/site-packages/sklearn/utils/multiclass.py?line=108'>109</a>\u001b[0m \u001b[39mreturn\u001b[39;00m np\u001b[39m.\u001b[39marray(\u001b[39msorted\u001b[39m(ys_labels))\n",
      "\u001b[0;31mValueError\u001b[0m: Mix of label input types (string and number)"
     ]
    }
   ],
   "source": [
    "precision_score(y_test, y_pred, average=None, labels=[1])"
   ]
  },
  {
   "cell_type": "code",
   "execution_count": null,
   "metadata": {},
   "outputs": [],
   "source": []
  },
  {
   "cell_type": "markdown",
   "metadata": {},
   "source": [
    "### Decision"
   ]
  },
  {
   "cell_type": "code",
   "execution_count": null,
   "metadata": {},
   "outputs": [
    {
     "name": "stdout",
     "output_type": "stream",
     "text": [
      "0.7586636748940414\n"
     ]
    }
   ],
   "source": [
    "filename = 'finalized_model.sav'\n",
    "pickle.dump(neigh, open(filename, 'wb'))\n",
    "\n",
    "loaded_model = pickle.load(open(filename, 'rb'))\n",
    "result = loaded_model.score(X_test, y_test)\n",
    "print(result)\n"
   ]
  },
  {
   "cell_type": "code",
   "execution_count": null,
   "metadata": {},
   "outputs": [],
   "source": [
    "filename = 'finalized_model_regressor.sav'\n",
    "pickle.dump(regressor, open(filename, 'wb'))\n"
   ]
  },
  {
   "cell_type": "code",
   "execution_count": null,
   "metadata": {},
   "outputs": [],
   "source": []
  },
  {
   "cell_type": "code",
   "execution_count": null,
   "metadata": {},
   "outputs": [],
   "source": []
  },
  {
   "cell_type": "code",
   "execution_count": null,
   "metadata": {},
   "outputs": [],
   "source": []
  },
  {
   "cell_type": "markdown",
   "metadata": {},
   "source": [
    "#### FROM .PY"
   ]
  },
  {
   "cell_type": "code",
   "execution_count": null,
   "metadata": {},
   "outputs": [
    {
     "name": "stderr",
     "output_type": "stream",
     "text": [
      "/var/folders/cc/m1zdnv7157ncsc484c8h7fvr0000gn/T/ipykernel_31353/654576754.py:1: FutureWarning: In a future version of pandas all arguments of read_csv except for the argument 'filepath_or_buffer' will be keyword-only.\n",
      "  forecast_new = Forecast(('yogurt', 'yonkers','yuca' ,'zucchini'))\n"
     ]
    },
    {
     "data": {
      "text/plain": [
       "(3.905224880207991, 'GREEEAT!')"
      ]
     },
     "execution_count": 24,
     "metadata": {},
     "output_type": "execute_result"
    }
   ],
   "source": [
    "forecast_new = Forecast(('yogurt', 'yonkers','yuca' ,'zucchini'))\n",
    "forecast_new.matrix_ingredients\n",
    "forecast_new.predict_rating()"
   ]
  },
  {
   "cell_type": "code",
   "execution_count": null,
   "metadata": {},
   "outputs": [],
   "source": []
  },
  {
   "cell_type": "markdown",
   "metadata": {},
   "source": [
    "# Nutrition Facts"
   ]
  },
  {
   "cell_type": "code",
   "execution_count": 62,
   "metadata": {},
   "outputs": [],
   "source": [
    "#чтобы получить get_must_nutrients()\n",
    "ingrid = [np.array(df_ingredients.keys())[0:5]][0]\n",
    "s = NutritionFacts(ingrid)"
   ]
  },
  {
   "cell_type": "code",
   "execution_count": 63,
   "metadata": {},
   "outputs": [],
   "source": [
    "d = pd.DataFrame(0, index=df_ingredients.keys(), columns=s.get_must_nutrients().keys())"
   ]
  },
  {
   "cell_type": "code",
   "execution_count": 64,
   "metadata": {},
   "outputs": [
    {
     "data": {
      "text/html": [
       "<div>\n",
       "<style scoped>\n",
       "    .dataframe tbody tr th:only-of-type {\n",
       "        vertical-align: middle;\n",
       "    }\n",
       "\n",
       "    .dataframe tbody tr th {\n",
       "        vertical-align: top;\n",
       "    }\n",
       "\n",
       "    .dataframe thead th {\n",
       "        text-align: right;\n",
       "    }\n",
       "</style>\n",
       "<table border=\"1\" class=\"dataframe\">\n",
       "  <thead>\n",
       "    <tr style=\"text-align: right;\">\n",
       "      <th></th>\n",
       "      <th>Fat</th>\n",
       "      <th>Saturated fat</th>\n",
       "      <th>Cholesterol</th>\n",
       "      <th>Total \\ncarbohydrates</th>\n",
       "      <th>Sodium</th>\n",
       "      <th>Dietary Fiber</th>\n",
       "      <th>Protein</th>\n",
       "      <th>Added sugars</th>\n",
       "      <th>Vitamin A</th>\n",
       "      <th>Vitamin C</th>\n",
       "      <th>...</th>\n",
       "      <th>Magnesium</th>\n",
       "      <th>Zinc</th>\n",
       "      <th>Selenium</th>\n",
       "      <th>Copper</th>\n",
       "      <th>Manganese</th>\n",
       "      <th>Chromium</th>\n",
       "      <th>Molybdenum</th>\n",
       "      <th>Chloride</th>\n",
       "      <th>Potassium</th>\n",
       "      <th>Choline</th>\n",
       "    </tr>\n",
       "  </thead>\n",
       "  <tbody>\n",
       "    <tr>\n",
       "      <th>alabama</th>\n",
       "      <td>0</td>\n",
       "      <td>0</td>\n",
       "      <td>0</td>\n",
       "      <td>0</td>\n",
       "      <td>0</td>\n",
       "      <td>0</td>\n",
       "      <td>0</td>\n",
       "      <td>0</td>\n",
       "      <td>0</td>\n",
       "      <td>0</td>\n",
       "      <td>...</td>\n",
       "      <td>0</td>\n",
       "      <td>0</td>\n",
       "      <td>0</td>\n",
       "      <td>0</td>\n",
       "      <td>0</td>\n",
       "      <td>0</td>\n",
       "      <td>0</td>\n",
       "      <td>0</td>\n",
       "      <td>0</td>\n",
       "      <td>0</td>\n",
       "    </tr>\n",
       "    <tr>\n",
       "      <th>alaska</th>\n",
       "      <td>0</td>\n",
       "      <td>0</td>\n",
       "      <td>0</td>\n",
       "      <td>0</td>\n",
       "      <td>0</td>\n",
       "      <td>0</td>\n",
       "      <td>0</td>\n",
       "      <td>0</td>\n",
       "      <td>0</td>\n",
       "      <td>0</td>\n",
       "      <td>...</td>\n",
       "      <td>0</td>\n",
       "      <td>0</td>\n",
       "      <td>0</td>\n",
       "      <td>0</td>\n",
       "      <td>0</td>\n",
       "      <td>0</td>\n",
       "      <td>0</td>\n",
       "      <td>0</td>\n",
       "      <td>0</td>\n",
       "      <td>0</td>\n",
       "    </tr>\n",
       "    <tr>\n",
       "      <th>alcoholic</th>\n",
       "      <td>0</td>\n",
       "      <td>0</td>\n",
       "      <td>0</td>\n",
       "      <td>0</td>\n",
       "      <td>0</td>\n",
       "      <td>0</td>\n",
       "      <td>0</td>\n",
       "      <td>0</td>\n",
       "      <td>0</td>\n",
       "      <td>0</td>\n",
       "      <td>...</td>\n",
       "      <td>0</td>\n",
       "      <td>0</td>\n",
       "      <td>0</td>\n",
       "      <td>0</td>\n",
       "      <td>0</td>\n",
       "      <td>0</td>\n",
       "      <td>0</td>\n",
       "      <td>0</td>\n",
       "      <td>0</td>\n",
       "      <td>0</td>\n",
       "    </tr>\n",
       "    <tr>\n",
       "      <th>almond</th>\n",
       "      <td>0</td>\n",
       "      <td>0</td>\n",
       "      <td>0</td>\n",
       "      <td>0</td>\n",
       "      <td>0</td>\n",
       "      <td>0</td>\n",
       "      <td>0</td>\n",
       "      <td>0</td>\n",
       "      <td>0</td>\n",
       "      <td>0</td>\n",
       "      <td>...</td>\n",
       "      <td>0</td>\n",
       "      <td>0</td>\n",
       "      <td>0</td>\n",
       "      <td>0</td>\n",
       "      <td>0</td>\n",
       "      <td>0</td>\n",
       "      <td>0</td>\n",
       "      <td>0</td>\n",
       "      <td>0</td>\n",
       "      <td>0</td>\n",
       "    </tr>\n",
       "    <tr>\n",
       "      <th>amaretto</th>\n",
       "      <td>0</td>\n",
       "      <td>0</td>\n",
       "      <td>0</td>\n",
       "      <td>0</td>\n",
       "      <td>0</td>\n",
       "      <td>0</td>\n",
       "      <td>0</td>\n",
       "      <td>0</td>\n",
       "      <td>0</td>\n",
       "      <td>0</td>\n",
       "      <td>...</td>\n",
       "      <td>0</td>\n",
       "      <td>0</td>\n",
       "      <td>0</td>\n",
       "      <td>0</td>\n",
       "      <td>0</td>\n",
       "      <td>0</td>\n",
       "      <td>0</td>\n",
       "      <td>0</td>\n",
       "      <td>0</td>\n",
       "      <td>0</td>\n",
       "    </tr>\n",
       "    <tr>\n",
       "      <th>...</th>\n",
       "      <td>...</td>\n",
       "      <td>...</td>\n",
       "      <td>...</td>\n",
       "      <td>...</td>\n",
       "      <td>...</td>\n",
       "      <td>...</td>\n",
       "      <td>...</td>\n",
       "      <td>...</td>\n",
       "      <td>...</td>\n",
       "      <td>...</td>\n",
       "      <td>...</td>\n",
       "      <td>...</td>\n",
       "      <td>...</td>\n",
       "      <td>...</td>\n",
       "      <td>...</td>\n",
       "      <td>...</td>\n",
       "      <td>...</td>\n",
       "      <td>...</td>\n",
       "      <td>...</td>\n",
       "      <td>...</td>\n",
       "      <td>...</td>\n",
       "    </tr>\n",
       "    <tr>\n",
       "      <th>cookbooks</th>\n",
       "      <td>0</td>\n",
       "      <td>0</td>\n",
       "      <td>0</td>\n",
       "      <td>0</td>\n",
       "      <td>0</td>\n",
       "      <td>0</td>\n",
       "      <td>0</td>\n",
       "      <td>0</td>\n",
       "      <td>0</td>\n",
       "      <td>0</td>\n",
       "      <td>...</td>\n",
       "      <td>0</td>\n",
       "      <td>0</td>\n",
       "      <td>0</td>\n",
       "      <td>0</td>\n",
       "      <td>0</td>\n",
       "      <td>0</td>\n",
       "      <td>0</td>\n",
       "      <td>0</td>\n",
       "      <td>0</td>\n",
       "      <td>0</td>\n",
       "    </tr>\n",
       "    <tr>\n",
       "      <th>leftovers</th>\n",
       "      <td>0</td>\n",
       "      <td>0</td>\n",
       "      <td>0</td>\n",
       "      <td>0</td>\n",
       "      <td>0</td>\n",
       "      <td>0</td>\n",
       "      <td>0</td>\n",
       "      <td>0</td>\n",
       "      <td>0</td>\n",
       "      <td>0</td>\n",
       "      <td>...</td>\n",
       "      <td>0</td>\n",
       "      <td>0</td>\n",
       "      <td>0</td>\n",
       "      <td>0</td>\n",
       "      <td>0</td>\n",
       "      <td>0</td>\n",
       "      <td>0</td>\n",
       "      <td>0</td>\n",
       "      <td>0</td>\n",
       "      <td>0</td>\n",
       "    </tr>\n",
       "    <tr>\n",
       "      <th>snack</th>\n",
       "      <td>0</td>\n",
       "      <td>0</td>\n",
       "      <td>0</td>\n",
       "      <td>0</td>\n",
       "      <td>0</td>\n",
       "      <td>0</td>\n",
       "      <td>0</td>\n",
       "      <td>0</td>\n",
       "      <td>0</td>\n",
       "      <td>0</td>\n",
       "      <td>...</td>\n",
       "      <td>0</td>\n",
       "      <td>0</td>\n",
       "      <td>0</td>\n",
       "      <td>0</td>\n",
       "      <td>0</td>\n",
       "      <td>0</td>\n",
       "      <td>0</td>\n",
       "      <td>0</td>\n",
       "      <td>0</td>\n",
       "      <td>0</td>\n",
       "    </tr>\n",
       "    <tr>\n",
       "      <th>snack week</th>\n",
       "      <td>0</td>\n",
       "      <td>0</td>\n",
       "      <td>0</td>\n",
       "      <td>0</td>\n",
       "      <td>0</td>\n",
       "      <td>0</td>\n",
       "      <td>0</td>\n",
       "      <td>0</td>\n",
       "      <td>0</td>\n",
       "      <td>0</td>\n",
       "      <td>...</td>\n",
       "      <td>0</td>\n",
       "      <td>0</td>\n",
       "      <td>0</td>\n",
       "      <td>0</td>\n",
       "      <td>0</td>\n",
       "      <td>0</td>\n",
       "      <td>0</td>\n",
       "      <td>0</td>\n",
       "      <td>0</td>\n",
       "      <td>0</td>\n",
       "    </tr>\n",
       "    <tr>\n",
       "      <th>turkey</th>\n",
       "      <td>0</td>\n",
       "      <td>0</td>\n",
       "      <td>0</td>\n",
       "      <td>0</td>\n",
       "      <td>0</td>\n",
       "      <td>0</td>\n",
       "      <td>0</td>\n",
       "      <td>0</td>\n",
       "      <td>0</td>\n",
       "      <td>0</td>\n",
       "      <td>...</td>\n",
       "      <td>0</td>\n",
       "      <td>0</td>\n",
       "      <td>0</td>\n",
       "      <td>0</td>\n",
       "      <td>0</td>\n",
       "      <td>0</td>\n",
       "      <td>0</td>\n",
       "      <td>0</td>\n",
       "      <td>0</td>\n",
       "      <td>0</td>\n",
       "    </tr>\n",
       "  </tbody>\n",
       "</table>\n",
       "<p>668 rows × 35 columns</p>\n",
       "</div>"
      ],
      "text/plain": [
       "            Fat  Saturated fat  Cholesterol  Total \\ncarbohydrates  Sodium  \\\n",
       "alabama       0              0            0                      0       0   \n",
       "alaska        0              0            0                      0       0   \n",
       "alcoholic     0              0            0                      0       0   \n",
       "almond        0              0            0                      0       0   \n",
       "amaretto      0              0            0                      0       0   \n",
       "...         ...            ...          ...                    ...     ...   \n",
       "cookbooks     0              0            0                      0       0   \n",
       "leftovers     0              0            0                      0       0   \n",
       "snack         0              0            0                      0       0   \n",
       "snack week    0              0            0                      0       0   \n",
       "turkey        0              0            0                      0       0   \n",
       "\n",
       "            Dietary Fiber  Protein  Added sugars  Vitamin A  Vitamin C  ...  \\\n",
       "alabama                 0        0             0          0          0  ...   \n",
       "alaska                  0        0             0          0          0  ...   \n",
       "alcoholic               0        0             0          0          0  ...   \n",
       "almond                  0        0             0          0          0  ...   \n",
       "amaretto                0        0             0          0          0  ...   \n",
       "...                   ...      ...           ...        ...        ...  ...   \n",
       "cookbooks               0        0             0          0          0  ...   \n",
       "leftovers               0        0             0          0          0  ...   \n",
       "snack                   0        0             0          0          0  ...   \n",
       "snack week              0        0             0          0          0  ...   \n",
       "turkey                  0        0             0          0          0  ...   \n",
       "\n",
       "            Magnesium  Zinc  Selenium  Copper  Manganese  Chromium  \\\n",
       "alabama             0     0         0       0          0         0   \n",
       "alaska              0     0         0       0          0         0   \n",
       "alcoholic           0     0         0       0          0         0   \n",
       "almond              0     0         0       0          0         0   \n",
       "amaretto            0     0         0       0          0         0   \n",
       "...               ...   ...       ...     ...        ...       ...   \n",
       "cookbooks           0     0         0       0          0         0   \n",
       "leftovers           0     0         0       0          0         0   \n",
       "snack               0     0         0       0          0         0   \n",
       "snack week          0     0         0       0          0         0   \n",
       "turkey              0     0         0       0          0         0   \n",
       "\n",
       "            Molybdenum  Chloride  Potassium  Choline  \n",
       "alabama              0         0          0        0  \n",
       "alaska               0         0          0        0  \n",
       "alcoholic            0         0          0        0  \n",
       "almond               0         0          0        0  \n",
       "amaretto             0         0          0        0  \n",
       "...                ...       ...        ...      ...  \n",
       "cookbooks            0         0          0        0  \n",
       "leftovers            0         0          0        0  \n",
       "snack                0         0          0        0  \n",
       "snack week           0         0          0        0  \n",
       "turkey               0         0          0        0  \n",
       "\n",
       "[668 rows x 35 columns]"
      ]
     },
     "execution_count": 64,
     "metadata": {},
     "output_type": "execute_result"
    }
   ],
   "source": [
    "d"
   ]
  },
  {
   "cell_type": "code",
   "execution_count": 65,
   "metadata": {},
   "outputs": [
    {
     "data": {
      "text/plain": [
       "['persian new year', 'cranberry sauce', 'bacon', 'buffet', 'radicchio']"
      ]
     },
     "execution_count": 65,
     "metadata": {},
     "output_type": "execute_result"
    }
   ],
   "source": [
    "import random\n",
    "random_index = random.sample(list(d.index),5)\n",
    "random_index"
   ]
  },
  {
   "cell_type": "code",
   "execution_count": 66,
   "metadata": {},
   "outputs": [
    {
     "name": "stdout",
     "output_type": "stream",
     "text": [
      "Other error occurred: ('Connection aborted.', TimeoutError(60, 'Operation timed out'))\n"
     ]
    }
   ],
   "source": [
    "ingrid = random_index\n",
    "s = NutritionFacts(ingrid)\n",
    "for i in ingrid:\n",
    "    daily_value = s.daily_value(s.get_must_nutrients(), i, 100)\n",
    "    if (daily_value == 0): continue\n",
    "    for k,v in daily_value.items():\n",
    "        d.loc[i, k] = v"
   ]
  },
  {
   "cell_type": "code",
   "execution_count": 67,
   "metadata": {},
   "outputs": [
    {
     "data": {
      "text/html": [
       "<div>\n",
       "<style scoped>\n",
       "    .dataframe tbody tr th:only-of-type {\n",
       "        vertical-align: middle;\n",
       "    }\n",
       "\n",
       "    .dataframe tbody tr th {\n",
       "        vertical-align: top;\n",
       "    }\n",
       "\n",
       "    .dataframe thead th {\n",
       "        text-align: right;\n",
       "    }\n",
       "</style>\n",
       "<table border=\"1\" class=\"dataframe\">\n",
       "  <thead>\n",
       "    <tr style=\"text-align: right;\">\n",
       "      <th></th>\n",
       "      <th>Fat</th>\n",
       "      <th>Saturated fat</th>\n",
       "      <th>Cholesterol</th>\n",
       "      <th>Total \\ncarbohydrates</th>\n",
       "      <th>Sodium</th>\n",
       "      <th>Dietary Fiber</th>\n",
       "      <th>Protein</th>\n",
       "      <th>Added sugars</th>\n",
       "      <th>Vitamin A</th>\n",
       "      <th>Vitamin C</th>\n",
       "      <th>...</th>\n",
       "      <th>Manganese, Mn</th>\n",
       "      <th>Magnesium, Mg</th>\n",
       "      <th>Zinc, Zn</th>\n",
       "      <th>Iron, Fe</th>\n",
       "      <th>Phosphorus, P</th>\n",
       "      <th>Choline, total</th>\n",
       "      <th>Calcium, Ca</th>\n",
       "      <th>Selenium, Se</th>\n",
       "      <th>Sodium, Na</th>\n",
       "      <th>Vitamin E, added</th>\n",
       "    </tr>\n",
       "  </thead>\n",
       "  <tbody>\n",
       "    <tr>\n",
       "      <th>persian new year</th>\n",
       "      <td>0</td>\n",
       "      <td>0</td>\n",
       "      <td>0</td>\n",
       "      <td>0</td>\n",
       "      <td>0</td>\n",
       "      <td>0</td>\n",
       "      <td>1</td>\n",
       "      <td>0</td>\n",
       "      <td>0</td>\n",
       "      <td>0</td>\n",
       "      <td>...</td>\n",
       "      <td>5.0</td>\n",
       "      <td>3.0</td>\n",
       "      <td>2.0</td>\n",
       "      <td>2.0</td>\n",
       "      <td>2.0</td>\n",
       "      <td>1.0</td>\n",
       "      <td>1.0</td>\n",
       "      <td>0.0</td>\n",
       "      <td>0.0</td>\n",
       "      <td>0.0</td>\n",
       "    </tr>\n",
       "    <tr>\n",
       "      <th>cranberry sauce</th>\n",
       "      <td>0</td>\n",
       "      <td>0</td>\n",
       "      <td>0</td>\n",
       "      <td>0</td>\n",
       "      <td>0</td>\n",
       "      <td>0</td>\n",
       "      <td>1</td>\n",
       "      <td>0</td>\n",
       "      <td>0</td>\n",
       "      <td>0</td>\n",
       "      <td>...</td>\n",
       "      <td>NaN</td>\n",
       "      <td>0.0</td>\n",
       "      <td>0.0</td>\n",
       "      <td>2.0</td>\n",
       "      <td>0.0</td>\n",
       "      <td>1.0</td>\n",
       "      <td>0.0</td>\n",
       "      <td>1.0</td>\n",
       "      <td>0.0</td>\n",
       "      <td>0.0</td>\n",
       "    </tr>\n",
       "    <tr>\n",
       "      <th>bacon</th>\n",
       "      <td>0</td>\n",
       "      <td>0</td>\n",
       "      <td>0</td>\n",
       "      <td>0</td>\n",
       "      <td>0</td>\n",
       "      <td>0</td>\n",
       "      <td>0</td>\n",
       "      <td>0</td>\n",
       "      <td>0</td>\n",
       "      <td>0</td>\n",
       "      <td>...</td>\n",
       "      <td>NaN</td>\n",
       "      <td>NaN</td>\n",
       "      <td>NaN</td>\n",
       "      <td>NaN</td>\n",
       "      <td>NaN</td>\n",
       "      <td>NaN</td>\n",
       "      <td>NaN</td>\n",
       "      <td>NaN</td>\n",
       "      <td>NaN</td>\n",
       "      <td>NaN</td>\n",
       "    </tr>\n",
       "    <tr>\n",
       "      <th>buffet</th>\n",
       "      <td>0</td>\n",
       "      <td>0</td>\n",
       "      <td>24</td>\n",
       "      <td>0</td>\n",
       "      <td>0</td>\n",
       "      <td>0</td>\n",
       "      <td>16</td>\n",
       "      <td>0</td>\n",
       "      <td>0</td>\n",
       "      <td>0</td>\n",
       "      <td>...</td>\n",
       "      <td>NaN</td>\n",
       "      <td>NaN</td>\n",
       "      <td>NaN</td>\n",
       "      <td>18.0</td>\n",
       "      <td>NaN</td>\n",
       "      <td>NaN</td>\n",
       "      <td>2.0</td>\n",
       "      <td>NaN</td>\n",
       "      <td>30.0</td>\n",
       "      <td>NaN</td>\n",
       "    </tr>\n",
       "    <tr>\n",
       "      <th>radicchio</th>\n",
       "      <td>0</td>\n",
       "      <td>0</td>\n",
       "      <td>0</td>\n",
       "      <td>0</td>\n",
       "      <td>0</td>\n",
       "      <td>0</td>\n",
       "      <td>1</td>\n",
       "      <td>0</td>\n",
       "      <td>0</td>\n",
       "      <td>0</td>\n",
       "      <td>...</td>\n",
       "      <td>0.0</td>\n",
       "      <td>3.0</td>\n",
       "      <td>8.0</td>\n",
       "      <td>2.0</td>\n",
       "      <td>4.0</td>\n",
       "      <td>NaN</td>\n",
       "      <td>2.0</td>\n",
       "      <td>NaN</td>\n",
       "      <td>2.0</td>\n",
       "      <td>NaN</td>\n",
       "    </tr>\n",
       "  </tbody>\n",
       "</table>\n",
       "<p>5 rows × 50 columns</p>\n",
       "</div>"
      ],
      "text/plain": [
       "                  Fat  Saturated fat  Cholesterol  Total \\ncarbohydrates  \\\n",
       "persian new year    0              0            0                      0   \n",
       "cranberry sauce     0              0            0                      0   \n",
       "bacon               0              0            0                      0   \n",
       "buffet              0              0           24                      0   \n",
       "radicchio           0              0            0                      0   \n",
       "\n",
       "                  Sodium  Dietary Fiber  Protein  Added sugars  Vitamin A  \\\n",
       "persian new year       0              0        1             0          0   \n",
       "cranberry sauce        0              0        1             0          0   \n",
       "bacon                  0              0        0             0          0   \n",
       "buffet                 0              0       16             0          0   \n",
       "radicchio              0              0        1             0          0   \n",
       "\n",
       "                  Vitamin C  ...  Manganese, Mn  Magnesium, Mg  Zinc, Zn  \\\n",
       "persian new year          0  ...            5.0            3.0       2.0   \n",
       "cranberry sauce           0  ...            NaN            0.0       0.0   \n",
       "bacon                     0  ...            NaN            NaN       NaN   \n",
       "buffet                    0  ...            NaN            NaN       NaN   \n",
       "radicchio                 0  ...            0.0            3.0       8.0   \n",
       "\n",
       "                  Iron, Fe  Phosphorus, P  Choline, total  Calcium, Ca  \\\n",
       "persian new year       2.0            2.0             1.0          1.0   \n",
       "cranberry sauce        2.0            0.0             1.0          0.0   \n",
       "bacon                  NaN            NaN             NaN          NaN   \n",
       "buffet                18.0            NaN             NaN          2.0   \n",
       "radicchio              2.0            4.0             NaN          2.0   \n",
       "\n",
       "                  Selenium, Se  Sodium, Na  Vitamin E, added  \n",
       "persian new year           0.0         0.0               0.0  \n",
       "cranberry sauce            1.0         0.0               0.0  \n",
       "bacon                      NaN         NaN               NaN  \n",
       "buffet                     NaN        30.0               NaN  \n",
       "radicchio                  NaN         2.0               NaN  \n",
       "\n",
       "[5 rows x 50 columns]"
      ]
     },
     "execution_count": 67,
     "metadata": {},
     "output_type": "execute_result"
    }
   ],
   "source": [
    "d.iloc[[list(d.index).index(i) for i in random_index]]"
   ]
  },
  {
   "cell_type": "code",
   "execution_count": 78,
   "metadata": {},
   "outputs": [],
   "source": [
    "to_save = d.iloc[[list(d.index).index(i) for i in random_index]]"
   ]
  },
  {
   "cell_type": "code",
   "execution_count": 79,
   "metadata": {},
   "outputs": [],
   "source": [
    "to_save.to_csv('Nutrition_Facts.csv') "
   ]
  },
  {
   "cell_type": "markdown",
   "metadata": {},
   "source": [
    "# Similar Recipes"
   ]
  },
  {
   "cell_type": "code",
   "execution_count": 2,
   "metadata": {},
   "outputs": [],
   "source": [
    "ingrid = ['Milk', 'Honey', 'Yogurt']\n",
    "s = SimilarRecipes(ingrid)\n",
    "new_df=s.find_all()"
   ]
  },
  {
   "cell_type": "code",
   "execution_count": null,
   "metadata": {},
   "outputs": [],
   "source": [
    "new_df"
   ]
  },
  {
   "cell_type": "code",
   "execution_count": 8,
   "metadata": {},
   "outputs": [],
   "source": [
    "new_df.to_csv('Similar_Recipes.csv')"
   ]
  },
  {
   "cell_type": "markdown",
   "metadata": {},
   "source": [
    "# BONUS"
   ]
  },
  {
   "cell_type": "code",
   "execution_count": 56,
   "metadata": {},
   "outputs": [],
   "source": [
    "#выбираем ингридиенты\n"
   ]
  },
  {
   "cell_type": "code",
   "execution_count": 57,
   "metadata": {},
   "outputs": [],
   "source": [
    "df_ingr_bonus = pd.read_csv(\"Nutrition_Facts.csv\", index_col = 0)"
   ]
  },
  {
   "cell_type": "code",
   "execution_count": 58,
   "metadata": {},
   "outputs": [
    {
     "data": {
      "text/html": [
       "<div>\n",
       "<style scoped>\n",
       "    .dataframe tbody tr th:only-of-type {\n",
       "        vertical-align: middle;\n",
       "    }\n",
       "\n",
       "    .dataframe tbody tr th {\n",
       "        vertical-align: top;\n",
       "    }\n",
       "\n",
       "    .dataframe thead th {\n",
       "        text-align: right;\n",
       "    }\n",
       "</style>\n",
       "<table border=\"1\" class=\"dataframe\">\n",
       "  <thead>\n",
       "    <tr style=\"text-align: right;\">\n",
       "      <th></th>\n",
       "      <th>Fat</th>\n",
       "      <th>Saturated fat</th>\n",
       "      <th>Cholesterol</th>\n",
       "      <th>Total \\ncarbohydrates</th>\n",
       "      <th>Sodium</th>\n",
       "      <th>Dietary Fiber</th>\n",
       "      <th>Protein</th>\n",
       "      <th>Added sugars</th>\n",
       "      <th>Vitamin A</th>\n",
       "      <th>Vitamin C</th>\n",
       "      <th>...</th>\n",
       "      <th>Manganese, Mn</th>\n",
       "      <th>Magnesium, Mg</th>\n",
       "      <th>Zinc, Zn</th>\n",
       "      <th>Iron, Fe</th>\n",
       "      <th>Phosphorus, P</th>\n",
       "      <th>Choline, total</th>\n",
       "      <th>Calcium, Ca</th>\n",
       "      <th>Selenium, Se</th>\n",
       "      <th>Sodium, Na</th>\n",
       "      <th>Vitamin E, added</th>\n",
       "    </tr>\n",
       "  </thead>\n",
       "  <tbody>\n",
       "    <tr>\n",
       "      <th>persian new year</th>\n",
       "      <td>0</td>\n",
       "      <td>0</td>\n",
       "      <td>0</td>\n",
       "      <td>0</td>\n",
       "      <td>0</td>\n",
       "      <td>0</td>\n",
       "      <td>1</td>\n",
       "      <td>0</td>\n",
       "      <td>0</td>\n",
       "      <td>0</td>\n",
       "      <td>...</td>\n",
       "      <td>5.0</td>\n",
       "      <td>3.0</td>\n",
       "      <td>2.0</td>\n",
       "      <td>2.0</td>\n",
       "      <td>2.0</td>\n",
       "      <td>1.0</td>\n",
       "      <td>1.0</td>\n",
       "      <td>0.0</td>\n",
       "      <td>0.0</td>\n",
       "      <td>0.0</td>\n",
       "    </tr>\n",
       "    <tr>\n",
       "      <th>cranberry sauce</th>\n",
       "      <td>0</td>\n",
       "      <td>0</td>\n",
       "      <td>0</td>\n",
       "      <td>0</td>\n",
       "      <td>0</td>\n",
       "      <td>0</td>\n",
       "      <td>1</td>\n",
       "      <td>0</td>\n",
       "      <td>0</td>\n",
       "      <td>0</td>\n",
       "      <td>...</td>\n",
       "      <td>NaN</td>\n",
       "      <td>0.0</td>\n",
       "      <td>0.0</td>\n",
       "      <td>2.0</td>\n",
       "      <td>0.0</td>\n",
       "      <td>1.0</td>\n",
       "      <td>0.0</td>\n",
       "      <td>1.0</td>\n",
       "      <td>0.0</td>\n",
       "      <td>0.0</td>\n",
       "    </tr>\n",
       "    <tr>\n",
       "      <th>bacon</th>\n",
       "      <td>0</td>\n",
       "      <td>0</td>\n",
       "      <td>0</td>\n",
       "      <td>0</td>\n",
       "      <td>0</td>\n",
       "      <td>0</td>\n",
       "      <td>0</td>\n",
       "      <td>0</td>\n",
       "      <td>0</td>\n",
       "      <td>0</td>\n",
       "      <td>...</td>\n",
       "      <td>NaN</td>\n",
       "      <td>NaN</td>\n",
       "      <td>NaN</td>\n",
       "      <td>NaN</td>\n",
       "      <td>NaN</td>\n",
       "      <td>NaN</td>\n",
       "      <td>NaN</td>\n",
       "      <td>NaN</td>\n",
       "      <td>NaN</td>\n",
       "      <td>NaN</td>\n",
       "    </tr>\n",
       "    <tr>\n",
       "      <th>buffet</th>\n",
       "      <td>0</td>\n",
       "      <td>0</td>\n",
       "      <td>24</td>\n",
       "      <td>0</td>\n",
       "      <td>0</td>\n",
       "      <td>0</td>\n",
       "      <td>16</td>\n",
       "      <td>0</td>\n",
       "      <td>0</td>\n",
       "      <td>0</td>\n",
       "      <td>...</td>\n",
       "      <td>NaN</td>\n",
       "      <td>NaN</td>\n",
       "      <td>NaN</td>\n",
       "      <td>18.0</td>\n",
       "      <td>NaN</td>\n",
       "      <td>NaN</td>\n",
       "      <td>2.0</td>\n",
       "      <td>NaN</td>\n",
       "      <td>30.0</td>\n",
       "      <td>NaN</td>\n",
       "    </tr>\n",
       "    <tr>\n",
       "      <th>radicchio</th>\n",
       "      <td>0</td>\n",
       "      <td>0</td>\n",
       "      <td>0</td>\n",
       "      <td>0</td>\n",
       "      <td>0</td>\n",
       "      <td>0</td>\n",
       "      <td>1</td>\n",
       "      <td>0</td>\n",
       "      <td>0</td>\n",
       "      <td>0</td>\n",
       "      <td>...</td>\n",
       "      <td>0.0</td>\n",
       "      <td>3.0</td>\n",
       "      <td>8.0</td>\n",
       "      <td>2.0</td>\n",
       "      <td>4.0</td>\n",
       "      <td>NaN</td>\n",
       "      <td>2.0</td>\n",
       "      <td>NaN</td>\n",
       "      <td>2.0</td>\n",
       "      <td>NaN</td>\n",
       "    </tr>\n",
       "  </tbody>\n",
       "</table>\n",
       "<p>5 rows × 50 columns</p>\n",
       "</div>"
      ],
      "text/plain": [
       "                  Fat  Saturated fat  Cholesterol  Total \\ncarbohydrates  \\\n",
       "persian new year    0              0            0                      0   \n",
       "cranberry sauce     0              0            0                      0   \n",
       "bacon               0              0            0                      0   \n",
       "buffet              0              0           24                      0   \n",
       "radicchio           0              0            0                      0   \n",
       "\n",
       "                  Sodium  Dietary Fiber  Protein  Added sugars  Vitamin A  \\\n",
       "persian new year       0              0        1             0          0   \n",
       "cranberry sauce        0              0        1             0          0   \n",
       "bacon                  0              0        0             0          0   \n",
       "buffet                 0              0       16             0          0   \n",
       "radicchio              0              0        1             0          0   \n",
       "\n",
       "                  Vitamin C  ...  Manganese, Mn  Magnesium, Mg  Zinc, Zn  \\\n",
       "persian new year          0  ...            5.0            3.0       2.0   \n",
       "cranberry sauce           0  ...            NaN            0.0       0.0   \n",
       "bacon                     0  ...            NaN            NaN       NaN   \n",
       "buffet                    0  ...            NaN            NaN       NaN   \n",
       "radicchio                 0  ...            0.0            3.0       8.0   \n",
       "\n",
       "                  Iron, Fe  Phosphorus, P  Choline, total  Calcium, Ca  \\\n",
       "persian new year       2.0            2.0             1.0          1.0   \n",
       "cranberry sauce        2.0            0.0             1.0          0.0   \n",
       "bacon                  NaN            NaN             NaN          NaN   \n",
       "buffet                18.0            NaN             NaN          2.0   \n",
       "radicchio              2.0            4.0             NaN          2.0   \n",
       "\n",
       "                  Selenium, Se  Sodium, Na  Vitamin E, added  \n",
       "persian new year           0.0         0.0               0.0  \n",
       "cranberry sauce            1.0         0.0               0.0  \n",
       "bacon                      NaN         NaN               NaN  \n",
       "buffet                     NaN        30.0               NaN  \n",
       "radicchio                  NaN         2.0               NaN  \n",
       "\n",
       "[5 rows x 50 columns]"
      ]
     },
     "execution_count": 58,
     "metadata": {},
     "output_type": "execute_result"
    }
   ],
   "source": [
    "df_ingr_bonus"
   ]
  },
  {
   "cell_type": "code",
   "execution_count": 59,
   "metadata": {},
   "outputs": [
    {
     "data": {
      "text/html": [
       "<div>\n",
       "<style scoped>\n",
       "    .dataframe tbody tr th:only-of-type {\n",
       "        vertical-align: middle;\n",
       "    }\n",
       "\n",
       "    .dataframe tbody tr th {\n",
       "        vertical-align: top;\n",
       "    }\n",
       "\n",
       "    .dataframe thead th {\n",
       "        text-align: right;\n",
       "    }\n",
       "</style>\n",
       "<table border=\"1\" class=\"dataframe\">\n",
       "  <thead>\n",
       "    <tr style=\"text-align: right;\">\n",
       "      <th></th>\n",
       "      <th>Cholesterol</th>\n",
       "      <th>Protein</th>\n",
       "      <th>Thiamin</th>\n",
       "      <th>Riboflavin</th>\n",
       "      <th>Niacin</th>\n",
       "      <th>Pantothenic acid</th>\n",
       "      <th>Vitamin A, IU</th>\n",
       "      <th>Vitamin C, total ascorbic acid</th>\n",
       "      <th>Copper, Cu</th>\n",
       "      <th>Vitamin A, RAE</th>\n",
       "      <th>...</th>\n",
       "      <th>Manganese, Mn</th>\n",
       "      <th>Magnesium, Mg</th>\n",
       "      <th>Zinc, Zn</th>\n",
       "      <th>Iron, Fe</th>\n",
       "      <th>Phosphorus, P</th>\n",
       "      <th>Choline, total</th>\n",
       "      <th>Calcium, Ca</th>\n",
       "      <th>Selenium, Se</th>\n",
       "      <th>Sodium, Na</th>\n",
       "      <th>Vitamin E, added</th>\n",
       "    </tr>\n",
       "  </thead>\n",
       "  <tbody>\n",
       "    <tr>\n",
       "      <th>persian new year</th>\n",
       "      <td>0</td>\n",
       "      <td>1</td>\n",
       "      <td>3</td>\n",
       "      <td>1</td>\n",
       "      <td>4</td>\n",
       "      <td>2</td>\n",
       "      <td>93.0</td>\n",
       "      <td>15.0</td>\n",
       "      <td>7.0</td>\n",
       "      <td>5.0</td>\n",
       "      <td>...</td>\n",
       "      <td>5.0</td>\n",
       "      <td>3.0</td>\n",
       "      <td>2.0</td>\n",
       "      <td>2.0</td>\n",
       "      <td>2.0</td>\n",
       "      <td>1.0</td>\n",
       "      <td>1.0</td>\n",
       "      <td>0.0</td>\n",
       "      <td>0.0</td>\n",
       "      <td>0.0</td>\n",
       "    </tr>\n",
       "    <tr>\n",
       "      <th>cranberry sauce</th>\n",
       "      <td>0</td>\n",
       "      <td>1</td>\n",
       "      <td>1</td>\n",
       "      <td>2</td>\n",
       "      <td>1</td>\n",
       "      <td>0</td>\n",
       "      <td>NaN</td>\n",
       "      <td>1.0</td>\n",
       "      <td>3.0</td>\n",
       "      <td>0.0</td>\n",
       "      <td>...</td>\n",
       "      <td>NaN</td>\n",
       "      <td>0.0</td>\n",
       "      <td>0.0</td>\n",
       "      <td>2.0</td>\n",
       "      <td>0.0</td>\n",
       "      <td>1.0</td>\n",
       "      <td>0.0</td>\n",
       "      <td>1.0</td>\n",
       "      <td>0.0</td>\n",
       "      <td>0.0</td>\n",
       "    </tr>\n",
       "    <tr>\n",
       "      <th>bacon</th>\n",
       "      <td>0</td>\n",
       "      <td>0</td>\n",
       "      <td>0</td>\n",
       "      <td>0</td>\n",
       "      <td>0</td>\n",
       "      <td>0</td>\n",
       "      <td>NaN</td>\n",
       "      <td>NaN</td>\n",
       "      <td>NaN</td>\n",
       "      <td>NaN</td>\n",
       "      <td>...</td>\n",
       "      <td>NaN</td>\n",
       "      <td>NaN</td>\n",
       "      <td>NaN</td>\n",
       "      <td>NaN</td>\n",
       "      <td>NaN</td>\n",
       "      <td>NaN</td>\n",
       "      <td>NaN</td>\n",
       "      <td>NaN</td>\n",
       "      <td>NaN</td>\n",
       "      <td>NaN</td>\n",
       "    </tr>\n",
       "    <tr>\n",
       "      <th>buffet</th>\n",
       "      <td>24</td>\n",
       "      <td>16</td>\n",
       "      <td>0</td>\n",
       "      <td>0</td>\n",
       "      <td>0</td>\n",
       "      <td>0</td>\n",
       "      <td>0.0</td>\n",
       "      <td>8.0</td>\n",
       "      <td>NaN</td>\n",
       "      <td>NaN</td>\n",
       "      <td>...</td>\n",
       "      <td>NaN</td>\n",
       "      <td>NaN</td>\n",
       "      <td>NaN</td>\n",
       "      <td>18.0</td>\n",
       "      <td>NaN</td>\n",
       "      <td>NaN</td>\n",
       "      <td>2.0</td>\n",
       "      <td>NaN</td>\n",
       "      <td>30.0</td>\n",
       "      <td>NaN</td>\n",
       "    </tr>\n",
       "    <tr>\n",
       "      <th>radicchio</th>\n",
       "      <td>0</td>\n",
       "      <td>1</td>\n",
       "      <td>0</td>\n",
       "      <td>0</td>\n",
       "      <td>0</td>\n",
       "      <td>0</td>\n",
       "      <td>0.0</td>\n",
       "      <td>7.0</td>\n",
       "      <td>84.0</td>\n",
       "      <td>NaN</td>\n",
       "      <td>...</td>\n",
       "      <td>0.0</td>\n",
       "      <td>3.0</td>\n",
       "      <td>8.0</td>\n",
       "      <td>2.0</td>\n",
       "      <td>4.0</td>\n",
       "      <td>NaN</td>\n",
       "      <td>2.0</td>\n",
       "      <td>NaN</td>\n",
       "      <td>2.0</td>\n",
       "      <td>NaN</td>\n",
       "    </tr>\n",
       "  </tbody>\n",
       "</table>\n",
       "<p>5 rows × 21 columns</p>\n",
       "</div>"
      ],
      "text/plain": [
       "                  Cholesterol  Protein  Thiamin  Riboflavin  Niacin  \\\n",
       "persian new year            0        1        3           1       4   \n",
       "cranberry sauce             0        1        1           2       1   \n",
       "bacon                       0        0        0           0       0   \n",
       "buffet                     24       16        0           0       0   \n",
       "radicchio                   0        1        0           0       0   \n",
       "\n",
       "                  Pantothenic acid  Vitamin A, IU  \\\n",
       "persian new year                 2           93.0   \n",
       "cranberry sauce                  0            NaN   \n",
       "bacon                            0            NaN   \n",
       "buffet                           0            0.0   \n",
       "radicchio                        0            0.0   \n",
       "\n",
       "                  Vitamin C, total ascorbic acid  Copper, Cu  Vitamin A, RAE  \\\n",
       "persian new year                            15.0         7.0             5.0   \n",
       "cranberry sauce                              1.0         3.0             0.0   \n",
       "bacon                                        NaN         NaN             NaN   \n",
       "buffet                                       8.0         NaN             NaN   \n",
       "radicchio                                    7.0        84.0             NaN   \n",
       "\n",
       "                  ...  Manganese, Mn  Magnesium, Mg  Zinc, Zn  Iron, Fe  \\\n",
       "persian new year  ...            5.0            3.0       2.0       2.0   \n",
       "cranberry sauce   ...            NaN            0.0       0.0       2.0   \n",
       "bacon             ...            NaN            NaN       NaN       NaN   \n",
       "buffet            ...            NaN            NaN       NaN      18.0   \n",
       "radicchio         ...            0.0            3.0       8.0       2.0   \n",
       "\n",
       "                  Phosphorus, P  Choline, total  Calcium, Ca  Selenium, Se  \\\n",
       "persian new year            2.0             1.0          1.0           0.0   \n",
       "cranberry sauce             0.0             1.0          0.0           1.0   \n",
       "bacon                       NaN             NaN          NaN           NaN   \n",
       "buffet                      NaN             NaN          2.0           NaN   \n",
       "radicchio                   4.0             NaN          2.0           NaN   \n",
       "\n",
       "                  Sodium, Na  Vitamin E, added  \n",
       "persian new year         0.0               0.0  \n",
       "cranberry sauce          0.0               0.0  \n",
       "bacon                    NaN               NaN  \n",
       "buffet                  30.0               NaN  \n",
       "radicchio                2.0               NaN  \n",
       "\n",
       "[5 rows x 21 columns]"
      ]
     },
     "execution_count": 59,
     "metadata": {},
     "output_type": "execute_result"
    }
   ],
   "source": [
    "df_ingr_bonus = df_ingr_bonus.loc[:, (df_ingr_bonus != 0).any(axis=0)]\n",
    "df_ingr_bonus"
   ]
  },
  {
   "cell_type": "code",
   "execution_count": 62,
   "metadata": {},
   "outputs": [],
   "source": [
    "df_ingr_bonus_top = df_ingr_bonus.sum(axis=1)"
   ]
  },
  {
   "cell_type": "code",
   "execution_count": 63,
   "metadata": {},
   "outputs": [],
   "source": [
    "df_ingr_bonus_top = df_ingr_bonus_top.sort_values()[::-1]"
   ]
  },
  {
   "cell_type": "code",
   "execution_count": 64,
   "metadata": {},
   "outputs": [
    {
     "data": {
      "text/plain": [
       "persian new year    152.0\n",
       "radicchio           116.0\n",
       "buffet               98.0\n",
       "cranberry sauce      14.0\n",
       "bacon                 0.0\n",
       "dtype: float64"
      ]
     },
     "execution_count": 64,
     "metadata": {},
     "output_type": "execute_result"
    }
   ],
   "source": [
    "df_ingr_bonus_top"
   ]
  },
  {
   "cell_type": "code",
   "execution_count": 65,
   "metadata": {},
   "outputs": [
    {
     "data": {
      "text/plain": [
       "'radicchio'"
      ]
     },
     "execution_count": 65,
     "metadata": {},
     "output_type": "execute_result"
    }
   ],
   "source": [
    "df_ingr_bonus_top.keys()[1]"
   ]
  },
  {
   "cell_type": "code",
   "execution_count": 66,
   "metadata": {},
   "outputs": [],
   "source": [
    "ingrid = list(df_ingr_bonus_top.keys())[0:1]\n",
    "s = SimilarRecipes(ingrid)\n",
    "new_df=s.find_all()"
   ]
  },
  {
   "cell_type": "code",
   "execution_count": 42,
   "metadata": {},
   "outputs": [],
   "source": [
    "#берем первые три блюда по рейтингу\n",
    "top_3 = new_df.ratings.sort_values()[::-1].keys()[0:3]"
   ]
  },
  {
   "cell_type": "code",
   "execution_count": 49,
   "metadata": {},
   "outputs": [
    {
     "data": {
      "text/plain": [
       "title                                   Iranian Rice Cookies\n",
       "links      https://www.epicurious.com/recipes/food/views/...\n",
       "ratings                                                    5\n",
       "Name: 3, dtype: object"
      ]
     },
     "execution_count": 49,
     "metadata": {},
     "output_type": "execute_result"
    }
   ],
   "source": [
    "new_df.iloc[3]"
   ]
  },
  {
   "cell_type": "code",
   "execution_count": 103,
   "metadata": {},
   "outputs": [],
   "source": [
    "rec1 = new_df.iloc[top_3[0]].title\n",
    "rat1 = new_df.iloc[top_3[0]].ratings\n",
    "url1 = new_df.iloc[top_3[0]].links\n",
    "\n",
    "rec2 = new_df.iloc[top_3[1]].title\n",
    "rat2 = new_df.iloc[top_3[1]].ratings\n",
    "url2 = new_df.iloc[top_3[1]].links\n",
    "\n",
    "rec3 = new_df.iloc[top_3[2]].title\n",
    "rat3 = new_df.iloc[top_3[2]].ratings\n",
    "url3 = new_df.iloc[top_3[2]].links"
   ]
  },
  {
   "cell_type": "code",
   "execution_count": 104,
   "metadata": {},
   "outputs": [],
   "source": [
    "ingr1 = ingrid\n",
    "ingr2 = ingrid\n",
    "ingr3 = ingrid"
   ]
  },
  {
   "cell_type": "code",
   "execution_count": 105,
   "metadata": {},
   "outputs": [],
   "source": [
    "nut1 = dict(zip(df_ingr_bonus.loc[ingr1].keys().tolist(), df_ingr_bonus.loc[ingr1].values[0]))\n",
    "nut2 = dict(zip(df_ingr_bonus.loc[ingr1].keys().tolist(), df_ingr_bonus.loc[ingr1].values[0]))\n",
    "nut3 = dict(zip(df_ingr_bonus.loc[ingr1].keys().tolist(), df_ingr_bonus.loc[ingr1].values[0]))"
   ]
  },
  {
   "cell_type": "code",
   "execution_count": 116,
   "metadata": {},
   "outputs": [
    {
     "name": "stdout",
     "output_type": "stream",
     "text": [
      "\n",
      " BREAKFAST\n",
      "---------------------\n",
      "Barbari Bread (Nan-e Barbari) (rating: 5)\n",
      "Ingredients: \n",
      "['persian new year']\n",
      "Nutrients:\n",
      "{'Cholesterol': 0.0, 'Protein': 1.0, 'Thiamin': 3.0, 'Riboflavin': 1.0, 'Niacin': 4.0, 'Pantothenic acid': 2.0, 'Vitamin A, IU': 93.0, 'Vitamin C, total ascorbic acid': 15.0, 'Copper, Cu': 7.0, 'Vitamin A, RAE': 5.0, 'Potassium, K': 5.0, 'Manganese, Mn': 5.0, 'Magnesium, Mg': 3.0, 'Zinc, Zn': 2.0, 'Iron, Fe': 2.0, 'Phosphorus, P': 2.0, 'Choline, total': 1.0, 'Calcium, Ca': 1.0, 'Selenium, Se': 0.0, 'Sodium, Na': 0.0, 'Vitamin E, added': 0.0}\n",
      "URL: https://www.epicurious.com/recipes/food/views/barbari-bread-nan-e-barbari\n",
      "LUNCH\n",
      "---------------------\n",
      "Iranian Rice Cookies (rating: 5)\n",
      "Ingredients: \n",
      "['persian new year']\n",
      "Nutrients:\n",
      "{'Cholesterol': 0.0, 'Protein': 1.0, 'Thiamin': 3.0, 'Riboflavin': 1.0, 'Niacin': 4.0, 'Pantothenic acid': 2.0, 'Vitamin A, IU': 93.0, 'Vitamin C, total ascorbic acid': 15.0, 'Copper, Cu': 7.0, 'Vitamin A, RAE': 5.0, 'Potassium, K': 5.0, 'Manganese, Mn': 5.0, 'Magnesium, Mg': 3.0, 'Zinc, Zn': 2.0, 'Iron, Fe': 2.0, 'Phosphorus, P': 2.0, 'Choline, total': 1.0, 'Calcium, Ca': 1.0, 'Selenium, Se': 0.0, 'Sodium, Na': 0.0, 'Vitamin E, added': 0.0}\n",
      "URL: https://www.epicurious.com/recipes/food/views/iranian-rice-cookies\n",
      "DINNER\n",
      "---------------------\n",
      "Herb Rice with Green Garlic, Saffron, and Crispy Shallots (rating: 5)\n",
      "Ingredients: \n",
      "['persian new year']\n",
      "Nutrients:\n",
      "{'Cholesterol': 0.0, 'Protein': 1.0, 'Thiamin': 3.0, 'Riboflavin': 1.0, 'Niacin': 4.0, 'Pantothenic acid': 2.0, 'Vitamin A, IU': 93.0, 'Vitamin C, total ascorbic acid': 15.0, 'Copper, Cu': 7.0, 'Vitamin A, RAE': 5.0, 'Potassium, K': 5.0, 'Manganese, Mn': 5.0, 'Magnesium, Mg': 3.0, 'Zinc, Zn': 2.0, 'Iron, Fe': 2.0, 'Phosphorus, P': 2.0, 'Choline, total': 1.0, 'Calcium, Ca': 1.0, 'Selenium, Se': 0.0, 'Sodium, Na': 0.0, 'Vitamin E, added': 0.0}\n",
      "URL: https://www.epicurious.com/recipes/food/views/herb-rice-with-green-garlic-saffron-and-crispy-shallots\n",
      "    \n"
     ]
    }
   ],
   "source": [
    "print(\\\n",
    "    \"\"\"\n",
    " BREAKFAST\n",
    "---------------------\n",
    "{rec1} (rating: {rat1})\n",
    "Ingredients: \n",
    "{ingr1}\n",
    "Nutrients:\n",
    "{nut1}\n",
    "URL: {url1}\n",
    "LUNCH\n",
    "---------------------\n",
    "{rec2} (rating: {rat2})\n",
    "Ingredients: \n",
    "{ingr2}\n",
    "Nutrients:\n",
    "{nut2}\n",
    "URL: {url2}\n",
    "DINNER\n",
    "---------------------\n",
    "{rec3} (rating: {rat3})\n",
    "Ingredients: \n",
    "{ingr3}\n",
    "Nutrients:\n",
    "{nut3}\n",
    "URL: {url3}\n",
    "    \"\"\"\n",
    ".format(rec1=rec1, rat1=rat1, ingr1=ingr1, nut1=nut1, url1=url1, rec2=rec2, rat2=rat2, ingr2=ingr2, nut2=nut2, url2=url2, rec3=rec3, rat3=rat3, ingr3=ingr3, nut3=nut3, url3=url3))"
   ]
  },
  {
   "cell_type": "code",
   "execution_count": null,
   "metadata": {},
   "outputs": [],
   "source": []
  }
 ],
 "metadata": {
  "interpreter": {
   "hash": "aee8b7b246df8f9039afb4144a1f6fd8d2ca17a180786b69acc140d282b71a49"
  },
  "kernelspec": {
   "display_name": "Python 3 (ipykernel)",
   "language": "python",
   "name": "python3"
  },
  "language_info": {
   "codemirror_mode": {
    "name": "ipython",
    "version": 3
   },
   "file_extension": ".py",
   "mimetype": "text/x-python",
   "name": "python",
   "nbconvert_exporter": "python",
   "pygments_lexer": "ipython3",
   "version": "3.9.10"
  }
 },
 "nbformat": 4,
 "nbformat_minor": 2
}
